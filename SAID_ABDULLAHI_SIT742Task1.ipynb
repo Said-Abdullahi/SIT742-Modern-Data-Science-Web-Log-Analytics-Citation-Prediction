{
  "nbformat": 4,
  "nbformat_minor": 0,
  "metadata": {
    "colab": {
      "provenance": [],
      "include_colab_link": true
    },
    "kernelspec": {
      "display_name": "Python 3",
      "language": "python",
      "name": "python3"
    },
    "language_info": {
      "codemirror_mode": {
        "name": "ipython",
        "version": 3
      },
      "file_extension": ".py",
      "mimetype": "text/x-python",
      "name": "python",
      "nbconvert_exporter": "python",
      "pygments_lexer": "ipython3",
      "version": "3.9.4"
    },
    "name": "SampleCode",
    "notebookId": 2691131752868967
  },
  "cells": [
    {
      "cell_type": "markdown",
      "metadata": {
        "id": "view-in-github",
        "colab_type": "text"
      },
      "source": [
        "<a href=\"https://colab.research.google.com/github/Said-Abdullahi/SIT742-Modern-Data-Science-Web-Log-Analytics-Citation-Prediction/blob/main/SAID_ABDULLAHI_SIT742Task1.ipynb\" target=\"_parent\"><img src=\"https://colab.research.google.com/assets/colab-badge.svg\" alt=\"Open In Colab\"/></a>"
      ]
    },
    {
      "cell_type": "markdown",
      "metadata": {
        "id": "3D514Ei_kSUS"
      },
      "source": [
        "# SIT742: Modern Data Science\n",
        "**(2021 Assessment Task 01 - Data Manipulation)**\n",
        "\n",
        "---\n",
        "- Please refer to the CloudDeakin for the detailed assessment requirements.\n",
        "- Please submit to Clouddeakin before the due date.\n",
        "- Students with difficulty in meeting the deadline because of illness, etc. must apply for an assignment extension in CloudDeakin no later than *12:00pm on 16/04/2022 (Friday)*.\n",
        "\n",
        "\n",
        "Prepared by **SIT742 Teaching Team**\n",
        "\n",
        "\n",
        "---\n",
        "\n",
        "<div class=\"alert alert-block alert-info\">\n",
        "Enter your information in the following cell. Please make sure you fill your Student ID and Name correctly.  \n",
        "</div>\n",
        "\n",
        "**Student Information:** Please fill your information below\n",
        "\n",
        "- Name:  Said Abdullahi\n",
        "- Student ID:  221377847\n",
        "- Email:  sabdullahi@deakin.edu.au\n",
        "- Lab Session and Tutor (for on campus students):\n",
        "\n",
        "---"
      ]
    },
    {
      "cell_type": "markdown",
      "metadata": {
        "id": "1X7L24t43CoU"
      },
      "source": [
        "# Part I - Web Log Data\n",
        "\n",
        "## Overview\n",
        "\n",
        "Hotel TULIP a five-star hotel located at Deakin University, and its CIO Dr Bear Guts has asked the Team-SIT742 team to analyse the weblogs files. As an employee for Hotel Tulip, working in the Information Technology Division, it is required to prepare a set of documentation for Team-SIT742 to allow them to understand the data being dealt with. Throughout this report, some source codes are to explore the weblog, which afterwards the information is presented to Dr Bear Guts in the format of a report.\n",
        "\n",
        "In this part, you are required to use give dataset to finish some required analysis, with the exploreation data analytics skills as well as visuilization skill.\n",
        "\n",
        "\n",
        "You will be required to complete the coding to answer the questions with a neat and clean format, and you must keep outputs for code. Your commenting and adherence to code standards will also be considered when marking. Further information on Python standards, please visit https://www.python.org/dev/peps/pep-0008/\n",
        "\n",
        "\n",
        "**Note**: You are not necessary to stick to the partial code provided, and you can write your own code to implement the required tasks. But you should provide sufficient comments.\n"
      ]
    },
    {
      "cell_type": "markdown",
      "metadata": {
        "id": "r85LNibZkSUZ"
      },
      "source": [
        "\n",
        "\n",
        "## 1.  Data ETL"
      ]
    },
    {
      "cell_type": "markdown",
      "metadata": {
        "id": "HtL_9QR27_Iu"
      },
      "source": [
        "### 1.1 Data Loading"
      ]
    },
    {
      "cell_type": "code",
      "metadata": {
        "id": "19EhpLspkSUZ"
      },
      "source": [
        "import matplotlib.pyplot as plt\n",
        "import numpy as np\n",
        "import pandas as pd\n",
        "import time\n",
        "import datetime\n",
        "from scipy import stats\n",
        "import matplotlib\n",
        "import glob\n",
        "import zipfile\n",
        "import os"
      ],
      "execution_count": null,
      "outputs": []
    },
    {
      "cell_type": "markdown",
      "metadata": {
        "id": "jY2Br4cBN956"
      },
      "source": [
        " <div class=\"alert alert-block alert-info\">\n",
        "\n",
        "**Code**:\n",
        "    You are required to load Hotel TULIP data into dataframe df_ht and check how many files are loaded.\n",
        "    <br>\n",
        "    *Keep the outputs for code in your notebook.\n",
        "</div>\n",
        "\n"
      ]
    },
    {
      "cell_type": "code",
      "metadata": {
        "id": "S9-mdxB0OeBe"
      },
      "source": [
        "import os\n",
        "\n",
        "# Create a folder in the current directory called data\n",
        "\n",
        "def createFolder(directory):\n",
        "    try:\n",
        "        if not os.path.exists(directory):\n",
        "            os.makedirs(directory)\n",
        "    except OSError:\n",
        "        print ('Error: Creating directory. ' +  directory)\n",
        "# name of the folder\n",
        "createFolder('./data/')"
      ],
      "execution_count": null,
      "outputs": []
    },
    {
      "cell_type": "code",
      "metadata": {
        "id": "IIB_xH-hOqEj"
      },
      "source": [
        "# Zipfile Module\n",
        "from zipfile import ZipFile\n",
        "\n",
        "# Open and List and Read the properties of a ZIP archive\n",
        "zipFile='/content/HTWebLog_p1.zip'\n",
        "all_files =ZipFile(zipFile, 'r')\n",
        "file_names = all_files.namelist()\n",
        "\n",
        "# Extract ZIP file contents\n",
        "\n",
        "with zipfile.ZipFile(zipFile,\"r\") as zip_ref:\n",
        "    zip_ref.extractall('/content/data')\n",
        "\n",
        "\n",
        "# Ensure that the file is closed\n",
        "zip_ref.close()"
      ],
      "execution_count": null,
      "outputs": []
    },
    {
      "cell_type": "code",
      "metadata": {
        "colab": {
          "base_uri": "https://localhost:8080/"
        },
        "id": "n-7xIF4ZOt3W",
        "outputId": "8b0bde53-0916-4f22-b70c-8a27ec8c73ec"
      },
      "source": [
        "# Get the number files in zip the folder\n",
        "\n",
        "file_counts=0\n",
        "for file in file_names:\n",
        "  file_counts=file_counts+1\n",
        "print(\"The number of files in the directory = \"+str(file_counts))"
      ],
      "execution_count": null,
      "outputs": [
        {
          "output_type": "stream",
          "text": [
            "The number of files in the directory = 120\n"
          ],
          "name": "stdout"
        }
      ]
    },
    {
      "cell_type": "code",
      "metadata": {
        "colab": {
          "base_uri": "https://localhost:8080/"
        },
        "id": "pE1-saUdO2cu",
        "outputId": "c2de6f6c-927e-402b-9eba-fe81ffabf3ba"
      },
      "source": [
        "# get the directory path\n",
        "relative_path='./data/'\n",
        "path =os.path.join(os.getcwd(),relative_path)\n",
        "print(path)"
      ],
      "execution_count": null,
      "outputs": [
        {
          "output_type": "stream",
          "text": [
            "/content/./data/\n"
          ],
          "name": "stdout"
        }
      ]
    },
    {
      "cell_type": "code",
      "metadata": {
        "colab": {
          "base_uri": "https://localhost:8080/"
        },
        "id": "fmHv8EpqPDY6",
        "outputId": "d393b858-2f2a-4355-fdf4-046dafd467d4"
      },
      "source": [
        "# Creating your header\n",
        "header_list = [\"date\", \"time\", \"s-sitename\", \"s-ip\", \"cs-method\", \"cs-uri-stem\", \"cs-uri-query\", \"s-port\", \"cs-username\", \"c-ip\", \"cs(User-Agent)\", \"cs(Referer)\", \"sc-status\", \"sc-substatus\", \"sc-win32-status\"]\n",
        "# Creating your mising values data\n",
        "missing_values = ('na', 'NaN', '-')\n",
        "\n",
        "#creating an empty list to capture our read data\n",
        "li=[]\n",
        "# Reading  Comma Separate Values files with Panda and creating a dataFrame\n",
        "for file in file_names:\n",
        "    df = pd.read_csv(path+file, encoding='latin1',names=header_list, na_values=missing_values, index_col=False, delim_whitespace=True,skiprows=4)\n",
        "    df.drop(index=[0, 4],inplace=True)\n",
        "    li.append(df)"
      ],
      "execution_count": null,
      "outputs": [
        {
          "output_type": "stream",
          "text": [
            "/usr/local/lib/python3.7/dist-packages/IPython/core/interactiveshell.py:2718: DtypeWarning: Columns (7,8,12,13,14) have mixed types.Specify dtype option on import or set low_memory=False.\n",
            "  interactivity=interactivity, compiler=compiler, result=result)\n"
          ],
          "name": "stderr"
        }
      ]
    },
    {
      "cell_type": "code",
      "metadata": {
        "id": "FtEwiG77PLio"
      },
      "source": [
        "#Concatenate files into a data frame\n",
        "df_ht = pd.concat(li, axis=0, ignore_index=True)"
      ],
      "execution_count": null,
      "outputs": []
    },
    {
      "cell_type": "code",
      "metadata": {
        "colab": {
          "base_uri": "https://localhost:8080/"
        },
        "id": "Wn6hPsGYPcuh",
        "outputId": "8ef8cde1-d378-41e2-f064-88fdf68870a1"
      },
      "source": [
        "#check there is no bad headers\n",
        "bad_data=['#Fields:','#Software:','#Version:',\"#Date:\"]\n",
        "\n",
        "for bad_item in bad_data:\n",
        "  print(df_ht[df_ht['date']==bad_item])"
      ],
      "execution_count": null,
      "outputs": [
        {
          "output_type": "stream",
          "text": [
            "             date  time s-sitename  ...    sc-status sc-substatus sc-win32-status\n",
            "9885     #Fields:  date       time  ...  cs(Referer)    sc-status    sc-substatus\n",
            "1016261  #Fields:  date       time  ...  cs(Referer)    sc-status    sc-substatus\n",
            "1302836  #Fields:  date       time  ...  cs(Referer)    sc-status    sc-substatus\n",
            "2196003  #Fields:  date       time  ...  cs(Referer)    sc-status    sc-substatus\n",
            "2372899  #Fields:  date       time  ...  cs(Referer)    sc-status    sc-substatus\n",
            "2443857  #Fields:  date       time  ...  cs(Referer)    sc-status    sc-substatus\n",
            "2444094  #Fields:  date       time  ...  cs(Referer)    sc-status    sc-substatus\n",
            "3516777  #Fields:  date       time  ...  cs(Referer)    sc-status    sc-substatus\n",
            "3908623  #Fields:  date       time  ...  cs(Referer)    sc-status    sc-substatus\n",
            "5994604  #Fields:  date       time  ...  cs(Referer)    sc-status    sc-substatus\n",
            "7887804  #Fields:  date       time  ...  cs(Referer)    sc-status    sc-substatus\n",
            "8056856  #Fields:  date       time  ...  cs(Referer)    sc-status    sc-substatus\n",
            "\n",
            "[12 rows x 15 columns]\n",
            "               date       time  ... sc-substatus sc-win32-status\n",
            "9882     #Software:  Microsoft  ...          NaN             NaN\n",
            "1016258  #Software:  Microsoft  ...          NaN             NaN\n",
            "1302833  #Software:  Microsoft  ...          NaN             NaN\n",
            "2196000  #Software:  Microsoft  ...          NaN             NaN\n",
            "2372896  #Software:  Microsoft  ...          NaN             NaN\n",
            "2443854  #Software:  Microsoft  ...          NaN             NaN\n",
            "2444091  #Software:  Microsoft  ...          NaN             NaN\n",
            "3516774  #Software:  Microsoft  ...          NaN             NaN\n",
            "3908620  #Software:  Microsoft  ...          NaN             NaN\n",
            "5994601  #Software:  Microsoft  ...          NaN             NaN\n",
            "7887801  #Software:  Microsoft  ...          NaN             NaN\n",
            "8056853  #Software:  Microsoft  ...          NaN             NaN\n",
            "\n",
            "[12 rows x 15 columns]\n",
            "              date time s-sitename  ... sc-status sc-substatus sc-win32-status\n",
            "9883     #Version:  1.0        NaN  ...       NaN          NaN             NaN\n",
            "1016259  #Version:  1.0        NaN  ...       NaN          NaN             NaN\n",
            "1302834  #Version:  1.0        NaN  ...       NaN          NaN             NaN\n",
            "2196001  #Version:  1.0        NaN  ...       NaN          NaN             NaN\n",
            "2372897  #Version:  1.0        NaN  ...       NaN          NaN             NaN\n",
            "2443855  #Version:  1.0        NaN  ...       NaN          NaN             NaN\n",
            "2444092  #Version:  1.0        NaN  ...       NaN          NaN             NaN\n",
            "3516775  #Version:  1.0        NaN  ...       NaN          NaN             NaN\n",
            "3908621  #Version:  1.0        NaN  ...       NaN          NaN             NaN\n",
            "5994602  #Version:  1.0        NaN  ...       NaN          NaN             NaN\n",
            "7887802  #Version:  1.0        NaN  ...       NaN          NaN             NaN\n",
            "8056854  #Version:  1.0        NaN  ...       NaN          NaN             NaN\n",
            "\n",
            "[12 rows x 15 columns]\n",
            "           date        time s-sitename  ... sc-status sc-substatus sc-win32-status\n",
            "9884     #Date:  2006-11-01   04:19:47  ...       NaN          NaN             NaN\n",
            "1016260  #Date:  2006-11-15   19:10:23  ...       NaN          NaN             NaN\n",
            "1302835  #Date:  2006-11-19   20:26:44  ...       NaN          NaN             NaN\n",
            "2196002  #Date:  2006-11-29   23:01:48  ...       NaN          NaN             NaN\n",
            "2372898  #Date:  2006-12-01   12:18:13  ...       NaN          NaN             NaN\n",
            "2443856  #Date:  2006-12-02   14:59:02  ...       NaN          NaN             NaN\n",
            "2444093  #Date:  2006-12-02   15:27:52  ...       NaN          NaN             NaN\n",
            "3516776  #Date:  2006-12-13   19:09:59  ...       NaN          NaN             NaN\n",
            "3908622  #Date:  2006-12-18   10:43:56  ...       NaN          NaN             NaN\n",
            "5994603  #Date:  2007-01-20   22:47:17  ...       NaN          NaN             NaN\n",
            "7887803  #Date:  2007-02-17   19:11:29  ...       NaN          NaN             NaN\n",
            "8056855  #Date:  2007-02-21   23:00:00  ...       NaN          NaN             NaN\n",
            "\n",
            "[12 rows x 15 columns]\n"
          ],
          "name": "stdout"
        }
      ]
    },
    {
      "cell_type": "code",
      "metadata": {
        "id": "YqZqnxPrPfjq"
      },
      "source": [
        "#Get all the index of bad headers in order to delete it later\n",
        "\n",
        "index_names1 = df_ht[ df_ht['date'] == '#Fields:' ].index\n",
        "index_names2 = df_ht[ df_ht['date'] == '#Software:' ].index\n",
        "index_names3 = df_ht[ df_ht['date'] == '#Version:' ].index\n",
        "index_names4 = df_ht[ df_ht['date'] == '#Date:' ].index"
      ],
      "execution_count": null,
      "outputs": []
    },
    {
      "cell_type": "code",
      "metadata": {
        "id": "Wu0jk14BPmcd"
      },
      "source": [
        "# drop these row indexes\n",
        "# from dataFrame\n",
        "df_ht.drop(index_names1, inplace = True)\n",
        "df_ht.drop(index_names2, inplace = True)\n",
        "df_ht.drop(index_names3, inplace = True)\n",
        "df_ht.drop(index_names4, inplace = True)"
      ],
      "execution_count": null,
      "outputs": []
    },
    {
      "cell_type": "code",
      "metadata": {
        "colab": {
          "base_uri": "https://localhost:8080/",
          "height": 101
        },
        "id": "u9QgFiu9PyKw",
        "outputId": "2fca3c26-132c-45be-ea48-41120e835c7c"
      },
      "source": [
        "#bad=['#Fields:','#Software:','#Version:','#Date:']\n",
        "#check there is no duplicates headers\n",
        "df_ht[df_ht['date']=='#Fields:']\n",
        "df_ht[df_ht['date']== '#Software:']\n",
        "df_ht[df_ht['date']=='#Version:']\n",
        "df_ht[df_ht['date']=='#Date:']"
      ],
      "execution_count": null,
      "outputs": [
        {
          "output_type": "execute_result",
          "data": {
            "text/html": [
              "<div>\n",
              "<style scoped>\n",
              "    .dataframe tbody tr th:only-of-type {\n",
              "        vertical-align: middle;\n",
              "    }\n",
              "\n",
              "    .dataframe tbody tr th {\n",
              "        vertical-align: top;\n",
              "    }\n",
              "\n",
              "    .dataframe thead th {\n",
              "        text-align: right;\n",
              "    }\n",
              "</style>\n",
              "<table border=\"1\" class=\"dataframe\">\n",
              "  <thead>\n",
              "    <tr style=\"text-align: right;\">\n",
              "      <th></th>\n",
              "      <th>date</th>\n",
              "      <th>time</th>\n",
              "      <th>s-sitename</th>\n",
              "      <th>s-ip</th>\n",
              "      <th>cs-method</th>\n",
              "      <th>cs-uri-stem</th>\n",
              "      <th>cs-uri-query</th>\n",
              "      <th>s-port</th>\n",
              "      <th>cs-username</th>\n",
              "      <th>c-ip</th>\n",
              "      <th>cs(User-Agent)</th>\n",
              "      <th>cs(Referer)</th>\n",
              "      <th>sc-status</th>\n",
              "      <th>sc-substatus</th>\n",
              "      <th>sc-win32-status</th>\n",
              "    </tr>\n",
              "  </thead>\n",
              "  <tbody>\n",
              "  </tbody>\n",
              "</table>\n",
              "</div>"
            ],
            "text/plain": [
              "Empty DataFrame\n",
              "Columns: [date, time, s-sitename, s-ip, cs-method, cs-uri-stem, cs-uri-query, s-port, cs-username, c-ip, cs(User-Agent), cs(Referer), sc-status, sc-substatus, sc-win32-status]\n",
              "Index: []"
            ]
          },
          "metadata": {
            "tags": []
          },
          "execution_count": 12
        }
      ]
    },
    {
      "cell_type": "code",
      "metadata": {
        "colab": {
          "base_uri": "https://localhost:8080/",
          "height": 333
        },
        "id": "-HeDmdjlx0GA",
        "outputId": "543325d9-d2ec-4534-8959-5932e1c2bee4"
      },
      "source": [
        "df_ht.head()"
      ],
      "execution_count": null,
      "outputs": [
        {
          "output_type": "execute_result",
          "data": {
            "text/html": [
              "<div>\n",
              "<style scoped>\n",
              "    .dataframe tbody tr th:only-of-type {\n",
              "        vertical-align: middle;\n",
              "    }\n",
              "\n",
              "    .dataframe tbody tr th {\n",
              "        vertical-align: top;\n",
              "    }\n",
              "\n",
              "    .dataframe thead th {\n",
              "        text-align: right;\n",
              "    }\n",
              "</style>\n",
              "<table border=\"1\" class=\"dataframe\">\n",
              "  <thead>\n",
              "    <tr style=\"text-align: right;\">\n",
              "      <th></th>\n",
              "      <th>date</th>\n",
              "      <th>time</th>\n",
              "      <th>s-sitename</th>\n",
              "      <th>s-ip</th>\n",
              "      <th>cs-method</th>\n",
              "      <th>cs-uri-stem</th>\n",
              "      <th>cs-uri-query</th>\n",
              "      <th>s-port</th>\n",
              "      <th>cs-username</th>\n",
              "      <th>c-ip</th>\n",
              "      <th>cs(User-Agent)</th>\n",
              "      <th>cs(Referer)</th>\n",
              "      <th>sc-status</th>\n",
              "      <th>sc-substatus</th>\n",
              "      <th>sc-win32-status</th>\n",
              "    </tr>\n",
              "  </thead>\n",
              "  <tbody>\n",
              "    <tr>\n",
              "      <th>0</th>\n",
              "      <td>2006-11-01</td>\n",
              "      <td>00:00:08</td>\n",
              "      <td>W3SVC1</td>\n",
              "      <td>127.0.0.1</td>\n",
              "      <td>GET</td>\n",
              "      <td>/Tulip/home/en-us/home_index.aspx</td>\n",
              "      <td>NaN</td>\n",
              "      <td>80</td>\n",
              "      <td>NaN</td>\n",
              "      <td>70.80.84.76</td>\n",
              "      <td>Mozilla/4.0+(compatible;+MSIE+6.0;+Windows+NT+...</td>\n",
              "      <td>NaN</td>\n",
              "      <td>200</td>\n",
              "      <td>0</td>\n",
              "      <td>0</td>\n",
              "    </tr>\n",
              "    <tr>\n",
              "      <th>1</th>\n",
              "      <td>2006-11-01</td>\n",
              "      <td>00:00:08</td>\n",
              "      <td>W3SVC1</td>\n",
              "      <td>127.0.0.1</td>\n",
              "      <td>GET</td>\n",
              "      <td>/Tulip/includes/js/CommonUtil.js</td>\n",
              "      <td>NaN</td>\n",
              "      <td>80</td>\n",
              "      <td>NaN</td>\n",
              "      <td>70.80.84.76</td>\n",
              "      <td>Mozilla/4.0+(compatible;+MSIE+6.0;+Windows+NT+...</td>\n",
              "      <td>http://www.hotelTulip.com.hk/Tulip/home/en-us/...</td>\n",
              "      <td>200</td>\n",
              "      <td>0</td>\n",
              "      <td>0</td>\n",
              "    </tr>\n",
              "    <tr>\n",
              "      <th>2</th>\n",
              "      <td>2006-11-01</td>\n",
              "      <td>00:00:09</td>\n",
              "      <td>W3SVC1</td>\n",
              "      <td>127.0.0.1</td>\n",
              "      <td>GET</td>\n",
              "      <td>/Tulip/common/common_style.aspx</td>\n",
              "      <td>lang=en-us</td>\n",
              "      <td>80</td>\n",
              "      <td>NaN</td>\n",
              "      <td>70.80.84.76</td>\n",
              "      <td>Mozilla/4.0+(compatible;+MSIE+6.0;+Windows+NT+...</td>\n",
              "      <td>http://www.hotelTulip.com.hk/Tulip/home/en-us/...</td>\n",
              "      <td>200</td>\n",
              "      <td>0</td>\n",
              "      <td>0</td>\n",
              "    </tr>\n",
              "    <tr>\n",
              "      <th>3</th>\n",
              "      <td>2006-11-01</td>\n",
              "      <td>00:00:09</td>\n",
              "      <td>W3SVC1</td>\n",
              "      <td>127.0.0.1</td>\n",
              "      <td>GET</td>\n",
              "      <td>/Tulip/common/en-us/images/top_logo.gif</td>\n",
              "      <td>NaN</td>\n",
              "      <td>80</td>\n",
              "      <td>NaN</td>\n",
              "      <td>70.80.84.76</td>\n",
              "      <td>Mozilla/4.0+(compatible;+MSIE+6.0;+Windows+NT+...</td>\n",
              "      <td>http://www.hotelTulip.com.hk/Tulip/home/en-us/...</td>\n",
              "      <td>200</td>\n",
              "      <td>0</td>\n",
              "      <td>0</td>\n",
              "    </tr>\n",
              "    <tr>\n",
              "      <th>4</th>\n",
              "      <td>2006-11-01</td>\n",
              "      <td>00:00:09</td>\n",
              "      <td>W3SVC1</td>\n",
              "      <td>127.0.0.1</td>\n",
              "      <td>GET</td>\n",
              "      <td>/Tulip/common/en-us/images/topmenu_reservation...</td>\n",
              "      <td>NaN</td>\n",
              "      <td>80</td>\n",
              "      <td>NaN</td>\n",
              "      <td>70.80.84.76</td>\n",
              "      <td>Mozilla/4.0+(compatible;+MSIE+6.0;+Windows+NT+...</td>\n",
              "      <td>http://www.hotelTulip.com.hk/Tulip/home/en-us/...</td>\n",
              "      <td>200</td>\n",
              "      <td>0</td>\n",
              "      <td>0</td>\n",
              "    </tr>\n",
              "  </tbody>\n",
              "</table>\n",
              "</div>"
            ],
            "text/plain": [
              "         date      time s-sitename  ... sc-status sc-substatus sc-win32-status\n",
              "0  2006-11-01  00:00:08     W3SVC1  ...       200            0               0\n",
              "1  2006-11-01  00:00:08     W3SVC1  ...       200            0               0\n",
              "2  2006-11-01  00:00:09     W3SVC1  ...       200            0               0\n",
              "3  2006-11-01  00:00:09     W3SVC1  ...       200            0               0\n",
              "4  2006-11-01  00:00:09     W3SVC1  ...       200            0               0\n",
              "\n",
              "[5 rows x 15 columns]"
            ]
          },
          "metadata": {
            "tags": []
          },
          "execution_count": 11
        }
      ]
    },
    {
      "cell_type": "markdown",
      "metadata": {
        "id": "Dyt9lwm_QKFV"
      },
      "source": [
        " <div class=\"alert alert-block alert-info\">\n",
        "\n",
        "**Code**:\n",
        "    Check the data statistics and general information by printing its top 5 rows.\n",
        "    <br>\n",
        "    *Keep the outputs for code in your notebook.\n",
        "</div>\n",
        "\n",
        "<div class=\"alert alert-block alert-warning\">\n",
        "    \n",
        "**Report**:\n",
        "    **Part I 1.1** Please include your result for this coding task into your SIT742-DataDictionary.xlsx, then add to your report - Part I with proper section title '1.1.1' and '1.1.2'.\n",
        "</div>\n",
        "    </div>\n"
      ]
    },
    {
      "cell_type": "code",
      "metadata": {
        "id": "1h7LqSGgQRUb",
        "colab": {
          "base_uri": "https://localhost:8080/"
        },
        "outputId": "edee58e6-87fd-48d2-d588-fdf50fbfd314"
      },
      "source": [
        "# Display all columns and their data types\n",
        "df_ht.info()"
      ],
      "execution_count": null,
      "outputs": [
        {
          "output_type": "stream",
          "text": [
            "<class 'pandas.core.frame.DataFrame'>\n",
            "Int64Index: 8438688 entries, 0 to 8438735\n",
            "Data columns (total 15 columns):\n",
            " #   Column           Dtype \n",
            "---  ------           ----- \n",
            " 0   date             object\n",
            " 1   time             object\n",
            " 2   s-sitename       object\n",
            " 3   s-ip             object\n",
            " 4   cs-method        object\n",
            " 5   cs-uri-stem      object\n",
            " 6   cs-uri-query     object\n",
            " 7   s-port           object\n",
            " 8   cs-username      object\n",
            " 9   c-ip             object\n",
            " 10  cs(User-Agent)   object\n",
            " 11  cs(Referer)      object\n",
            " 12  sc-status        object\n",
            " 13  sc-substatus     object\n",
            " 14  sc-win32-status  object\n",
            "dtypes: object(15)\n",
            "memory usage: 1.0+ GB\n"
          ],
          "name": "stdout"
        }
      ]
    },
    {
      "cell_type": "code",
      "metadata": {
        "colab": {
          "base_uri": "https://localhost:8080/",
          "height": 244
        },
        "id": "f8gvt7eoR5Gu",
        "outputId": "a1e17692-336a-4540-b35a-0b90910000d4"
      },
      "source": [
        "# Show basic statistics\n",
        "df_ht.describe(include=np.object)"
      ],
      "execution_count": null,
      "outputs": [
        {
          "output_type": "execute_result",
          "data": {
            "text/html": [
              "<div>\n",
              "<style scoped>\n",
              "    .dataframe tbody tr th:only-of-type {\n",
              "        vertical-align: middle;\n",
              "    }\n",
              "\n",
              "    .dataframe tbody tr th {\n",
              "        vertical-align: top;\n",
              "    }\n",
              "\n",
              "    .dataframe thead th {\n",
              "        text-align: right;\n",
              "    }\n",
              "</style>\n",
              "<table border=\"1\" class=\"dataframe\">\n",
              "  <thead>\n",
              "    <tr style=\"text-align: right;\">\n",
              "      <th></th>\n",
              "      <th>date</th>\n",
              "      <th>time</th>\n",
              "      <th>s-sitename</th>\n",
              "      <th>s-ip</th>\n",
              "      <th>cs-method</th>\n",
              "      <th>cs-uri-stem</th>\n",
              "      <th>cs-uri-query</th>\n",
              "      <th>s-port</th>\n",
              "      <th>cs-username</th>\n",
              "      <th>c-ip</th>\n",
              "      <th>cs(User-Agent)</th>\n",
              "      <th>cs(Referer)</th>\n",
              "      <th>sc-status</th>\n",
              "      <th>sc-substatus</th>\n",
              "      <th>sc-win32-status</th>\n",
              "    </tr>\n",
              "  </thead>\n",
              "  <tbody>\n",
              "    <tr>\n",
              "      <th>count</th>\n",
              "      <td>8438688</td>\n",
              "      <td>8438688</td>\n",
              "      <td>8438688</td>\n",
              "      <td>8438688</td>\n",
              "      <td>8438688</td>\n",
              "      <td>8438688</td>\n",
              "      <td>552368</td>\n",
              "      <td>8438688</td>\n",
              "      <td>0</td>\n",
              "      <td>8438688</td>\n",
              "      <td>8435161</td>\n",
              "      <td>7129821</td>\n",
              "      <td>8438688</td>\n",
              "      <td>8438688</td>\n",
              "      <td>8438688</td>\n",
              "    </tr>\n",
              "    <tr>\n",
              "      <th>unique</th>\n",
              "      <td>121</td>\n",
              "      <td>86372</td>\n",
              "      <td>1</td>\n",
              "      <td>1</td>\n",
              "      <td>6</td>\n",
              "      <td>4761</td>\n",
              "      <td>1987</td>\n",
              "      <td>2</td>\n",
              "      <td>0</td>\n",
              "      <td>74546</td>\n",
              "      <td>4958</td>\n",
              "      <td>39708</td>\n",
              "      <td>23</td>\n",
              "      <td>7</td>\n",
              "      <td>25</td>\n",
              "    </tr>\n",
              "    <tr>\n",
              "      <th>top</th>\n",
              "      <td>2006-12-12</td>\n",
              "      <td>08:37:00</td>\n",
              "      <td>W3SVC1</td>\n",
              "      <td>127.0.0.1</td>\n",
              "      <td>GET</td>\n",
              "      <td>/Tulip/common/common_style.aspx</td>\n",
              "      <td>lang=en-us</td>\n",
              "      <td>80</td>\n",
              "      <td>NaN</td>\n",
              "      <td>59.188.33.66</td>\n",
              "      <td>Mozilla/4.0+(compatible;+MSIE+6.0;+Windows+NT+...</td>\n",
              "      <td>http://www.hotelTulip.com.hk/Tulip/home/en-us/...</td>\n",
              "      <td>200</td>\n",
              "      <td>0</td>\n",
              "      <td>0</td>\n",
              "    </tr>\n",
              "    <tr>\n",
              "      <th>freq</th>\n",
              "      <td>120188</td>\n",
              "      <td>382</td>\n",
              "      <td>8438688</td>\n",
              "      <td>8438688</td>\n",
              "      <td>8421749</td>\n",
              "      <td>402975</td>\n",
              "      <td>231254</td>\n",
              "      <td>7934235</td>\n",
              "      <td>NaN</td>\n",
              "      <td>93765</td>\n",
              "      <td>1982198</td>\n",
              "      <td>1618614</td>\n",
              "      <td>5719922</td>\n",
              "      <td>7933580</td>\n",
              "      <td>7575584</td>\n",
              "    </tr>\n",
              "  </tbody>\n",
              "</table>\n",
              "</div>"
            ],
            "text/plain": [
              "              date      time  ... sc-substatus sc-win32-status\n",
              "count      8438688   8438688  ...      8438688         8438688\n",
              "unique         121     86372  ...            7              25\n",
              "top     2006-12-12  08:37:00  ...            0               0\n",
              "freq        120188       382  ...      7933580         7575584\n",
              "\n",
              "[4 rows x 15 columns]"
            ]
          },
          "metadata": {
            "tags": []
          },
          "execution_count": 48
        }
      ]
    },
    {
      "cell_type": "markdown",
      "metadata": {
        "id": "jDUDzs7lkSUa"
      },
      "source": [
        "### 1.2 Data Cleaning"
      ]
    },
    {
      "cell_type": "markdown",
      "metadata": {
        "id": "En0WOURqp7dB"
      },
      "source": [
        "#### Remove all NAs from data"
      ]
    },
    {
      "cell_type": "markdown",
      "metadata": {
        "id": "Efxzawa7Xdv9"
      },
      "source": [
        "\n",
        "<div class=\"alert alert-block alert-warning\">\n",
        "\n",
        "**Code**:\n",
        "    1. Check which columns have NAs, <br>\n",
        "    2. For each of those columns, display the number of NA records, <br>\n",
        "    3. Remove all records with any NAs.\n",
        "    <br>\n",
        "    *Keep the outputs for code in your notebook.\n",
        "</div>\n",
        "\n",
        "<div class=\"alert alert-block alert-warning\">\n",
        "    \n",
        "**Report**:\n",
        "    **Part I 1.2** Please include your result for this coding task into your report Part I, with proper section title '1.2'.\n",
        "</div>\n",
        "    </div>\n"
      ]
    },
    {
      "cell_type": "code",
      "metadata": {
        "id": "GX3BeD361pTw",
        "colab": {
          "base_uri": "https://localhost:8080/"
        },
        "outputId": "9dbc744d-6902-45ae-870f-b34fbfb831f2"
      },
      "source": [
        "# Check all NAs from data\n",
        "\n",
        "df_ht_missing = df_ht.isna()\n",
        "df_ht_missing.sum()"
      ],
      "execution_count": null,
      "outputs": [
        {
          "output_type": "execute_result",
          "data": {
            "text/plain": [
              "date                     0\n",
              "time                     0\n",
              "s-sitename               0\n",
              "s-ip                     0\n",
              "cs-method                0\n",
              "cs-uri-stem              0\n",
              "cs-uri-query       7886320\n",
              "s-port                   0\n",
              "cs-username        8438688\n",
              "c-ip                     0\n",
              "cs(User-Agent)        3527\n",
              "cs(Referer)        1308867\n",
              "sc-status                0\n",
              "sc-substatus             0\n",
              "sc-win32-status          0\n",
              "dtype: int64"
            ]
          },
          "metadata": {
            "tags": []
          },
          "execution_count": 16
        }
      ]
    },
    {
      "cell_type": "code",
      "metadata": {
        "id": "91nGhdGfS0PG"
      },
      "source": [
        "# delete columns with NA more than 15% which cs-uri-query, cs-username, cs(Referer)\n",
        "\n",
        "del df_ht['cs-uri-query']\n",
        "del df_ht['cs-username']\n",
        "del df_ht['cs(Referer)']\n"
      ],
      "execution_count": null,
      "outputs": []
    },
    {
      "cell_type": "code",
      "metadata": {
        "id": "w9nACmWegslZ",
        "colab": {
          "base_uri": "https://localhost:8080/",
          "height": 333
        },
        "outputId": "c3935712-47c3-4e77-c7df-e43a0ac619e2"
      },
      "source": [
        "#Check if columns are deleted\n",
        "df_ht.head()"
      ],
      "execution_count": null,
      "outputs": [
        {
          "output_type": "execute_result",
          "data": {
            "text/html": [
              "<div>\n",
              "<style scoped>\n",
              "    .dataframe tbody tr th:only-of-type {\n",
              "        vertical-align: middle;\n",
              "    }\n",
              "\n",
              "    .dataframe tbody tr th {\n",
              "        vertical-align: top;\n",
              "    }\n",
              "\n",
              "    .dataframe thead th {\n",
              "        text-align: right;\n",
              "    }\n",
              "</style>\n",
              "<table border=\"1\" class=\"dataframe\">\n",
              "  <thead>\n",
              "    <tr style=\"text-align: right;\">\n",
              "      <th></th>\n",
              "      <th>date</th>\n",
              "      <th>time</th>\n",
              "      <th>s-sitename</th>\n",
              "      <th>s-ip</th>\n",
              "      <th>cs-method</th>\n",
              "      <th>cs-uri-stem</th>\n",
              "      <th>s-port</th>\n",
              "      <th>c-ip</th>\n",
              "      <th>cs(User-Agent)</th>\n",
              "      <th>sc-status</th>\n",
              "      <th>sc-substatus</th>\n",
              "      <th>sc-win32-status</th>\n",
              "    </tr>\n",
              "  </thead>\n",
              "  <tbody>\n",
              "    <tr>\n",
              "      <th>0</th>\n",
              "      <td>2006-11-01</td>\n",
              "      <td>00:00:08</td>\n",
              "      <td>W3SVC1</td>\n",
              "      <td>127.0.0.1</td>\n",
              "      <td>GET</td>\n",
              "      <td>/Tulip/home/en-us/home_index.aspx</td>\n",
              "      <td>80</td>\n",
              "      <td>70.80.84.76</td>\n",
              "      <td>Mozilla/4.0+(compatible;+MSIE+6.0;+Windows+NT+...</td>\n",
              "      <td>200</td>\n",
              "      <td>0</td>\n",
              "      <td>0</td>\n",
              "    </tr>\n",
              "    <tr>\n",
              "      <th>1</th>\n",
              "      <td>2006-11-01</td>\n",
              "      <td>00:00:08</td>\n",
              "      <td>W3SVC1</td>\n",
              "      <td>127.0.0.1</td>\n",
              "      <td>GET</td>\n",
              "      <td>/Tulip/includes/js/CommonUtil.js</td>\n",
              "      <td>80</td>\n",
              "      <td>70.80.84.76</td>\n",
              "      <td>Mozilla/4.0+(compatible;+MSIE+6.0;+Windows+NT+...</td>\n",
              "      <td>200</td>\n",
              "      <td>0</td>\n",
              "      <td>0</td>\n",
              "    </tr>\n",
              "    <tr>\n",
              "      <th>2</th>\n",
              "      <td>2006-11-01</td>\n",
              "      <td>00:00:09</td>\n",
              "      <td>W3SVC1</td>\n",
              "      <td>127.0.0.1</td>\n",
              "      <td>GET</td>\n",
              "      <td>/Tulip/common/common_style.aspx</td>\n",
              "      <td>80</td>\n",
              "      <td>70.80.84.76</td>\n",
              "      <td>Mozilla/4.0+(compatible;+MSIE+6.0;+Windows+NT+...</td>\n",
              "      <td>200</td>\n",
              "      <td>0</td>\n",
              "      <td>0</td>\n",
              "    </tr>\n",
              "    <tr>\n",
              "      <th>3</th>\n",
              "      <td>2006-11-01</td>\n",
              "      <td>00:00:09</td>\n",
              "      <td>W3SVC1</td>\n",
              "      <td>127.0.0.1</td>\n",
              "      <td>GET</td>\n",
              "      <td>/Tulip/common/en-us/images/top_logo.gif</td>\n",
              "      <td>80</td>\n",
              "      <td>70.80.84.76</td>\n",
              "      <td>Mozilla/4.0+(compatible;+MSIE+6.0;+Windows+NT+...</td>\n",
              "      <td>200</td>\n",
              "      <td>0</td>\n",
              "      <td>0</td>\n",
              "    </tr>\n",
              "    <tr>\n",
              "      <th>4</th>\n",
              "      <td>2006-11-01</td>\n",
              "      <td>00:00:09</td>\n",
              "      <td>W3SVC1</td>\n",
              "      <td>127.0.0.1</td>\n",
              "      <td>GET</td>\n",
              "      <td>/Tulip/common/en-us/images/topmenu_reservation...</td>\n",
              "      <td>80</td>\n",
              "      <td>70.80.84.76</td>\n",
              "      <td>Mozilla/4.0+(compatible;+MSIE+6.0;+Windows+NT+...</td>\n",
              "      <td>200</td>\n",
              "      <td>0</td>\n",
              "      <td>0</td>\n",
              "    </tr>\n",
              "  </tbody>\n",
              "</table>\n",
              "</div>"
            ],
            "text/plain": [
              "         date      time s-sitename  ... sc-status sc-substatus sc-win32-status\n",
              "0  2006-11-01  00:00:08     W3SVC1  ...       200            0               0\n",
              "1  2006-11-01  00:00:08     W3SVC1  ...       200            0               0\n",
              "2  2006-11-01  00:00:09     W3SVC1  ...       200            0               0\n",
              "3  2006-11-01  00:00:09     W3SVC1  ...       200            0               0\n",
              "4  2006-11-01  00:00:09     W3SVC1  ...       200            0               0\n",
              "\n",
              "[5 rows x 12 columns]"
            ]
          },
          "metadata": {
            "tags": []
          },
          "execution_count": 18
        }
      ]
    },
    {
      "cell_type": "code",
      "metadata": {
        "colab": {
          "base_uri": "https://localhost:8080/"
        },
        "id": "2zAIwvS7Tj1V",
        "outputId": "27b2fb5f-a8ad-433f-bea1-92e6c7740b23"
      },
      "source": [
        "# Delete all rows with NA\n",
        "df_ht = df_ht.dropna()\n",
        "\n",
        "#Check if NA deleted\n",
        "\n",
        "df_ht_missing_deleted = df_ht.isna()\n",
        "df_ht_missing_deleted.sum()"
      ],
      "execution_count": null,
      "outputs": [
        {
          "output_type": "execute_result",
          "data": {
            "text/plain": [
              "date               0\n",
              "time               0\n",
              "s-sitename         0\n",
              "s-ip               0\n",
              "cs-method          0\n",
              "cs-uri-stem        0\n",
              "s-port             0\n",
              "c-ip               0\n",
              "cs(User-Agent)     0\n",
              "sc-status          0\n",
              "sc-substatus       0\n",
              "sc-win32-status    0\n",
              "dtype: int64"
            ]
          },
          "metadata": {
            "tags": []
          },
          "execution_count": 13
        }
      ]
    },
    {
      "cell_type": "code",
      "metadata": {
        "id": "Wetm2OvvetYX",
        "colab": {
          "base_uri": "https://localhost:8080/",
          "height": 333
        },
        "outputId": "a011769d-fd33-4d60-93c8-b82f7265486a"
      },
      "source": [
        "#Check if columns are deleted\n",
        "df_ht.head()"
      ],
      "execution_count": null,
      "outputs": [
        {
          "output_type": "execute_result",
          "data": {
            "text/html": [
              "<div>\n",
              "<style scoped>\n",
              "    .dataframe tbody tr th:only-of-type {\n",
              "        vertical-align: middle;\n",
              "    }\n",
              "\n",
              "    .dataframe tbody tr th {\n",
              "        vertical-align: top;\n",
              "    }\n",
              "\n",
              "    .dataframe thead th {\n",
              "        text-align: right;\n",
              "    }\n",
              "</style>\n",
              "<table border=\"1\" class=\"dataframe\">\n",
              "  <thead>\n",
              "    <tr style=\"text-align: right;\">\n",
              "      <th></th>\n",
              "      <th>date</th>\n",
              "      <th>time</th>\n",
              "      <th>s-sitename</th>\n",
              "      <th>s-ip</th>\n",
              "      <th>cs-method</th>\n",
              "      <th>cs-uri-stem</th>\n",
              "      <th>s-port</th>\n",
              "      <th>c-ip</th>\n",
              "      <th>cs(User-Agent)</th>\n",
              "      <th>sc-status</th>\n",
              "      <th>sc-substatus</th>\n",
              "      <th>sc-win32-status</th>\n",
              "    </tr>\n",
              "  </thead>\n",
              "  <tbody>\n",
              "    <tr>\n",
              "      <th>0</th>\n",
              "      <td>2006-11-01</td>\n",
              "      <td>00:00:08</td>\n",
              "      <td>W3SVC1</td>\n",
              "      <td>127.0.0.1</td>\n",
              "      <td>GET</td>\n",
              "      <td>/Tulip/home/en-us/home_index.aspx</td>\n",
              "      <td>80</td>\n",
              "      <td>70.80.84.76</td>\n",
              "      <td>Mozilla/4.0+(compatible;+MSIE+6.0;+Windows+NT+...</td>\n",
              "      <td>200</td>\n",
              "      <td>0</td>\n",
              "      <td>0</td>\n",
              "    </tr>\n",
              "    <tr>\n",
              "      <th>1</th>\n",
              "      <td>2006-11-01</td>\n",
              "      <td>00:00:08</td>\n",
              "      <td>W3SVC1</td>\n",
              "      <td>127.0.0.1</td>\n",
              "      <td>GET</td>\n",
              "      <td>/Tulip/includes/js/CommonUtil.js</td>\n",
              "      <td>80</td>\n",
              "      <td>70.80.84.76</td>\n",
              "      <td>Mozilla/4.0+(compatible;+MSIE+6.0;+Windows+NT+...</td>\n",
              "      <td>200</td>\n",
              "      <td>0</td>\n",
              "      <td>0</td>\n",
              "    </tr>\n",
              "    <tr>\n",
              "      <th>2</th>\n",
              "      <td>2006-11-01</td>\n",
              "      <td>00:00:09</td>\n",
              "      <td>W3SVC1</td>\n",
              "      <td>127.0.0.1</td>\n",
              "      <td>GET</td>\n",
              "      <td>/Tulip/common/common_style.aspx</td>\n",
              "      <td>80</td>\n",
              "      <td>70.80.84.76</td>\n",
              "      <td>Mozilla/4.0+(compatible;+MSIE+6.0;+Windows+NT+...</td>\n",
              "      <td>200</td>\n",
              "      <td>0</td>\n",
              "      <td>0</td>\n",
              "    </tr>\n",
              "    <tr>\n",
              "      <th>3</th>\n",
              "      <td>2006-11-01</td>\n",
              "      <td>00:00:09</td>\n",
              "      <td>W3SVC1</td>\n",
              "      <td>127.0.0.1</td>\n",
              "      <td>GET</td>\n",
              "      <td>/Tulip/common/en-us/images/top_logo.gif</td>\n",
              "      <td>80</td>\n",
              "      <td>70.80.84.76</td>\n",
              "      <td>Mozilla/4.0+(compatible;+MSIE+6.0;+Windows+NT+...</td>\n",
              "      <td>200</td>\n",
              "      <td>0</td>\n",
              "      <td>0</td>\n",
              "    </tr>\n",
              "    <tr>\n",
              "      <th>4</th>\n",
              "      <td>2006-11-01</td>\n",
              "      <td>00:00:09</td>\n",
              "      <td>W3SVC1</td>\n",
              "      <td>127.0.0.1</td>\n",
              "      <td>GET</td>\n",
              "      <td>/Tulip/common/en-us/images/topmenu_reservation...</td>\n",
              "      <td>80</td>\n",
              "      <td>70.80.84.76</td>\n",
              "      <td>Mozilla/4.0+(compatible;+MSIE+6.0;+Windows+NT+...</td>\n",
              "      <td>200</td>\n",
              "      <td>0</td>\n",
              "      <td>0</td>\n",
              "    </tr>\n",
              "  </tbody>\n",
              "</table>\n",
              "</div>"
            ],
            "text/plain": [
              "         date      time s-sitename  ... sc-status sc-substatus sc-win32-status\n",
              "0  2006-11-01  00:00:08     W3SVC1  ...       200            0               0\n",
              "1  2006-11-01  00:00:08     W3SVC1  ...       200            0               0\n",
              "2  2006-11-01  00:00:09     W3SVC1  ...       200            0               0\n",
              "3  2006-11-01  00:00:09     W3SVC1  ...       200            0               0\n",
              "4  2006-11-01  00:00:09     W3SVC1  ...       200            0               0\n",
              "\n",
              "[5 rows x 12 columns]"
            ]
          },
          "metadata": {
            "tags": []
          },
          "execution_count": 14
        }
      ]
    },
    {
      "cell_type": "code",
      "metadata": {
        "colab": {
          "base_uri": "https://localhost:8080/"
        },
        "id": "OI9orsLD4nQP",
        "outputId": "28f9d337-570b-4eb8-84de-c5d6b58220c3"
      },
      "source": [
        "# Find the frequencies of c - ip\n",
        "\n",
        "cs_ur_stem_freq = df_ht['cs-uri-stem'].value_counts()\n",
        "cs_ur_stem_freq"
      ],
      "execution_count": null,
      "outputs": [
        {
          "output_type": "execute_result",
          "data": {
            "text/plain": [
              "/Tulip/common/common_style.aspx                    402922\n",
              "/Tulip/includes/js/CommonUtil.js                   127679\n",
              "/Tulip/common/images/top_bar.jpg                   125743\n",
              "/Tulip/common/images/spacer.gif                    105470\n",
              "/Tulip/common/images/bar_1.gif                     100626\n",
              "                                                    ...  \n",
              "/Tulip/common/zh-hk=))/images/sidebanner_11.jpg         1\n",
              "/Tulip/home_index.aspx                                  1\n",
              "/Tulip/aboutus                                          1\n",
              "/s8shell.asp                                            1\n",
              "/includes/footer.php                                    1\n",
              "Name: cs-uri-stem, Length: 4687, dtype: int64"
            ]
          },
          "metadata": {
            "tags": []
          },
          "execution_count": 17
        }
      ]
    },
    {
      "cell_type": "markdown",
      "metadata": {
        "id": "mq3sWOXtrZhF"
      },
      "source": [
        "## 2. Data Statistics Description"
      ]
    },
    {
      "cell_type": "markdown",
      "metadata": {
        "id": "BJuh1nsirmOy"
      },
      "source": [
        "### 2.1 Traffic Analysis"
      ]
    },
    {
      "cell_type": "markdown",
      "metadata": {
        "id": "vzey2OZygD8u"
      },
      "source": [
        "\n",
        "<div class=\"alert alert-block alert-warning\">\n",
        "\n",
        "**Code**:\n",
        "    Discover on the traffics by analysing hourly requests, then plot it into Bar Chart.\n",
        "    <br>\n",
        "    *Keep the outputs for code in your notebook.\n",
        "</div>\n",
        "\n",
        "<div class=\"alert alert-block alert-warning\">\n",
        "    \n",
        "**Report**:\n",
        "    **Part I 2.1.A** Please include your result for this coding task into your report Part I, with proper section title '2.1.A'.\n",
        "</div>\n",
        "    </div>\n"
      ]
    },
    {
      "cell_type": "markdown",
      "metadata": {
        "id": "EpEeaqZtxIZg"
      },
      "source": [
        "#### By day and plot\n",
        "\n"
      ]
    },
    {
      "cell_type": "code",
      "metadata": {
        "id": "DAH1IrWbfQQW",
        "colab": {
          "base_uri": "https://localhost:8080/"
        },
        "outputId": "bf147c87-168b-41a1-e1a0-bfbb85a25333"
      },
      "source": [
        "# Change date and time data type\n",
        "\n",
        "df_ht['date']=pd.to_datetime( df_ht['date'])\n",
        "df_ht['time']=pd.to_datetime( df_ht['time'])\n",
        "\n",
        "# Check data types\n",
        "\n",
        "df_ht.dtypes"
      ],
      "execution_count": null,
      "outputs": [
        {
          "output_type": "stream",
          "text": [
            "/usr/local/lib/python3.7/dist-packages/ipykernel_launcher.py:3: SettingWithCopyWarning: \n",
            "A value is trying to be set on a copy of a slice from a DataFrame.\n",
            "Try using .loc[row_indexer,col_indexer] = value instead\n",
            "\n",
            "See the caveats in the documentation: https://pandas.pydata.org/pandas-docs/stable/user_guide/indexing.html#returning-a-view-versus-a-copy\n",
            "  This is separate from the ipykernel package so we can avoid doing imports until\n",
            "/usr/local/lib/python3.7/dist-packages/ipykernel_launcher.py:4: SettingWithCopyWarning: \n",
            "A value is trying to be set on a copy of a slice from a DataFrame.\n",
            "Try using .loc[row_indexer,col_indexer] = value instead\n",
            "\n",
            "See the caveats in the documentation: https://pandas.pydata.org/pandas-docs/stable/user_guide/indexing.html#returning-a-view-versus-a-copy\n",
            "  after removing the cwd from sys.path.\n"
          ],
          "name": "stderr"
        },
        {
          "output_type": "execute_result",
          "data": {
            "text/plain": [
              "date               datetime64[ns]\n",
              "time               datetime64[ns]\n",
              "s-sitename                 object\n",
              "s-ip                       object\n",
              "cs-method                  object\n",
              "cs-uri-stem                object\n",
              "s-port                     object\n",
              "c-ip                       object\n",
              "cs(User-Agent)             object\n",
              "sc-status                  object\n",
              "sc-substatus               object\n",
              "sc-win32-status            object\n",
              "dtype: object"
            ]
          },
          "metadata": {
            "tags": []
          },
          "execution_count": 22
        }
      ]
    },
    {
      "cell_type": "code",
      "metadata": {
        "colab": {
          "base_uri": "https://localhost:8080/"
        },
        "id": "uP2QoGd4Uq2l",
        "outputId": "3febaf4f-b55d-40ae-dc9e-907f8609e148"
      },
      "source": [
        "#Make the frequency to hour for the column time\n",
        "hour=df_ht[\"time\"].dt.hour\n",
        "hour\n",
        "\n",
        "#Group data by hour\n",
        "df_group=df_ht.groupby([hour])\n",
        "df_group"
      ],
      "execution_count": null,
      "outputs": [
        {
          "output_type": "execute_result",
          "data": {
            "text/plain": [
              "<pandas.core.groupby.generic.DataFrameGroupBy object at 0x7f6c45b4b890>"
            ]
          },
          "metadata": {
            "tags": []
          },
          "execution_count": 23
        }
      ]
    },
    {
      "cell_type": "code",
      "metadata": {
        "colab": {
          "base_uri": "https://localhost:8080/"
        },
        "id": "yEEBdzJ6VCQN",
        "outputId": "0118e2f5-41f5-4e38-82a9-345f74ae83ac"
      },
      "source": [
        "#Check that it is group from 0  - 23\n",
        "df_group.groups"
      ],
      "execution_count": null,
      "outputs": [
        {
          "output_type": "execute_result",
          "data": {
            "text/plain": [
              "{0: [0, 1, 2, 3, 4, 5, 6, 7, 8, 9, 10, 11, 12, 13, 14, 15, 16, 17, 18, 19, 20, 21, 22, 23, 24, 25, 26, 27, 28, 29, 30, 31, 32, 33, 34, 35, 36, 37, 38, 39, 40, 41, 42, 43, 44, 45, 46, 47, 48, 49, 50, 51, 52, 53, 54, 55, 56, 57, 58, 59, 60, 61, 62, 63, 64, 65, 66, 67, 68, 69, 70, 71, 72, 73, 74, 75, 76, 77, 78, 79, 80, 81, 82, 83, 84, 85, 86, 87, 88, 89, 90, 91, 92, 93, 94, 95, 96, 97, 98, 99, ...], 1: [1610, 1611, 1612, 1613, 1614, 1615, 1616, 1617, 1618, 1619, 1620, 1621, 1622, 1623, 1624, 1625, 1626, 1627, 1628, 1629, 1630, 1631, 1632, 1633, 1634, 1635, 1636, 1637, 1638, 1639, 1640, 1641, 1642, 1643, 1644, 1645, 1646, 1647, 1648, 1649, 1650, 1651, 1652, 1653, 1654, 1655, 1656, 1657, 1658, 1659, 1660, 1661, 1662, 1663, 1664, 1665, 1666, 1667, 1668, 1669, 1670, 1671, 1672, 1673, 1674, 1675, 1676, 1677, 1678, 1679, 1680, 1681, 1682, 1683, 1684, 1685, 1686, 1687, 1688, 1689, 1690, 1691, 1692, 1693, 1694, 1695, 1696, 1697, 1698, 1699, 1700, 1701, 1702, 1703, 1704, 1705, 1706, 1707, 1708, 1709, ...], 2: [3995, 3996, 3997, 3998, 3999, 4000, 4001, 4002, 4003, 4004, 4005, 4006, 4007, 4008, 4009, 4010, 4011, 4012, 4013, 4014, 4015, 4016, 4017, 4018, 4019, 4020, 4021, 4022, 4023, 4024, 4025, 4026, 4027, 4028, 4029, 4030, 4031, 4032, 4033, 4034, 4035, 4036, 4037, 4038, 4039, 4040, 4041, 4042, 4043, 4044, 4045, 4046, 4047, 4048, 4049, 4050, 4051, 4052, 4053, 4054, 4055, 4056, 4057, 4058, 4059, 4060, 4061, 4062, 4063, 4064, 4065, 4066, 4067, 4068, 4069, 4070, 4071, 4072, 4073, 4074, 4075, 4076, 4077, 4078, 4079, 4080, 4081, 4082, 4083, 4084, 4085, 4086, 4087, 4088, 4089, 4090, 4091, 4092, 4093, 4094, ...], 3: [6993, 6994, 6995, 6996, 6997, 6998, 6999, 7000, 7001, 7002, 7003, 7004, 7005, 7006, 7007, 7008, 7009, 7010, 7011, 7012, 7013, 7014, 7015, 7016, 7017, 7018, 7019, 7020, 7021, 7022, 7023, 7024, 7025, 7026, 7027, 7028, 7029, 7030, 7031, 7032, 7033, 7034, 7035, 7036, 7037, 7038, 7039, 7040, 7041, 7042, 7043, 7044, 7045, 7046, 7047, 7048, 7049, 7050, 7051, 7052, 7053, 7054, 7055, 7056, 7057, 7058, 7059, 7060, 7061, 7062, 7063, 7064, 7065, 7066, 7067, 7068, 7069, 7070, 7071, 7072, 7073, 7074, 7075, 7076, 7077, 7078, 7079, 7080, 7081, 7082, 7083, 7084, 7085, 7086, 7087, 7088, 7089, 7090, 7091, 7092, ...], 4: [9804, 9805, 9806, 9807, 9808, 9809, 9810, 9811, 9812, 9813, 9814, 9815, 9816, 9817, 9818, 9819, 9820, 9821, 9822, 9823, 9824, 9825, 9826, 9827, 9828, 9829, 9830, 9831, 9832, 9833, 9834, 9835, 9836, 9837, 9838, 9839, 9840, 9841, 9842, 9843, 9844, 9845, 9846, 9847, 9848, 9849, 9850, 9851, 9852, 9853, 9854, 9855, 9856, 9857, 9858, 9859, 9860, 9861, 9862, 9863, 9864, 9865, 9866, 9867, 9868, 9869, 9870, 9871, 9872, 9873, 9874, 9875, 9876, 9877, 9878, 9879, 9880, 9881, 9886, 9887, 9888, 9889, 9890, 9891, 9892, 9893, 9894, 9895, 9896, 9897, 9898, 9899, 9900, 9901, 9902, 9903, 9904, 9905, 9906, 9907, ...], 5: [13071, 13072, 13073, 13074, 13075, 13076, 13077, 13078, 13079, 13080, 13081, 13082, 13083, 13084, 13085, 13086, 13087, 13088, 13089, 13090, 13091, 13092, 13093, 13094, 13095, 13096, 13097, 13098, 13099, 13100, 13101, 13102, 13103, 13104, 13105, 13106, 13107, 13108, 13109, 13110, 13111, 13112, 13113, 13114, 13115, 13116, 13117, 13118, 13119, 13120, 13121, 13122, 13123, 13124, 13125, 13126, 13127, 13128, 13129, 13130, 13131, 13132, 13133, 13134, 13135, 13136, 13137, 13138, 13139, 13140, 13141, 13142, 13143, 13144, 13145, 13146, 13147, 13148, 13149, 13150, 13151, 13152, 13153, 13154, 13155, 13156, 13157, 13158, 13159, 13160, 13161, 13162, 13163, 13164, 13165, 13166, 13167, 13168, 13169, 13170, ...], 6: [15990, 15991, 15992, 15993, 15994, 15995, 15996, 15997, 15998, 15999, 16000, 16001, 16002, 16003, 16004, 16005, 16006, 16007, 16008, 16009, 16010, 16011, 16012, 16013, 16014, 16015, 16016, 16017, 16018, 16019, 16020, 16021, 16022, 16023, 16024, 16025, 16026, 16027, 16028, 16029, 16030, 16031, 16032, 16033, 16034, 16035, 16036, 16037, 16038, 16039, 16040, 16041, 16042, 16043, 16044, 16045, 16046, 16047, 16048, 16049, 16050, 16051, 16052, 16053, 16054, 16055, 16056, 16057, 16058, 16059, 16060, 16061, 16062, 16063, 16064, 16065, 16066, 16067, 16068, 16069, 16070, 16071, 16072, 16073, 16074, 16075, 16076, 16077, 16078, 16079, 16080, 16081, 16082, 16083, 16084, 16085, 16086, 16087, 16088, 16089, ...], 7: [25270, 25271, 25272, 25273, 25274, 25275, 25276, 25277, 25278, 25279, 25280, 25281, 25282, 25283, 25284, 25285, 25286, 25287, 25288, 25289, 25290, 25291, 25292, 25293, 25294, 25295, 25296, 25297, 25298, 25299, 25300, 25301, 25302, 25303, 25304, 25305, 25306, 25307, 25308, 25309, 25310, 25311, 25312, 25313, 25314, 25315, 25316, 25317, 25318, 25319, 25320, 25321, 25322, 25323, 25324, 25325, 25326, 25327, 25328, 25329, 25330, 25331, 25332, 25333, 25334, 25335, 25336, 25337, 25338, 25339, 25340, 25341, 25342, 25343, 25344, 25345, 25346, 25347, 25348, 25349, 25350, 25351, 25352, 25353, 25354, 25355, 25356, 25357, 25358, 25359, 25360, 25361, 25362, 25363, 25364, 25365, 25366, 25367, 25368, 25369, ...], 8: [33652, 33653, 33654, 33655, 33656, 33657, 33658, 33659, 33660, 33661, 33662, 33663, 33664, 33665, 33666, 33667, 33668, 33669, 33670, 33671, 33672, 33673, 33674, 33675, 33676, 33677, 33678, 33679, 33680, 33681, 33682, 33683, 33684, 33685, 33686, 33687, 33688, 33689, 33690, 33691, 33692, 33693, 33694, 33695, 33696, 33697, 33698, 33699, 33700, 33701, 33702, 33703, 33704, 33705, 33706, 33707, 33708, 33709, 33710, 33711, 33712, 33713, 33714, 33715, 33716, 33717, 33718, 33719, 33720, 33721, 33722, 33723, 33724, 33725, 33726, 33727, 33728, 33729, 33730, 33731, 33732, 33733, 33734, 33735, 33736, 33737, 33738, 33739, 33740, 33741, 33742, 33743, 33744, 33745, 33746, 33747, 33748, 33749, 33750, 33751, ...], 9: [39307, 39308, 39309, 39310, 39311, 39312, 39313, 39314, 39315, 39316, 39317, 39318, 39319, 39320, 39321, 39322, 39323, 39324, 39325, 39326, 39327, 39328, 39329, 39330, 39331, 39332, 39333, 39334, 39335, 39336, 39337, 39338, 39339, 39340, 39341, 39342, 39343, 39344, 39345, 39346, 39347, 39348, 39349, 39350, 39351, 39352, 39353, 39354, 39355, 39356, 39357, 39358, 39359, 39360, 39361, 39362, 39363, 39364, 39365, 39366, 39367, 39368, 39369, 39370, 39371, 39372, 39373, 39374, 39375, 39376, 39377, 39378, 39379, 39380, 39381, 39382, 39383, 39384, 39385, 39386, 39387, 39388, 39389, 39390, 39391, 39392, 39393, 39394, 39395, 39396, 39397, 39398, 39399, 39400, 39401, 39402, 39403, 39404, 39405, 39406, ...], 10: [45450, 45451, 45452, 45453, 45454, 45455, 45456, 45457, 45458, 45459, 45460, 45461, 45462, 45463, 45464, 45465, 45466, 45467, 45468, 45469, 45470, 45471, 45472, 45473, 45474, 45475, 45476, 45477, 45478, 45479, 45480, 45481, 45482, 45483, 45484, 45485, 45486, 45487, 45488, 45489, 45490, 45491, 45492, 45493, 45494, 45495, 45496, 45497, 45498, 45499, 45500, 45501, 45502, 45503, 45504, 45505, 45506, 45507, 45508, 45509, 45510, 45511, 45512, 45513, 45514, 45515, 45516, 45517, 45518, 45519, 45520, 45521, 45522, 45523, 45524, 45525, 45526, 45527, 45528, 45529, 45530, 45531, 45532, 45533, 45534, 45535, 45536, 45537, 45538, 45539, 45540, 45541, 45542, 45543, 45544, 45545, 45546, 45547, 45548, 45549, ...], 11: [49279, 49280, 49281, 49282, 49283, 49284, 49285, 49286, 49287, 49288, 49289, 49290, 49291, 49292, 49293, 49294, 49295, 49296, 49297, 49298, 49299, 49300, 49301, 49302, 49303, 49304, 49305, 49306, 49307, 49308, 49309, 49310, 49311, 49312, 49313, 49314, 49315, 49316, 49317, 49318, 49319, 49320, 49321, 49322, 49323, 49324, 49325, 49326, 49327, 49328, 49329, 49330, 49331, 49332, 49333, 49334, 49335, 49336, 49337, 49338, 49339, 49340, 49341, 49342, 49343, 49344, 49345, 49346, 49347, 49348, 49349, 49350, 49351, 49352, 49353, 49354, 49355, 49356, 49357, 49358, 49359, 49360, 49361, 49362, 49363, 49364, 49365, 49366, 49367, 49368, 49369, 49370, 49371, 49372, 49373, 49374, 49375, 49376, 49377, 49378, ...], 12: [51003, 51004, 51005, 51006, 51007, 51008, 51009, 51010, 51011, 51012, 51013, 51014, 51015, 51016, 51017, 51018, 51019, 51020, 51021, 51022, 51023, 51024, 51025, 51026, 51027, 51028, 51029, 51030, 51031, 51032, 51033, 51034, 51035, 51036, 51037, 51038, 51039, 51040, 51041, 51042, 51043, 51044, 51045, 51046, 51047, 51048, 51049, 51050, 51051, 51052, 51053, 51054, 51055, 51056, 51057, 51058, 51059, 51060, 51061, 51062, 51063, 51064, 51065, 51066, 51067, 51068, 51069, 51070, 51071, 51072, 51073, 51074, 51075, 51076, 51077, 51078, 51079, 51080, 51081, 51082, 51083, 51084, 51085, 51086, 51087, 51088, 51089, 51090, 51091, 51092, 51093, 51094, 51095, 51096, 51097, 51098, 51099, 51100, 51101, 51102, ...], 13: [53179, 53180, 53181, 53182, 53183, 53184, 53185, 53186, 53187, 53188, 53189, 53190, 53191, 53192, 53193, 53194, 53195, 53196, 53197, 53198, 53199, 53200, 53201, 53202, 53203, 53204, 53205, 53206, 53207, 53208, 53209, 53210, 53211, 53212, 53213, 53214, 53215, 53216, 53217, 53218, 53219, 53220, 53221, 53222, 53223, 53224, 53225, 53226, 53227, 53228, 53229, 53230, 53231, 53232, 53233, 53234, 53235, 53236, 53237, 53238, 53239, 53240, 53241, 53242, 53243, 53244, 53245, 53246, 53247, 53248, 53249, 53250, 53251, 53252, 53253, 53254, 53255, 53256, 53257, 53258, 53259, 53260, 53261, 53262, 53263, 53264, 53265, 53266, 53267, 53268, 53269, 53270, 53271, 53272, 53273, 53274, 53275, 53276, 53277, 53278, ...], 14: [56717, 56718, 56719, 56720, 56721, 56722, 56723, 56724, 56725, 56726, 56727, 56728, 56729, 56730, 56731, 56732, 56733, 56734, 56735, 56736, 56737, 56738, 56739, 56740, 56741, 56742, 56743, 56744, 56745, 56747, 56748, 56749, 56750, 56751, 56752, 56753, 56754, 56755, 56756, 56757, 56758, 56759, 56760, 56761, 56762, 56763, 56764, 56765, 56766, 56767, 56768, 56769, 56770, 56771, 56772, 56773, 56774, 56775, 56776, 56777, 56778, 56779, 56780, 56781, 56782, 56783, 56784, 56785, 56786, 56787, 56788, 56789, 56790, 56791, 56792, 56793, 56794, 56795, 56796, 56797, 56798, 56799, 56800, 56801, 56802, 56803, 56804, 56805, 56806, 56807, 56808, 56809, 56810, 56811, 56812, 56813, 56814, 56815, 56816, 56817, ...], 15: [60247, 60248, 60249, 60250, 60251, 60252, 60253, 60254, 60255, 60256, 60257, 60258, 60259, 60260, 60261, 60262, 60263, 60264, 60265, 60266, 60267, 60268, 60269, 60270, 60271, 60272, 60273, 60274, 60275, 60276, 60277, 60278, 60279, 60280, 60281, 60282, 60283, 60284, 60285, 60286, 60287, 60288, 60289, 60290, 60291, 60292, 60293, 60294, 60295, 60296, 60297, 60298, 60299, 60300, 60301, 60302, 60303, 60304, 60305, 60306, 60307, 60308, 60309, 60310, 60311, 60312, 60313, 60314, 60315, 60316, 60317, 60318, 60319, 60320, 60321, 60322, 60323, 60324, 60325, 60326, 60327, 60328, 60329, 60330, 60331, 60332, 60333, 60334, 60335, 60336, 60337, 60338, 60339, 60340, 60341, 60342, 60343, 60344, 60345, 60346, ...], 16: [65109, 65110, 65111, 65112, 65113, 65114, 65115, 65116, 65117, 65118, 65119, 65120, 65121, 65122, 65123, 65124, 65125, 65126, 65127, 65128, 65129, 65130, 65131, 65132, 65133, 65134, 65135, 65136, 65137, 65138, 65139, 65140, 65141, 65142, 65143, 65144, 65145, 65146, 65147, 65148, 65149, 65150, 65151, 65152, 65153, 65154, 65155, 65156, 65157, 65158, 65159, 65160, 65161, 65162, 65163, 65164, 65165, 65166, 65167, 65168, 65169, 65170, 65171, 65172, 65173, 65174, 65175, 65176, 65177, 65178, 65179, 65180, 65181, 65182, 65183, 65184, 65185, 65186, 65187, 65188, 65189, 65190, 65191, 65192, 65193, 65194, 65195, 65196, 65197, 65198, 65199, 65200, 65201, 65202, 65203, 65204, 65205, 65206, 65207, 65208, ...], 17: [69025, 69026, 69027, 69028, 69029, 69030, 69031, 69032, 69033, 69034, 69035, 69036, 69037, 69038, 69039, 69040, 69041, 69042, 69043, 69044, 69045, 69046, 69047, 69048, 69049, 69050, 69051, 69052, 69053, 69054, 69055, 69056, 69057, 69058, 69059, 69060, 69061, 69062, 69063, 69064, 69065, 69066, 69067, 69068, 69069, 69070, 69071, 69072, 69073, 69074, 69075, 69076, 69077, 69078, 69079, 69080, 69081, 69082, 69083, 69084, 69085, 69086, 69087, 69088, 69089, 69090, 69091, 69092, 69093, 69094, 69095, 69096, 69097, 69098, 69099, 69100, 69101, 69102, 69103, 69104, 69105, 69106, 69107, 69108, 69109, 69110, 69111, 69112, 69113, 69114, 69115, 69116, 69117, 69118, 69119, 69120, 69121, 69122, 69123, 69124, ...], 18: [72297, 72298, 72299, 72300, 72301, 72302, 72303, 72304, 72305, 72306, 72307, 72308, 72309, 72310, 72311, 72312, 72313, 72314, 72315, 72316, 72317, 72318, 72319, 72320, 72321, 72322, 72323, 72324, 72325, 72326, 72327, 72328, 72329, 72330, 72331, 72332, 72333, 72334, 72335, 72336, 72337, 72338, 72339, 72340, 72341, 72342, 72343, 72344, 72345, 72346, 72347, 72348, 72349, 72350, 72351, 72352, 72353, 72354, 72355, 72356, 72357, 72358, 72359, 72360, 72361, 72362, 72363, 72364, 72365, 72366, 72367, 72368, 72369, 72370, 72371, 72372, 72373, 72374, 72375, 72376, 72377, 72378, 72379, 72380, 72381, 72382, 72383, 72384, 72385, 72386, 72387, 72388, 72389, 72390, 72391, 72392, 72393, 72394, 72395, 72396, ...], 19: [73397, 73398, 73399, 73400, 73401, 73402, 73403, 73404, 73405, 73406, 73407, 73408, 73409, 73410, 73411, 73412, 73413, 73414, 73415, 73416, 73417, 73418, 73419, 73420, 73421, 73422, 73423, 73424, 73425, 73426, 73427, 73428, 73429, 73430, 73431, 73432, 73433, 73434, 73435, 73436, 73437, 73438, 73439, 73440, 73441, 73442, 73443, 73444, 73445, 73446, 73447, 73448, 73449, 73450, 73451, 73452, 73453, 73454, 73455, 73456, 73457, 73458, 73459, 73460, 73461, 73462, 73463, 73464, 73465, 73466, 73467, 73468, 73469, 73470, 73471, 73472, 73473, 73474, 73475, 73476, 73477, 73478, 73479, 73480, 73481, 73482, 73483, 73484, 73485, 73486, 73487, 73488, 73489, 73490, 73491, 73492, 73493, 73494, 73495, 73496, ...], 20: [74280, 74281, 74282, 74283, 74284, 74285, 74286, 74287, 74288, 74289, 74290, 74291, 74292, 74293, 74294, 74295, 74296, 74297, 74298, 74299, 74300, 74301, 74302, 74303, 74304, 74305, 74306, 74307, 74308, 74309, 74310, 74311, 74312, 74313, 74314, 74315, 74316, 74317, 74318, 74319, 74320, 74321, 74322, 74323, 74324, 74325, 74326, 74327, 74328, 74329, 74330, 74331, 74332, 74333, 74334, 74335, 74336, 74337, 74338, 74339, 74340, 74341, 74342, 74343, 74344, 74345, 74346, 74347, 74348, 74349, 74350, 74351, 74352, 74353, 74354, 74355, 74356, 74357, 74358, 74359, 74360, 74361, 74362, 74363, 74364, 74365, 74366, 74367, 74368, 74369, 74370, 74371, 74372, 74373, 74374, 74375, 74376, 74377, 74378, 74379, ...], 21: [75044, 75045, 75046, 75047, 75048, 75049, 75050, 75051, 75052, 75053, 75054, 75055, 75056, 75057, 75058, 75059, 75060, 75061, 75062, 75063, 75064, 75065, 75066, 75067, 75068, 75069, 75070, 75071, 75072, 75073, 75074, 75075, 75076, 75077, 75078, 75079, 75080, 75081, 75082, 75083, 75084, 75085, 75086, 75087, 75088, 75089, 75090, 75091, 75092, 75093, 75094, 75095, 75096, 75097, 75098, 75099, 75100, 75101, 75102, 75103, 75104, 75105, 75106, 75107, 75108, 75109, 75110, 75111, 75112, 75113, 75114, 75115, 75116, 75117, 75118, 75119, 75120, 75121, 75122, 75123, 75124, 75125, 75126, 75127, 75128, 75129, 75130, 75131, 75132, 75133, 75134, 75135, 75136, 75137, 75138, 75139, 75140, 75141, 75142, 75143, ...], 22: [75903, 75904, 75905, 75906, 75907, 75908, 75909, 75910, 75911, 75912, 75913, 75914, 75915, 75916, 75917, 75918, 75919, 75920, 75921, 75922, 75923, 75924, 75925, 75926, 75927, 75928, 75929, 75930, 75931, 75932, 75933, 75934, 75935, 75936, 75937, 75938, 75939, 75940, 75941, 75942, 75943, 75944, 75945, 75946, 75947, 75948, 75949, 75950, 75951, 75952, 75953, 75954, 75955, 75956, 75957, 75958, 75959, 75960, 75961, 75962, 75963, 75964, 75965, 75966, 75967, 75968, 75969, 75970, 75971, 75972, 75973, 75974, 75975, 75976, 75977, 75978, 75979, 75980, 75981, 75982, 75983, 75984, 75985, 75986, 75987, 75988, 75989, 75990, 75991, 75992, 75993, 75994, 75995, 75996, 75997, 75998, 75999, 76000, 76001, 76002, ...], 23: [76335, 76336, 76337, 76338, 76339, 76340, 76341, 76342, 76343, 76344, 76345, 76346, 76347, 76348, 76349, 76350, 76351, 76352, 76353, 76354, 76355, 76356, 76357, 76358, 76359, 76360, 76361, 76362, 76363, 76364, 76365, 76366, 76367, 76368, 76369, 76370, 76371, 76372, 76373, 76374, 76375, 76376, 76377, 76378, 76379, 76380, 76381, 76382, 76383, 76384, 76385, 76386, 76387, 76388, 76389, 76390, 76391, 76392, 76393, 76394, 76395, 76396, 76397, 76398, 76399, 76400, 76401, 76402, 76403, 76404, 76405, 76406, 76407, 76408, 76409, 76410, 76411, 76412, 76413, 76414, 76415, 76416, 76417, 76418, 76419, 76420, 76421, 76422, 76423, 76424, 76425, 76426, 76427, 76428, 76429, 76430, 76431, 76432, 76433, 76434, ...]}"
            ]
          },
          "metadata": {
            "tags": []
          },
          "execution_count": 24
        }
      ]
    },
    {
      "cell_type": "code",
      "metadata": {
        "colab": {
          "base_uri": "https://localhost:8080/"
        },
        "id": "KNB6IWDuVIsP",
        "outputId": "30a191e6-e972-4090-a99e-a95ae52fba45"
      },
      "source": [
        "# Count and group\n",
        "Time_value = df_group.size()\n",
        "Time_value"
      ],
      "execution_count": null,
      "outputs": [
        {
          "output_type": "execute_result",
          "data": {
            "text/plain": [
              "time\n",
              "0     155679\n",
              "1     344334\n",
              "2     432290\n",
              "3     546655\n",
              "4     529352\n",
              "5     487330\n",
              "6     544734\n",
              "7     522365\n",
              "8     550744\n",
              "9     553564\n",
              "10    443519\n",
              "11    368948\n",
              "12    367635\n",
              "13    442429\n",
              "14    493695\n",
              "15    473057\n",
              "16    387291\n",
              "17    250285\n",
              "18    159546\n",
              "19     93829\n",
              "20     72559\n",
              "21     66474\n",
              "22     65218\n",
              "23     83629\n",
              "dtype: int64"
            ]
          },
          "metadata": {
            "tags": []
          },
          "execution_count": 25
        }
      ]
    },
    {
      "cell_type": "code",
      "metadata": {
        "colab": {
          "base_uri": "https://localhost:8080/",
          "height": 312
        },
        "id": "rld0by7tVQgw",
        "outputId": "633c1cfd-6db9-41b8-f1d0-4c687a2ca28e"
      },
      "source": [
        "# plot bar chart of hourly request\n",
        "data = Time_value\n",
        "# The index of Time_value is the x-axis\n",
        "labels = Time_value.index\n",
        "plt.xticks(range(len(data)), labels)\n",
        "plt.xlabel('time value')\n",
        "plt.ylabel('hourly request amount')\n",
        "plt.title('Traffic Analysis - Hourly requests')\n",
        "plt.bar(range(len(data)), data)\n",
        "plt.show()\n",
        "plt.savefig('line_plot.pdf')"
      ],
      "execution_count": null,
      "outputs": [
        {
          "output_type": "display_data",
          "data": {
            "image/png": "[encoded data removed]",
            "text/plain": [
              "<Figure size 432x288 with 1 Axes>"
            ]
          },
          "metadata": {
            "tags": [],
            "needs_background": "light"
          }
        },
        {
          "output_type": "display_data",
          "data": {
            "text/plain": [
              "<Figure size 432x288 with 0 Axes>"
            ]
          },
          "metadata": {
            "tags": []
          }
        }
      ]
    },
    {
      "cell_type": "markdown",
      "metadata": {
        "id": "aFEJDPvEy8ZR"
      },
      "source": [
        "\n",
        "<div class=\"alert alert-block alert-warning\">\n",
        "\n",
        "**Code**:\n",
        "    You are required to filter the hourly requests by removing any below 490,000 and above 400,000. (hourly_request_amount >= 400000 & hourly_request_amount <= 490000)    \n",
        "    <br>\n",
        "    *Keep the outputs for code in your notebook.\n",
        "</div>\n",
        "\n",
        "<div class=\"alert alert-block alert-warning\">\n",
        "    \n",
        "**Report**:\n",
        "    **Part I 2.1.B** Please include your result for this coding task into your report, with proper section title '2.1.B'.\n",
        "</div>\n",
        "    </div>\n"
      ]
    },
    {
      "cell_type": "code",
      "metadata": {
        "id": "TLArAkrH0rig",
        "colab": {
          "base_uri": "https://localhost:8080/"
        },
        "outputId": "6b9eaa1d-8781-410b-a30c-70738c0e9635"
      },
      "source": [
        "#Filter the hourly requests by removing any below 490,000 and above 400,000.\n",
        "Filter_request1 = 400000\n",
        "Filter_request2 = 490000\n",
        "\n",
        "#Filter the hourly requests by removing any above 400000\n",
        "hourly_request_amount1 = Time_value[Time_value >= Filter_request1]\n",
        "#Filter the hourly requests by removing any below 490000\n",
        "hourly_request_amount2  = hourly_request_amount1[hourly_request_amount1 <= Filter_request2]\n",
        "\n",
        "#Get the hourly request amount (hourly_request_amount >= 400000 & hourly_request_amount <= 490000)\n",
        "hourly_request_amount2"
      ],
      "execution_count": null,
      "outputs": [
        {
          "output_type": "execute_result",
          "data": {
            "text/plain": [
              "time\n",
              "2     432290\n",
              "5     487330\n",
              "10    443519\n",
              "13    442429\n",
              "15    473057\n",
              "dtype: int64"
            ]
          },
          "metadata": {
            "tags": []
          },
          "execution_count": 68
        }
      ]
    },
    {
      "cell_type": "markdown",
      "metadata": {
        "id": "xwKZ2IAr9IR_"
      },
      "source": [
        "### 2.2 Server Analysis"
      ]
    },
    {
      "cell_type": "markdown",
      "metadata": {
        "id": "n2sojLZStPBh"
      },
      "source": [
        "<div class=\"alert alert-block alert-warning\">\n",
        "\n",
        "**Code**:\n",
        "    Discover on the server status using 'sc-status' from DataFrame, then plot it into Pie Chart. <br>\n",
        "    *Keep the outputs for code in your notebook.\n",
        "</div>\n",
        "\n",
        "<div class=\"alert alert-block alert-warning\">\n",
        "    \n",
        "**Report**:\n",
        "    **Part I 2.2** Please include your results for this coding task into your report Part I section '2.2', <br>\n",
        "    1. How many types of status reported? <br>\n",
        "    2. Figure 'Server Status' in pie chart. <br>\n",
        "</div>"
      ]
    },
    {
      "cell_type": "markdown",
      "metadata": {
        "id": "jOy7bisdx6iB"
      },
      "source": [
        "#### Server Status"
      ]
    },
    {
      "cell_type": "code",
      "metadata": {
        "id": "9nVWlMSXrHQg",
        "colab": {
          "base_uri": "https://localhost:8080/"
        },
        "outputId": "be13029e-58d4-48d6-99aa-19bbfac686a1"
      },
      "source": [
        "#Check unique values for sc-status\n",
        "df_ht['sc-status'].unique()\n",
        "\n",
        "#As you can see we have unique values that are the same\n",
        "#Because data types are different. (e.g. '200', and 200)"
      ],
      "execution_count": null,
      "outputs": [
        {
          "output_type": "execute_result",
          "data": {
            "text/plain": [
              "array(['200', '304', '206', '404', '301', '302', '500', '501', 304, 200,\n",
              "       206, 404, 302, 500, 501, 301, 400, 403, 406, '400', '403', 416,\n",
              "       '406'], dtype=object)"
            ]
          },
          "metadata": {
            "tags": []
          },
          "execution_count": 69
        }
      ]
    },
    {
      "cell_type": "code",
      "metadata": {
        "colab": {
          "base_uri": "https://localhost:8080/"
        },
        "id": "UdvOknUeXLEF",
        "outputId": "314a97b7-19c2-42c1-90cf-8baa32300c42"
      },
      "source": [
        "#Change sc-status data type to numbers [integer]\n",
        "\n",
        "df_ht['sc-status'] = df_ht['sc-status'].astype(int)\n",
        "\n",
        "#Check data types\n",
        "df_ht.dtypes"
      ],
      "execution_count": null,
      "outputs": [
        {
          "output_type": "stream",
          "text": [
            "/usr/local/lib/python3.7/dist-packages/ipykernel_launcher.py:3: SettingWithCopyWarning: \n",
            "A value is trying to be set on a copy of a slice from a DataFrame.\n",
            "Try using .loc[row_indexer,col_indexer] = value instead\n",
            "\n",
            "See the caveats in the documentation: https://pandas.pydata.org/pandas-docs/stable/user_guide/indexing.html#returning-a-view-versus-a-copy\n",
            "  This is separate from the ipykernel package so we can avoid doing imports until\n"
          ],
          "name": "stderr"
        },
        {
          "output_type": "execute_result",
          "data": {
            "text/plain": [
              "date               datetime64[ns]\n",
              "time               datetime64[ns]\n",
              "s-sitename                 object\n",
              "s-ip                       object\n",
              "cs-method                  object\n",
              "cs-uri-stem                object\n",
              "s-port                     object\n",
              "c-ip                       object\n",
              "cs(User-Agent)             object\n",
              "sc-status                   int64\n",
              "sc-substatus               object\n",
              "sc-win32-status            object\n",
              "dtype: object"
            ]
          },
          "metadata": {
            "tags": []
          },
          "execution_count": 31
        }
      ]
    },
    {
      "cell_type": "code",
      "metadata": {
        "colab": {
          "base_uri": "https://localhost:8080/"
        },
        "id": "Sw-crE6MXaJA",
        "outputId": "246ee339-a1ce-411e-feb8-c957e5558679"
      },
      "source": [
        "# Find the frequencies of sc-status\n",
        "\n",
        "sc_status_freq = df_ht['sc-status'].value_counts()\n",
        "sc_status_freq"
      ],
      "execution_count": null,
      "outputs": [
        {
          "output_type": "execute_result",
          "data": {
            "text/plain": [
              "200    6072354\n",
              "304    2136876\n",
              "404     142571\n",
              "206      72471\n",
              "302       7366\n",
              "500       2010\n",
              "403        700\n",
              "301        433\n",
              "400        210\n",
              "501        113\n",
              "406         54\n",
              "416          3\n",
              "Name: sc-status, dtype: int64"
            ]
          },
          "metadata": {
            "tags": []
          },
          "execution_count": 32
        }
      ]
    },
    {
      "cell_type": "code",
      "metadata": {
        "colab": {
          "base_uri": "https://localhost:8080/",
          "height": 427
        },
        "id": "0ol1aaNmXkQE",
        "outputId": "5bf02889-e8fe-451e-a28e-b79d9748d52a"
      },
      "source": [
        "# Creating pie chart for sc-status\n",
        "labels = sc_status_freq.index\n",
        "# frequency count\n",
        "sc_status_freq = df_ht['sc-status'].value_counts()\n",
        "# colors\n",
        "colors = ['blue','yellow','red','green','gold','lightskyblue', 'slateblue', 'white', 'black', 'teal', 'indigo', 'maroon' ]\n",
        "fig, ax = plt.subplots(figsize = (7, 7))\n",
        "ax.pie(sc_status_freq, labels = labels, autopct = \"%1.1f\");\n",
        "plt.title('Server Analysis')\n",
        "plt.axis('equal')\n",
        "plt.legend(labels,loc=3)\n",
        "plt.show()"
      ],
      "execution_count": null,
      "outputs": [
        {
          "output_type": "display_data",
          "data": {
            "image/png": "[encoded data removed]",
            "text/plain": [
              "<Figure size 504x504 with 1 Axes>"
            ]
          },
          "metadata": {
            "tags": []
          }
        }
      ]
    },
    {
      "cell_type": "markdown",
      "metadata": {
        "id": "bxT49TgGpwrw"
      },
      "source": [
        "### 2.3 Geographic Analysis"
      ]
    },
    {
      "cell_type": "markdown",
      "metadata": {
        "id": "MpEve4Zgvtc9"
      },
      "source": [
        "Clinet's IP addresses can reflect geographic information. Since different IP are from different countries even citys, we can find out the demographics information from them. You may use **DbIpCity** from **ip2geotools** to find the geolocation information from given IPs.\n",
        "\n",
        "**Notes:**\n",
        "There are some attributes in ip2geotools can help: <br>\n",
        "*ip_address*: IP address <br>\n",
        "*city*: city where IP address is located <br>\n",
        "*region*: region where IP address is located <br>\n",
        "*country*: country where IP address is located (two letters country code) <br>"
      ]
    },
    {
      "cell_type": "markdown",
      "metadata": {
        "id": "AvUQUKGCqLhJ"
      },
      "source": [
        "#### 2.3.A Requests by Country\n",
        "<div class=\"alert alert-block alert-warning\">\n",
        "\n",
        "**Code**:\n",
        "    Build your code with the following requirements <br>\n",
        "    1. Select all requests at 01 Jan 2007 from 20:00:00 pm to 20:59:59. <br>\n",
        "    2. Discover on the demographics by analysing requests from country level. <br>\n",
        "    3. Plot countries of all requests in pie chart. <br>\n",
        "    4. List top 3 with the numbers of requests. <br>\n",
        "    *Keep the outputs for code in your notebook.\n",
        "</div>\n",
        "\n",
        "<div class=\"alert alert-block alert-warning\">\n",
        "    \n",
        "**Report**:\n",
        "    **Part I 2.3.A** Please include your results for this coding task into your report Part I section '2.3.A', <br>\n",
        "    1. How many requests raised in the period of time? <br>\n",
        "    2. How many countries are invlolved? <br>\n",
        "    3. Figure 'Request by Country' in pie chart. <br>\n",
        "    4. top 3 countries with request numbers. <br>\n",
        "</div>"
      ]
    },
    {
      "cell_type": "code",
      "metadata": {
        "id": "g1UvjRlOVjy0",
        "colab": {
          "base_uri": "https://localhost:8080/",
          "height": 1000
        },
        "outputId": "6ae3593c-8a96-4033-b19e-bce60ccf6924"
      },
      "source": [
        "!pip install ip2geotools"
      ],
      "execution_count": null,
      "outputs": [
        {
          "output_type": "stream",
          "text": [
            "Collecting ip2geotools\n",
            "  Downloading https://files.pythonhosted.org/packages/54/7d/b7e3252625443b5900feb009eb70527c65c2e5948b0eb7d0ffc063833441/ip2geotools-0.1.5-py3-none-any.whl\n",
            "Requirement already satisfied: certifi>=2018.10.15 in /usr/local/lib/python3.7/dist-packages (from ip2geotools) (2020.12.5)\n",
            "Collecting pycodestyle>=2.4.0\n",
            "\u001b[?25l  Downloading https://files.pythonhosted.org/packages/de/cc/227251b1471f129bc35e966bb0fceb005969023926d744139642d847b7ae/pycodestyle-2.7.0-py2.py3-none-any.whl (41kB)\n",
            "\u001b[K     |████████████████████████████████| 51kB 3.8MB/s \n",
            "\u001b[?25hCollecting geoip2>=2.9.0\n",
            "  Downloading https://files.pythonhosted.org/packages/15/85/c170af85a6a096fbe7a8ee3f6abcea7497113a70798398267d3cad8fabf1/geoip2-4.1.0-py2.py3-none-any.whl\n",
            "Collecting isort>=4.3.4\n",
            "\u001b[?25l  Downloading https://files.pythonhosted.org/packages/d9/47/0ec3ec948b7b3a0ba44e62adede4dca8b5985ba6aaee59998bed0916bd17/isort-5.8.0-py3-none-any.whl (103kB)\n",
            "\u001b[K     |████████████████████████████████| 112kB 10.6MB/s \n",
            "\u001b[?25hCollecting pkginfo>=1.4.2\n",
            "  Downloading https://files.pythonhosted.org/packages/b0/9a/d78e7c299eb5659bc3a036e5a968a399c62bfe0b2aa18baf7d13f43373ba/pkginfo-1.7.0-py2.py3-none-any.whl\n",
            "Requirement already satisfied: Pygments>=2.3.0 in /usr/local/lib/python3.7/dist-packages (from ip2geotools) (2.6.1)\n",
            "Requirement already satisfied: chardet>=3.0.4 in /usr/local/lib/python3.7/dist-packages (from ip2geotools) (3.0.4)\n",
            "Requirement already satisfied: requests>=2.20.1 in /usr/local/lib/python3.7/dist-packages (from ip2geotools) (2.23.0)\n",
            "Requirement already satisfied: lxml>=4.2.5 in /usr/local/lib/python3.7/dist-packages (from ip2geotools) (4.2.6)\n",
            "Collecting autopep8>=1.4.3\n",
            "\u001b[?25l  Downloading https://files.pythonhosted.org/packages/5e/41/5bfb10d1a480556ff114cce2ba124416b86197ef7bd6e600b021477856d9/autopep8-1.5.6-py2.py3-none-any.whl (44kB)\n",
            "\u001b[K     |████████████████████████████████| 51kB 6.2MB/s \n",
            "\u001b[?25hRequirement already satisfied: bleach>=3.0.2 in /usr/local/lib/python3.7/dist-packages (from ip2geotools) (3.3.0)\n",
            "Requirement already satisfied: pyparsing>=2.3.0 in /usr/local/lib/python3.7/dist-packages (from ip2geotools) (2.4.7)\n",
            "Requirement already satisfied: decorator>=4.3.0 in /usr/local/lib/python3.7/dist-packages (from ip2geotools) (4.4.2)\n",
            "Collecting future>=0.17.1\n",
            "\u001b[?25l  Downloading https://files.pythonhosted.org/packages/45/0b/38b06fd9b92dc2b68d58b75f900e97884c45bedd2ff83203d933cf5851c9/future-0.18.2.tar.gz (829kB)\n",
            "\u001b[K     |████████████████████████████████| 829kB 15.0MB/s \n",
            "\u001b[?25hCollecting maxminddb>=1.4.1\n",
            "\u001b[?25l  Downloading https://files.pythonhosted.org/packages/51/90/e1718dc14b9ecc7e1ef627f577d92d644a4acebcb4d97f6a6918e12591ba/maxminddb-2.0.3.tar.gz (286kB)\n",
            "\u001b[K     |████████████████████████████████| 286kB 29.6MB/s \n",
            "\u001b[?25hCollecting dicttoxml>=1.7.4\n",
            "  Downloading https://files.pythonhosted.org/packages/74/36/534db111db9e7610a41641a1f6669a964aacaf51858f466de264cc8dcdd9/dicttoxml-1.7.4.tar.gz\n",
            "Requirement already satisfied: wrapt>=1.10.11 in /usr/local/lib/python3.7/dist-packages (from ip2geotools) (1.12.1)\n",
            "Requirement already satisfied: docutils>=0.14 in /usr/local/lib/python3.7/dist-packages (from ip2geotools) (0.17)\n",
            "Collecting ratelim>=0.1.6\n",
            "  Downloading https://files.pythonhosted.org/packages/f2/98/7e6d147fd16a10a5f821db6e25f192265d6ecca3d82957a4fdd592cad49c/ratelim-0.1.6-py2.py3-none-any.whl\n",
            "Collecting requests-toolbelt>=0.8.0\n",
            "\u001b[?25l  Downloading https://files.pythonhosted.org/packages/60/ef/7681134338fc097acef8d9b2f8abe0458e4d87559c689a8c306d0957ece5/requests_toolbelt-0.9.1-py2.py3-none-any.whl (54kB)\n",
            "\u001b[K     |████████████████████████████████| 61kB 7.2MB/s \n",
            "\u001b[?25hCollecting selenium>=3.141.0\n",
            "\u001b[?25l  Downloading https://files.pythonhosted.org/packages/80/d6/4294f0b4bce4de0abf13e17190289f9d0613b0a44e5dd6a7f5ca98459853/selenium-3.141.0-py2.py3-none-any.whl (904kB)\n",
            "\u001b[K     |████████████████████████████████| 911kB 37.3MB/s \n",
            "\u001b[?25hRequirement already satisfied: Click>=7.0 in /usr/local/lib/python3.7/dist-packages (from ip2geotools) (7.1.2)\n",
            "Collecting typed-ast>=1.1.0\n",
            "\u001b[?25l  Downloading https://files.pythonhosted.org/packages/65/b3/573d2f1fecbbe8f82a8d08172e938c247f99abe1be3bef3da2efaa3810bf/typed_ast-1.4.3-cp37-cp37m-manylinux1_x86_64.whl (743kB)\n",
            "\u001b[K     |████████████████████████████████| 747kB 46.3MB/s \n",
            "\u001b[?25hCollecting geocoder>=1.38.1\n",
            "\u001b[?25l  Downloading https://files.pythonhosted.org/packages/4f/6b/13166c909ad2f2d76b929a4227c952630ebaf0d729f6317eb09cbceccbab/geocoder-1.38.1-py2.py3-none-any.whl (98kB)\n",
            "\u001b[K     |████████████████████████████████| 102kB 9.9MB/s \n",
            "\u001b[?25hCollecting mccabe>=0.6.1\n",
            "  Downloading https://files.pythonhosted.org/packages/87/89/479dc97e18549e21354893e4ee4ef36db1d237534982482c3681ee6e7b57/mccabe-0.6.1-py2.py3-none-any.whl\n",
            "Collecting cssselect>=1.0.3\n",
            "  Downloading https://files.pythonhosted.org/packages/3b/d4/3b5c17f00cce85b9a1e6f91096e1cc8e8ede2e1be8e96b87ce1ed09e92c5/cssselect-1.1.0-py2.py3-none-any.whl\n",
            "Requirement already satisfied: tqdm>=4.28.1 in /usr/local/lib/python3.7/dist-packages (from ip2geotools) (4.41.1)\n",
            "Requirement already satisfied: idna>=2.7 in /usr/local/lib/python3.7/dist-packages (from ip2geotools) (2.10)\n",
            "Requirement already satisfied: packaging>=18.0 in /usr/local/lib/python3.7/dist-packages (from ip2geotools) (20.9)\n",
            "Collecting pyquery>=1.4.0\n",
            "  Downloading https://files.pythonhosted.org/packages/58/0b/85d15e21f660a8ea68b1e0286168938857391f4ec9f6d204d91c9e013826/pyquery-1.4.3-py3-none-any.whl\n",
            "Requirement already satisfied: six>=1.11.0 in /usr/local/lib/python3.7/dist-packages (from ip2geotools) (1.15.0)\n",
            "Collecting astroid>=2.1.0\n",
            "\u001b[?25l  Downloading https://files.pythonhosted.org/packages/03/e3/9f9c3ad230d706dbf2d0314f5cff92f6d3cc7d65226af2854ea59d000c43/astroid-2.5.3-py3-none-any.whl (226kB)\n",
            "\u001b[K     |████████████████████████████████| 235kB 43.4MB/s \n",
            "\u001b[?25hCollecting pylint>=2.2.0\n",
            "\u001b[?25l  Downloading https://files.pythonhosted.org/packages/6f/93/c710ecf2dd7098e9e15a0760c3afa31ae0b586beb4184bf4b14341c36848/pylint-2.7.4-py3-none-any.whl (346kB)\n",
            "\u001b[K     |████████████████████████████████| 348kB 41.2MB/s \n",
            "\u001b[?25hRequirement already satisfied: webencodings>=0.5.1 in /usr/local/lib/python3.7/dist-packages (from ip2geotools) (0.5.1)\n",
            "Collecting typing>=3.6.6\n",
            "\u001b[?25l  Downloading https://files.pythonhosted.org/packages/05/d9/6eebe19d46bd05360c9a9aae822e67a80f9242aabbfc58b641b957546607/typing-3.7.4.3.tar.gz (78kB)\n",
            "\u001b[K     |████████████████████████████████| 81kB 9.0MB/s \n",
            "\u001b[?25hCollecting pip-review>=1.0\n",
            "  Downloading https://files.pythonhosted.org/packages/30/ef/f54555f7999efc5b7bd60a2d25692fa713f2f3e12276ed8aa814c3b96e95/pip_review-1.1.0-py3-none-any.whl\n",
            "Collecting readme-renderer>=24.0\n",
            "  Downloading https://files.pythonhosted.org/packages/39/a5/459adfa22ea237f6e8d0fa95ad29d7369579a5eec26f016ab34bb7f8359c/readme_renderer-29.0-py2.py3-none-any.whl\n",
            "Requirement already satisfied: urllib3>=1.24.1 in /usr/local/lib/python3.7/dist-packages (from ip2geotools) (1.24.3)\n",
            "Collecting twine>=1.12.1\n",
            "  Downloading https://files.pythonhosted.org/packages/42/ad/713372978a8de58a43c507bf62b9c30c3d7b5cda4e972d563b881620a511/twine-3.4.1-py3-none-any.whl\n",
            "Collecting lazy-object-proxy>=1.3.1\n",
            "\u001b[?25l  Downloading https://files.pythonhosted.org/packages/6e/b0/f055db25fd68ab4859832a887c8b304274fc12dd5a3f8e83e61250733aeb/lazy_object_proxy-1.6.0-cp37-cp37m-manylinux1_x86_64.whl (55kB)\n",
            "\u001b[K     |████████████████████████████████| 61kB 6.9MB/s \n",
            "\u001b[?25hCollecting IP2Location>=8.0.3\n",
            "  Downloading https://files.pythonhosted.org/packages/87/00/4da6e42e05b3f219c0cf8efd995d88881a109b030dc70dfd45a0383e27fe/IP2Location-8.5.1-py3-none-any.whl\n",
            "Collecting aiohttp<4.0.0,>=3.6.2\n",
            "\u001b[?25l  Downloading https://files.pythonhosted.org/packages/88/c0/5890b4c8b04a79b7360e8fe4490feb0bb3ab179743f199f0e6220cebd568/aiohttp-3.7.4.post0-cp37-cp37m-manylinux2014_x86_64.whl (1.3MB)\n",
            "\u001b[K     |████████████████████████████████| 1.3MB 37.8MB/s \n",
            "\u001b[?25hRequirement already satisfied: toml in /usr/local/lib/python3.7/dist-packages (from autopep8>=1.4.3->ip2geotools) (0.10.2)\n",
            "Requirement already satisfied: pip in /usr/local/lib/python3.7/dist-packages (from pip-review>=1.0->ip2geotools) (19.3.1)\n",
            "Collecting colorama>=0.4.3\n",
            "  Downloading https://files.pythonhosted.org/packages/44/98/5b86278fbbf250d239ae0ecb724f8572af1c91f4a11edf4d36a206189440/colorama-0.4.4-py2.py3-none-any.whl\n",
            "Collecting keyring>=15.1\n",
            "  Downloading https://files.pythonhosted.org/packages/26/f9/41230ac47f738f1ba66676dc8d3b30ca5b1f9eb0230fc204bcd9836c4ae9/keyring-23.0.1-py3-none-any.whl\n",
            "Requirement already satisfied: importlib-metadata>=3.6 in /usr/local/lib/python3.7/dist-packages (from twine>=1.12.1->ip2geotools) (3.10.0)\n",
            "Collecting rfc3986>=1.4.0\n",
            "  Downloading https://files.pythonhosted.org/packages/78/be/7b8b99fd74ff5684225f50dd0e865393d2265656ef3b4ba9eaaaffe622b8/rfc3986-1.4.0-py2.py3-none-any.whl\n",
            "Collecting async-timeout<4.0,>=3.0\n",
            "  Downloading https://files.pythonhosted.org/packages/e1/1e/5a4441be21b0726c4464f3f23c8b19628372f606755a9d2e46c187e65ec4/async_timeout-3.0.1-py3-none-any.whl\n",
            "Requirement already satisfied: typing-extensions>=3.6.5 in /usr/local/lib/python3.7/dist-packages (from aiohttp<4.0.0,>=3.6.2->geoip2>=2.9.0->ip2geotools) (3.7.4.3)\n",
            "Collecting multidict<7.0,>=4.5\n",
            "\u001b[?25l  Downloading https://files.pythonhosted.org/packages/7c/a6/4123b8165acbe773d1a8dc8e3f0d1edea16d29f7de018eda769abb56bd30/multidict-5.1.0-cp37-cp37m-manylinux2014_x86_64.whl (142kB)\n",
            "\u001b[K     |████████████████████████████████| 143kB 54.2MB/s \n",
            "\u001b[?25hCollecting yarl<2.0,>=1.0\n",
            "\u001b[?25l  Downloading https://files.pythonhosted.org/packages/f1/62/046834c5fc998c88ab2ef722f5d42122230a632212c8afa76418324f53ff/yarl-1.6.3-cp37-cp37m-manylinux2014_x86_64.whl (294kB)\n",
            "\u001b[K     |████████████████████████████████| 296kB 43.6MB/s \n",
            "\u001b[?25hRequirement already satisfied: attrs>=17.3.0 in /usr/local/lib/python3.7/dist-packages (from aiohttp<4.0.0,>=3.6.2->geoip2>=2.9.0->ip2geotools) (20.3.0)\n",
            "Collecting SecretStorage>=3.2; sys_platform == \"linux\"\n",
            "  Downloading https://files.pythonhosted.org/packages/d9/1e/29cd69fdac7391aa51510dfd42aa70b4e6a826c8cd019ee2a8ab9ec0777f/SecretStorage-3.3.1-py3-none-any.whl\n",
            "Collecting jeepney>=0.4.2; sys_platform == \"linux\"\n",
            "\u001b[?25l  Downloading https://files.pythonhosted.org/packages/51/b0/a6ea72741aaac3f37fb96d195e4ee576a103c4c04e279bc6b446a70960e1/jeepney-0.6.0-py3-none-any.whl (45kB)\n",
            "\u001b[K     |████████████████████████████████| 51kB 5.7MB/s \n",
            "\u001b[?25hRequirement already satisfied: zipp>=0.5 in /usr/local/lib/python3.7/dist-packages (from importlib-metadata>=3.6->twine>=1.12.1->ip2geotools) (3.4.1)\n",
            "Collecting cryptography>=2.0\n",
            "\u001b[?25l  Downloading https://files.pythonhosted.org/packages/b2/26/7af637e6a7e87258b963f1731c5982fb31cd507f0d90d91836e446955d02/cryptography-3.4.7-cp36-abi3-manylinux2014_x86_64.whl (3.2MB)\n",
            "\u001b[K     |████████████████████████████████| 3.2MB 42.9MB/s \n",
            "\u001b[?25hRequirement already satisfied: cffi>=1.12 in /usr/local/lib/python3.7/dist-packages (from cryptography>=2.0->SecretStorage>=3.2; sys_platform == \"linux\"->keyring>=15.1->twine>=1.12.1->ip2geotools) (1.14.5)\n",
            "Requirement already satisfied: pycparser in /usr/local/lib/python3.7/dist-packages (from cffi>=1.12->cryptography>=2.0->SecretStorage>=3.2; sys_platform == \"linux\"->keyring>=15.1->twine>=1.12.1->ip2geotools) (2.20)\n",
            "Building wheels for collected packages: future, maxminddb, dicttoxml, typing\n",
            "  Building wheel for future (setup.py) ... \u001b[?25l\u001b[?25hdone\n",
            "  Created wheel for future: filename=future-0.18.2-cp37-none-any.whl size=491058 sha256=243e545596c000bbb003eb11331c9b12f8b43a545dc0f0ea1ff355e0fdd2d119\n",
            "  Stored in directory: /root/.cache/pip/wheels/8b/99/a0/81daf51dcd359a9377b110a8a886b3895921802d2fc1b2397e\n",
            "  Building wheel for maxminddb (setup.py) ... \u001b[?25l\u001b[?25hdone\n",
            "  Created wheel for maxminddb: filename=maxminddb-2.0.3-py2.py3-none-any.whl size=15284 sha256=7ae800ab4e78a8b656331712bbd4dda36827b07529a1abbe056de551b2156c27\n",
            "  Stored in directory: /root/.cache/pip/wheels/55/0e/56/d16e8c8c19aced8bbd51b3e40f84208f023f9a90328c6b450f\n",
            "  Building wheel for dicttoxml (setup.py) ... \u001b[?25l\u001b[?25hdone\n",
            "  Created wheel for dicttoxml: filename=dicttoxml-1.7.4-cp37-none-any.whl size=17452 sha256=f5143fc3f82e8603736501b13df9f11c2a25f23912c503b9928333d9542ca661\n",
            "  Stored in directory: /root/.cache/pip/wheels/62/4f/a3/afd4a68f5add45a668c14efa53b64d5cffb2be6bacf993c151\n",
            "  Building wheel for typing (setup.py) ... \u001b[?25l\u001b[?25hdone\n",
            "  Created wheel for typing: filename=typing-3.7.4.3-cp37-none-any.whl size=26308 sha256=8d81d04e6d96f043976a093e56299c0af3c1743f98b89bb10d12258543d5c2ac\n",
            "  Stored in directory: /root/.cache/pip/wheels/2d/04/41/8e1836e79581989c22eebac3f4e70aaac9af07b0908da173be\n",
            "Successfully built future maxminddb dicttoxml typing\n",
            "\u001b[31mERROR: geoip2 4.1.0 has requirement requests<3.0.0,>=2.24.0, but you'll have requests 2.23.0 which is incompatible.\u001b[0m\n",
            "\u001b[31mERROR: geoip2 4.1.0 has requirement urllib3<2.0.0,>=1.25.2, but you'll have urllib3 1.24.3 which is incompatible.\u001b[0m\n",
            "Installing collected packages: pycodestyle, maxminddb, async-timeout, multidict, yarl, aiohttp, geoip2, isort, pkginfo, autopep8, future, dicttoxml, ratelim, requests-toolbelt, selenium, typed-ast, geocoder, mccabe, cssselect, pyquery, lazy-object-proxy, astroid, pylint, typing, pip-review, readme-renderer, colorama, cryptography, jeepney, SecretStorage, keyring, rfc3986, twine, IP2Location, ip2geotools\n",
            "  Found existing installation: future 0.16.0\n",
            "    Uninstalling future-0.16.0:\n",
            "      Successfully uninstalled future-0.16.0\n",
            "Successfully installed IP2Location-8.5.1 SecretStorage-3.3.1 aiohttp-3.7.4.post0 astroid-2.5.3 async-timeout-3.0.1 autopep8-1.5.6 colorama-0.4.4 cryptography-3.4.7 cssselect-1.1.0 dicttoxml-1.7.4 future-0.18.2 geocoder-1.38.1 geoip2-4.1.0 ip2geotools-0.1.5 isort-5.8.0 jeepney-0.6.0 keyring-23.0.1 lazy-object-proxy-1.6.0 maxminddb-2.0.3 mccabe-0.6.1 multidict-5.1.0 pip-review-1.1.0 pkginfo-1.7.0 pycodestyle-2.7.0 pylint-2.7.4 pyquery-1.4.3 ratelim-0.1.6 readme-renderer-29.0 requests-toolbelt-0.9.1 rfc3986-1.4.0 selenium-3.141.0 twine-3.4.1 typed-ast-1.4.3 typing-3.7.4.3 yarl-1.6.3\n"
          ],
          "name": "stdout"
        },
        {
          "output_type": "display_data",
          "data": {
            "application/vnd.colab-display-data+json": {
              "pip_warning": {
                "packages": [
                  "typing"
                ]
              }
            }
          },
          "metadata": {
            "tags": []
          }
        }
      ]
    },
    {
      "cell_type": "code",
      "metadata": {
        "colab": {
          "base_uri": "https://localhost:8080/",
          "height": 791
        },
        "id": "iOGpGEorZRz6",
        "outputId": "17f14521-1b01-4e3a-d086-817ae0215219"
      },
      "source": [
        "#Filter for 01 Jan 2007 from 20:00:00 pm to 20:59:59\n",
        "time_filter1 = '20:00:00'\n",
        "time_filter2 = '20:59:59'\n",
        "jan_filter='2007-01-01'\n",
        "\n",
        "#Filter for 01 Jan 2007\n",
        "df_jan=df_ht[df_ht['date']==jan_filter]\n",
        "\n",
        "#Filter for 20:00:00 pm to 20:59:59\n",
        "df_time = df_jan[df_jan['time']>= time_filter1]\n",
        "df2007 = df_time[df_time['time'] <= time_filter2]\n",
        "\n",
        "#Check dataframe df2007\n",
        "df2007"
      ],
      "execution_count": null,
      "outputs": [
        {
          "output_type": "execute_result",
          "data": {
            "text/html": [
              "<div>\n",
              "<style scoped>\n",
              "    .dataframe tbody tr th:only-of-type {\n",
              "        vertical-align: middle;\n",
              "    }\n",
              "\n",
              "    .dataframe tbody tr th {\n",
              "        vertical-align: top;\n",
              "    }\n",
              "\n",
              "    .dataframe thead th {\n",
              "        text-align: right;\n",
              "    }\n",
              "</style>\n",
              "<table border=\"1\" class=\"dataframe\">\n",
              "  <thead>\n",
              "    <tr style=\"text-align: right;\">\n",
              "      <th></th>\n",
              "      <th>date</th>\n",
              "      <th>time</th>\n",
              "      <th>s-sitename</th>\n",
              "      <th>s-ip</th>\n",
              "      <th>cs-method</th>\n",
              "      <th>cs-uri-stem</th>\n",
              "      <th>s-port</th>\n",
              "      <th>c-ip</th>\n",
              "      <th>cs(User-Agent)</th>\n",
              "      <th>sc-status</th>\n",
              "      <th>sc-substatus</th>\n",
              "      <th>sc-win32-status</th>\n",
              "    </tr>\n",
              "  </thead>\n",
              "  <tbody>\n",
              "    <tr>\n",
              "      <th>4770345</th>\n",
              "      <td>2007-01-01</td>\n",
              "      <td>2021-04-15 20:00:00</td>\n",
              "      <td>W3SVC1</td>\n",
              "      <td>127.0.0.1</td>\n",
              "      <td>GET</td>\n",
              "      <td>/Tulip/home/en-us/home_index.aspx</td>\n",
              "      <td>80</td>\n",
              "      <td>210.184.71.81</td>\n",
              "      <td>Mozilla/4.0+(compatible;+MSIE+6.0;+Windows+NT+...</td>\n",
              "      <td>200</td>\n",
              "      <td>0</td>\n",
              "      <td>0</td>\n",
              "    </tr>\n",
              "    <tr>\n",
              "      <th>4770346</th>\n",
              "      <td>2007-01-01</td>\n",
              "      <td>2021-04-15 20:00:00</td>\n",
              "      <td>W3SVC1</td>\n",
              "      <td>127.0.0.1</td>\n",
              "      <td>GET</td>\n",
              "      <td>/Tulip/common/common_style.aspx</td>\n",
              "      <td>80</td>\n",
              "      <td>210.184.71.81</td>\n",
              "      <td>Mozilla/4.0+(compatible;+MSIE+6.0;+Windows+NT+...</td>\n",
              "      <td>200</td>\n",
              "      <td>0</td>\n",
              "      <td>0</td>\n",
              "    </tr>\n",
              "    <tr>\n",
              "      <th>4770347</th>\n",
              "      <td>2007-01-01</td>\n",
              "      <td>2021-04-15 20:01:12</td>\n",
              "      <td>W3SVC1</td>\n",
              "      <td>127.0.0.1</td>\n",
              "      <td>GET</td>\n",
              "      <td>/Tulip/aboutus/en-us/photo/HarbourViewRoom02.jpg</td>\n",
              "      <td>80</td>\n",
              "      <td>62.211.200.146</td>\n",
              "      <td>Mozilla/5.0+(X11;+U;+Linux+i686;+en-US;+rv:1.8...</td>\n",
              "      <td>200</td>\n",
              "      <td>0</td>\n",
              "      <td>0</td>\n",
              "    </tr>\n",
              "    <tr>\n",
              "      <th>4770348</th>\n",
              "      <td>2007-01-01</td>\n",
              "      <td>2021-04-15 20:01:48</td>\n",
              "      <td>W3SVC1</td>\n",
              "      <td>127.0.0.1</td>\n",
              "      <td>GET</td>\n",
              "      <td>/Tulip/aboutus/en-us/photo/SkyLounge01.jpg</td>\n",
              "      <td>80</td>\n",
              "      <td>62.211.200.146</td>\n",
              "      <td>Mozilla/5.0+(X11;+U;+Linux+i686;+en-US;+rv:1.8...</td>\n",
              "      <td>200</td>\n",
              "      <td>0</td>\n",
              "      <td>0</td>\n",
              "    </tr>\n",
              "    <tr>\n",
              "      <th>4770349</th>\n",
              "      <td>2007-01-01</td>\n",
              "      <td>2021-04-15 20:01:57</td>\n",
              "      <td>W3SVC1</td>\n",
              "      <td>127.0.0.1</td>\n",
              "      <td>GET</td>\n",
              "      <td>/Tulip/aboutus/en-us/photo/SuperiorRoom01.jpg</td>\n",
              "      <td>80</td>\n",
              "      <td>62.211.200.146</td>\n",
              "      <td>Mozilla/5.0+(X11;+U;+Linux+i686;+en-US;+rv:1.8...</td>\n",
              "      <td>200</td>\n",
              "      <td>0</td>\n",
              "      <td>0</td>\n",
              "    </tr>\n",
              "    <tr>\n",
              "      <th>...</th>\n",
              "      <td>...</td>\n",
              "      <td>...</td>\n",
              "      <td>...</td>\n",
              "      <td>...</td>\n",
              "      <td>...</td>\n",
              "      <td>...</td>\n",
              "      <td>...</td>\n",
              "      <td>...</td>\n",
              "      <td>...</td>\n",
              "      <td>...</td>\n",
              "      <td>...</td>\n",
              "      <td>...</td>\n",
              "    </tr>\n",
              "    <tr>\n",
              "      <th>4770554</th>\n",
              "      <td>2007-01-01</td>\n",
              "      <td>2021-04-15 20:52:46</td>\n",
              "      <td>W3SVC1</td>\n",
              "      <td>127.0.0.1</td>\n",
              "      <td>GET</td>\n",
              "      <td>/robots.txt</td>\n",
              "      <td>80</td>\n",
              "      <td>74.6.85.161</td>\n",
              "      <td>Mozilla/5.0+(compatible;+Yahoo!+Slurp;+http://...</td>\n",
              "      <td>404</td>\n",
              "      <td>0</td>\n",
              "      <td>2</td>\n",
              "    </tr>\n",
              "    <tr>\n",
              "      <th>4770555</th>\n",
              "      <td>2007-01-01</td>\n",
              "      <td>2021-04-15 20:52:48</td>\n",
              "      <td>W3SVC1</td>\n",
              "      <td>127.0.0.1</td>\n",
              "      <td>GET</td>\n",
              "      <td>/Tulip/dining/zh-hk/dining_cafeserena.aspx</td>\n",
              "      <td>80</td>\n",
              "      <td>74.6.85.206</td>\n",
              "      <td>Mozilla/5.0+(compatible;+Yahoo!+Slurp;+http://...</td>\n",
              "      <td>200</td>\n",
              "      <td>0</td>\n",
              "      <td>0</td>\n",
              "    </tr>\n",
              "    <tr>\n",
              "      <th>4770556</th>\n",
              "      <td>2007-01-01</td>\n",
              "      <td>2021-04-15 20:59:04</td>\n",
              "      <td>W3SVC1</td>\n",
              "      <td>127.0.0.1</td>\n",
              "      <td>GET</td>\n",
              "      <td>/Tulip/whatsnew/whatsnew_roomsdetail.aspx</td>\n",
              "      <td>80</td>\n",
              "      <td>202.160.178.181</td>\n",
              "      <td>Mozilla/5.0+(compatible;+Yahoo!+Slurp+China;+h...</td>\n",
              "      <td>200</td>\n",
              "      <td>0</td>\n",
              "      <td>0</td>\n",
              "    </tr>\n",
              "    <tr>\n",
              "      <th>4770557</th>\n",
              "      <td>2007-01-01</td>\n",
              "      <td>2021-04-15 20:59:40</td>\n",
              "      <td>W3SVC1</td>\n",
              "      <td>127.0.0.1</td>\n",
              "      <td>GET</td>\n",
              "      <td>/robots.txt</td>\n",
              "      <td>80</td>\n",
              "      <td>74.6.75.47</td>\n",
              "      <td>Mozilla/5.0+(compatible;+Yahoo!+Slurp;+http://...</td>\n",
              "      <td>404</td>\n",
              "      <td>0</td>\n",
              "      <td>2</td>\n",
              "    </tr>\n",
              "    <tr>\n",
              "      <th>4770558</th>\n",
              "      <td>2007-01-01</td>\n",
              "      <td>2021-04-15 20:59:41</td>\n",
              "      <td>W3SVC1</td>\n",
              "      <td>127.0.0.1</td>\n",
              "      <td>GET</td>\n",
              "      <td>/Tulip/whatsnew/whatsnew_fooddetail.aspx</td>\n",
              "      <td>80</td>\n",
              "      <td>74.6.73.79</td>\n",
              "      <td>Mozilla/5.0+(compatible;+Yahoo!+Slurp;+http://...</td>\n",
              "      <td>200</td>\n",
              "      <td>0</td>\n",
              "      <td>0</td>\n",
              "    </tr>\n",
              "  </tbody>\n",
              "</table>\n",
              "<p>214 rows × 12 columns</p>\n",
              "</div>"
            ],
            "text/plain": [
              "              date                time  ... sc-substatus sc-win32-status\n",
              "4770345 2007-01-01 2021-04-15 20:00:00  ...            0               0\n",
              "4770346 2007-01-01 2021-04-15 20:00:00  ...            0               0\n",
              "4770347 2007-01-01 2021-04-15 20:01:12  ...            0               0\n",
              "4770348 2007-01-01 2021-04-15 20:01:48  ...            0               0\n",
              "4770349 2007-01-01 2021-04-15 20:01:57  ...            0               0\n",
              "...            ...                 ...  ...          ...             ...\n",
              "4770554 2007-01-01 2021-04-15 20:52:46  ...            0               2\n",
              "4770555 2007-01-01 2021-04-15 20:52:48  ...            0               0\n",
              "4770556 2007-01-01 2021-04-15 20:59:04  ...            0               0\n",
              "4770557 2007-01-01 2021-04-15 20:59:40  ...            0               2\n",
              "4770558 2007-01-01 2021-04-15 20:59:41  ...            0               0\n",
              "\n",
              "[214 rows x 12 columns]"
            ]
          },
          "metadata": {
            "tags": []
          },
          "execution_count": 39
        }
      ]
    },
    {
      "cell_type": "code",
      "metadata": {
        "colab": {
          "base_uri": "https://localhost:8080/"
        },
        "id": "Orv7phYkZzIN",
        "outputId": "720e93d3-6fc2-4a4d-a303-5da1562dbf8a"
      },
      "source": [
        "#All ip addresses for 1/1/2007 from 8 pm to 8.59 pm\n",
        "all_ips=df2007['c-ip']\n",
        "all_ips"
      ],
      "execution_count": null,
      "outputs": [
        {
          "output_type": "execute_result",
          "data": {
            "text/plain": [
              "4770345      210.184.71.81\n",
              "4770346      210.184.71.81\n",
              "4770347     62.211.200.146\n",
              "4770348     62.211.200.146\n",
              "4770349     62.211.200.146\n",
              "                ...       \n",
              "4770554        74.6.85.161\n",
              "4770555        74.6.85.206\n",
              "4770556    202.160.178.181\n",
              "4770557         74.6.75.47\n",
              "4770558         74.6.73.79\n",
              "Name: c-ip, Length: 214, dtype: object"
            ]
          },
          "metadata": {
            "tags": []
          },
          "execution_count": 40
        }
      ]
    },
    {
      "cell_type": "code",
      "metadata": {
        "id": "jSdycFyYzybd"
      },
      "source": [
        "#Function for finding IP addresses request by country\n",
        "from ip2geotools.databases.noncommercial import DbIpCity\n",
        "def getip_country(query_ip):\n",
        "  #query_ip =df_jan['c-ip']\n",
        "  df2007['Country'] = df2007.apply(lambda row: DbIpCity.get(row['c-ip'],\n",
        "  api_key='free').country, axis=1)\n",
        "\n",
        "  return df2007['Country']"
      ],
      "execution_count": null,
      "outputs": []
    },
    {
      "cell_type": "code",
      "metadata": {
        "colab": {
          "base_uri": "https://localhost:8080/"
        },
        "id": "wMyEIyYQZvkm",
        "outputId": "a719fbab-ef6d-48b7-c218-58439504f800"
      },
      "source": [
        "# Ip address request by countries\n",
        "Countries = getip_country(all_ips)\n",
        "\n",
        "#Frequency of request by countries\n",
        "Countries.value_counts()"
      ],
      "execution_count": null,
      "outputs": [
        {
          "output_type": "stream",
          "text": [
            "/usr/local/lib/python3.7/dist-packages/ipykernel_launcher.py:6: SettingWithCopyWarning: \n",
            "A value is trying to be set on a copy of a slice from a DataFrame.\n",
            "Try using .loc[row_indexer,col_indexer] = value instead\n",
            "\n",
            "See the caveats in the documentation: https://pandas.pydata.org/pandas-docs/stable/user_guide/indexing.html#returning-a-view-versus-a-copy\n",
            "  \n"
          ],
          "name": "stderr"
        },
        {
          "output_type": "execute_result",
          "data": {
            "text/plain": [
              "HK    169\n",
              "CN     25\n",
              "US     16\n",
              "IT      3\n",
              "AU      1\n",
              "Name: Country, dtype: int64"
            ]
          },
          "metadata": {
            "tags": []
          },
          "execution_count": 42
        }
      ]
    },
    {
      "cell_type": "code",
      "metadata": {
        "id": "xN21MLq7x6Cf",
        "colab": {
          "base_uri": "https://localhost:8080/",
          "height": 264
        },
        "outputId": "47e17922-89d3-4a73-8b95-2760a812a90c"
      },
      "source": [
        "#Plot request countries in pie chart\n",
        "my_data = Countries.value_counts()\n",
        "my_labels = Countries.value_counts().index\n",
        "\n",
        "plt.pie(my_data,labels=my_labels,autopct='%1.1f%%')\n",
        "plt.title('Request by Country')\n",
        "plt.axis('equal')\n",
        "plt.legend(my_labels,loc=3)\n",
        "plt.show()"
      ],
      "execution_count": null,
      "outputs": [
        {
          "output_type": "display_data",
          "data": {
            "image/png": "[encoded data removed]",
            "text/plain": [
              "<Figure size 432x288 with 1 Axes>"
            ]
          },
          "metadata": {
            "tags": []
          }
        }
      ]
    },
    {
      "cell_type": "code",
      "metadata": {
        "colab": {
          "base_uri": "https://localhost:8080/"
        },
        "id": "mLmXRbVkaaSL",
        "outputId": "87063028-c03c-44c1-b83e-32d9c305b6ca"
      },
      "source": [
        "#List top 3 countries request numbers\n",
        "\n",
        "Countries.value_counts().nlargest(3)"
      ],
      "execution_count": null,
      "outputs": [
        {
          "output_type": "execute_result",
          "data": {
            "text/plain": [
              "HK    169\n",
              "CN     25\n",
              "US     16\n",
              "Name: Country, dtype: int64"
            ]
          },
          "metadata": {
            "tags": []
          },
          "execution_count": 23
        }
      ]
    },
    {
      "cell_type": "markdown",
      "metadata": {
        "id": "Qhf-g91_umxF"
      },
      "source": [
        "#### 2.3.B Requests by City\n",
        "<div class=\"alert alert-block alert-warning\">\n",
        "\n",
        "**Code**:\n",
        "    Using the selected requests from 2.3.A and build your code with the following requirements <br>\n",
        "    1. Discover on the demographics by analysing requests from city level. <br>\n",
        "    2. Plot cities of all requests in pie chart. <br>\n",
        "    3. List top 3 with the numbers of requests. <br>\n",
        "    *Keep the outputs for code in your notebook.\n",
        "</div>\n",
        "\n",
        "<div class=\"alert alert-block alert-warning\">\n",
        "    \n",
        "**Report**:\n",
        "    **Part I 2.3.B** Please include your results for this coding task into your report Part I section '2.3.B', <br>\n",
        "    1. How many cites are invlolved? <br>\n",
        "    2. Figure 'Request by City' in pie chart. <br>\n",
        "    3. Top 3 cities with request numbers. <br>\n",
        "</div>"
      ]
    },
    {
      "cell_type": "code",
      "metadata": {
        "id": "bWxbJmnRa2Nb"
      },
      "source": [
        "#Function for finding ip addresses city\n",
        "from ip2geotools.databases.noncommercial import DbIpCity\n",
        "def getip_city(query_ip):\n",
        "  #query_ip =df_jan['c-ip']\n",
        "  df2007['City'] = df2007.apply(lambda row: DbIpCity.get(row['c-ip'],\n",
        "  api_key='free').city, axis=1)\n",
        "\n",
        "  return df2007['City']\n"
      ],
      "execution_count": null,
      "outputs": []
    },
    {
      "cell_type": "code",
      "metadata": {
        "colab": {
          "base_uri": "https://localhost:8080/"
        },
        "id": "mO4VZyNFa-yP",
        "outputId": "5409afd1-e2f9-4fa8-fc3f-2a52cab28bf3"
      },
      "source": [
        "#Request from city level\n",
        "Cities = getip_city(all_ips)\n",
        "\n",
        "#Frequency of cities request numbers\n",
        "Cities.value_counts()"
      ],
      "execution_count": null,
      "outputs": [
        {
          "output_type": "stream",
          "text": [
            "/usr/local/lib/python3.7/dist-packages/ipykernel_launcher.py:6: SettingWithCopyWarning: \n",
            "A value is trying to be set on a copy of a slice from a DataFrame.\n",
            "Try using .loc[row_indexer,col_indexer] = value instead\n",
            "\n",
            "See the caveats in the documentation: https://pandas.pydata.org/pandas-docs/stable/user_guide/indexing.html#returning-a-view-versus-a-copy\n",
            "  \n"
          ],
          "name": "stderr"
        },
        {
          "output_type": "execute_result",
          "data": {
            "text/plain": [
              "Ha Kwai Chung                         166\n",
              "Beijing                                15\n",
              "New York                               14\n",
              "Jinrongjie (Xicheng District)           9\n",
              "Valcanneto                              3\n",
              "Hong Kong                               2\n",
              "Hangzhou                                1\n",
              "Quarry Bay                              1\n",
              "Sydney                                  1\n",
              "San Francisco (Financial District)      1\n",
              "Mountain View                           1\n",
              "Name: City, dtype: int64"
            ]
          },
          "metadata": {
            "tags": []
          },
          "execution_count": 46
        }
      ]
    },
    {
      "cell_type": "code",
      "metadata": {
        "id": "g7p39EpEBqaj",
        "colab": {
          "base_uri": "https://localhost:8080/",
          "height": 272
        },
        "outputId": "0a699c75-1ada-4ab7-d82a-9bb75ec08baa"
      },
      "source": [
        "# Create a pie chart of the city values\n",
        "\n",
        "my_data_city = Cities.value_counts()\n",
        "my_labels_city = Cities.value_counts().index\n",
        "\n",
        "plt.pie(my_data_city,autopct='%1.1f%%')\n",
        "plt.title('Request by City')\n",
        "plt.axis('equal')\n",
        "plt.legend(my_labels_city, bbox_to_anchor=(1,0.5), loc=\"center left\", fontsize=10,\n",
        "           bbox_transform=plt.gcf().transFigure)\n",
        "plt.subplots_adjust(left=0.0, bottom=0.1, right=0.85)\n",
        "plt.show()"
      ],
      "execution_count": null,
      "outputs": [
        {
          "output_type": "display_data",
          "data": {
            "image/png": "[encoded data removed]",
            "text/plain": [
              "<Figure size 432x288 with 1 Axes>"
            ]
          },
          "metadata": {
            "tags": []
          }
        }
      ]
    },
    {
      "cell_type": "code",
      "metadata": {
        "colab": {
          "base_uri": "https://localhost:8080/"
        },
        "id": "BQOhMljsbtgu",
        "outputId": "2131fbe0-2e7b-4409-f320-88fa35f241d2"
      },
      "source": [
        "#List top 3 cities request values\n",
        "\n",
        "Cities.value_counts().nlargest(3)"
      ],
      "execution_count": null,
      "outputs": [
        {
          "output_type": "execute_result",
          "data": {
            "text/plain": [
              "Ha Kwai Chung    166\n",
              "Beijing           15\n",
              "New York          14\n",
              "Name: City, dtype: int64"
            ]
          },
          "metadata": {
            "tags": []
          },
          "execution_count": 27
        }
      ]
    },
    {
      "cell_type": "markdown",
      "metadata": {
        "id": "UOLvHKdZtcto"
      },
      "source": [
        "# Part II - Web Crawling\n",
        "\n",
        "## Overview\n",
        "To better introduce all the professors including the emeritus professor, the professor and also associate professor in Deakin University School of IT, faculty will need to know all the citation information on all professors. Google Scholar is a web search engine that freely indexes the metadata of articles on many authors. Majority of the professors choose to use google scholar to track their publications and research works. Therefore,  the web crawling on google scholar will be able to have the citation information obtained across all the professors (who have the google scholar profile).\n"
      ]
    },
    {
      "cell_type": "markdown",
      "metadata": {
        "id": "gqbiN3nAw0tS"
      },
      "source": [
        "## 3. Professor List Generation"
      ]
    },
    {
      "cell_type": "markdown",
      "metadata": {
        "id": "Bm7eq9Iywjc-"
      },
      "source": [
        "### 3.1 Import and install web crawling library.\n",
        "\n",
        "<div class=\"alert alert-block alert-warning\">\n",
        "\n",
        "**Code**:\n",
        "    Import and install your web crawling library here.\n",
        "</div>\n",
        "\n",
        "<div class=\"alert alert-block alert-warning\">\n",
        "    \n",
        "**Report**:\n",
        "    **Part II 3.1** Please include your result for this coding task into your report Part II, with proper section title '3.1'.\n",
        "</div>\n",
        "\n",
        "*hint: you could use selenium by doing the pip install selenium, download the webdriver for chromedriver and define your webdriver for crawling. But you are free to use any other library*\n",
        "\n"
      ]
    },
    {
      "cell_type": "code",
      "metadata": {
        "id": "UOpg-r1YV27t"
      },
      "source": [
        "!pip install BeautifulSoup"
      ],
      "execution_count": null,
      "outputs": []
    },
    {
      "cell_type": "code",
      "metadata": {
        "id": "rHKPhKwUwtyI"
      },
      "source": [
        "# write your import and necessary web crawling libary here\n",
        "from bs4 import BeautifulSoup\n",
        "import urllib.request\n",
        "from IPython.display import HTML\n",
        "import re"
      ],
      "execution_count": null,
      "outputs": []
    },
    {
      "cell_type": "markdown",
      "metadata": {
        "id": "ZX4OQIsfwwk_"
      },
      "source": [
        "### 3.2 Find all professors in School of IT and save it as csv.\n",
        "\n",
        "<div class=\"alert alert-block alert-warning\">\n",
        "\n",
        "**Code**:\n",
        "    Find all professors in Schoolf of IT and save it as csv. The csv must have the full name of the professor (in one column), the title of the professor and University Name.\n",
        "</div>\n",
        "\n",
        "<div class=\"alert alert-block alert-warning\">\n",
        "    \n",
        "**Report**:\n",
        "    **Part II 3.2** Please include your result for this coding task into your report Part II, with proper section title '3.2'.\n",
        "</div>\n",
        "\n",
        "\n",
        "\n",
        "*hint: the url of the staff list for school of IT is https://www.deakin.edu.au/information-technology/staff-listing. you may need to iteratively find out html tag by table in the page to start crawl all the text from td (td is the elements in html table, check https://www.w3schools.com/html/html_tables.asp)*"
      ]
    },
    {
      "cell_type": "code",
      "metadata": {
        "id": "vII6Na-1xEAh"
      },
      "source": [
        "# here we first define the parsing method, you will need to use this parsing method to format the professor full name and title from the staff page.\n",
        "# the name of the professor from staff page will be split by space and last two words are full name\n",
        "def parse_name(stringtext):\n",
        "  return \" \".join(stringtext.split(\" \")[-2:]),\" \".join(stringtext.split(\" \")[:-2])"
      ],
      "execution_count": null,
      "outputs": []
    },
    {
      "cell_type": "code",
      "metadata": {
        "colab": {
          "base_uri": "https://localhost:8080/"
        },
        "id": "BtJ5JxLSzDdV",
        "outputId": "c1552c25-f3ce-47a3-a3bb-42c7e69a76a9"
      },
      "source": [
        "#Get the BeautifulSoup object for the web url that you want to scrape\n",
        "url = 'https://www.deakin.edu.au/information-technology/staff-listing'\n",
        "r = urllib.request.urlopen(url).read()\n",
        "soup = BeautifulSoup(r, 'lxml')\n",
        "type(soup)"
      ],
      "execution_count": null,
      "outputs": [
        {
          "output_type": "execute_result",
          "data": {
            "text/plain": [
              "bs4.BeautifulSoup"
            ]
          },
          "metadata": {
            "tags": []
          },
          "execution_count": 3
        }
      ]
    },
    {
      "cell_type": "code",
      "metadata": {
        "id": "YbqgT4btzQZ0"
      },
      "source": [
        "# We are scrapping the url and extracting all the information into a list\n",
        "# We also going to split and text only\n",
        "li=[]\n",
        "for link in soup.findAll('a', attrs={'href': re.compile(\"^http\")}):\n",
        "\n",
        "        a=link.text.split(\">\")\n",
        "        li.append(a)"
      ],
      "execution_count": null,
      "outputs": []
    },
    {
      "cell_type": "code",
      "metadata": {
        "colab": {
          "base_uri": "https://localhost:8080/"
        },
        "id": "mjRZYYGzzUql",
        "outputId": "f43a0c6a-d55c-442e-d73d-06623806b78b"
      },
      "source": [
        "# All the information scraped from url which includes professors\n",
        "li"
      ],
      "execution_count": null,
      "outputs": [
        {
          "output_type": "execute_result",
          "data": {
            "text/plain": [
              "[['School of Information Technology'],\n",
              " ['Staff listing'],\n",
              " ['Research'],\n",
              " ['Software Engineering and Innovation Research Centre'],\n",
              " ['Data to Intelligence Research Centre'],\n",
              " ['Centre for Internet of Things ECOsystems Research and Experimentation '],\n",
              " ['Our partners'],\n",
              " ['Facilities'],\n",
              " ['DISCovery Lab'],\n",
              " ['RIoT Lab'],\n",
              " ['Student capstone program'],\n",
              " ['Professor John Yearwood'],\n",
              " ['Georgia Loupis'],\n",
              " ['Professor Jean-Guy Schneider'],\n",
              " ['Associate Professor Andrew Cain'],\n",
              " ['Associate Professor Richard Dazeley'],\n",
              " ['Associate Professor Mohamed Abdelrazek'],\n",
              " ['Professor Peter Eklund'],\n",
              " ['Associate Professor Xiao Liu'],\n",
              " ['Associate Professor Tim Wilkin'],\n",
              " ['Dr Michael Hobbs'],\n",
              " ['Mr Damien Manuel'],\n",
              " ['Professor Robin Doss'],\n",
              " ['Emeritus Professor Lynn Batten'],\n",
              " ['Emeritus Professor Andrzej Goscinski'],\n",
              " ['Professor Jemal Abawajy'],\n",
              " ['Professor Maia Angelova'],\n",
              " ['Professor Gleb Beliakov'],\n",
              " ['Professor Terry Caelli'],\n",
              " ['Professor Jinho Choi'],\n",
              " ['Professor Robin Doss'],\n",
              " ['Professor Peter Eklund'],\n",
              " ['Professor Seng Loke'],\n",
              " ['Professor Antonio Robles-Kelly'],\n",
              " ['Professor Jean-Guy Schneider'],\n",
              " ['Professor Yong Xiang'],\n",
              " ['Professor John Yearwood'],\n",
              " ['Professor Arkady Zaslavsky'],\n",
              " ['Associate Professor Mohamed Abdelrazek'],\n",
              " ['Associate Professor Andrew Cain'],\n",
              " ['Associate Professor Richard Dazeley'],\n",
              " ['Associate Professor Guangyan Huang'],\n",
              " ['Associate Professor Gang Li'],\n",
              " ['Associate Professor Jianxin Li'],\n",
              " ['Associate Professor Xiao Liu'],\n",
              " ['Associate Professor Vicky Mak'],\n",
              " ['Associate Professor Tim Wilkin'],\n",
              " ['Dr Chetan Arora'],\n",
              " ['Dr Zubair Baig'],\n",
              " ['Dr Shaun Bangay'],\n",
              " ['Dr Muneera Bano'],\n",
              " ['Dr Jan Carlo Barca'],\n",
              " ['Dr Morshed Chowdhury'],\n",
              " ['Dr Niroshinie Fernando'],\n",
              " ['Dr Longxiang Gao'],\n",
              " ['Dr Shang Gao'],\n",
              " ['Dr Marek Gagolewski'],\n",
              " ['Dr Thuong Hoang'],\n",
              " ['Dr Michael Hobbs'],\n",
              " ['Dr Jingyu Hou'],\n",
              " ['Dr Shamsul Huda'],\n",
              " ['Dr Amani Ibrahim'],\n",
              " ['Dr Simon James'],\n",
              " ['Dr Frank Jiang'],\n",
              " ['Dr Chandan Karmakar'],\n",
              " ['Dr Elicia Lanham'],\n",
              " ['Dr Jesse Laeuchli'],\n",
              " ['Dr Kevin Lee'],\n",
              " ['Dr Wei Luo'],\n",
              " ['Dr Musa Mammadov'],\n",
              " ['Dr Kerri Morgan'],\n",
              " ['Dr Asef Nazari'],\n",
              " ['Dr Duc Thanh Nguyen'],\n",
              " ['Dr Thanh Thi Nguyen'],\n",
              " ['Dr Bahador Ofoghi'],\n",
              " ['Dr Lei Pan'],\n",
              " ['Dr Guillermo Pineda-Villavicencio'],\n",
              " ['Dr Chathu Ranaweera'],\n",
              " ['Dr Sutharshan Rajasegarar'],\n",
              " ['Dr Imran Razzak'],\n",
              " ['Dr Sergiy Shelyag'],\n",
              " ['Dr David Tay'],\n",
              " ['Dr Dhananjay Thiruvady'],\n",
              " ['Dr Rolando Trujillo\\xa0Rasua'],\n",
              " ['Dr Julien Ugon'],\n",
              " ['Dr Nayyar Zaidi'],\n",
              " ['Dr Zili Zhang'],\n",
              " ['Dr Sasan Adibi'],\n",
              " ['Adnan Anwar'],\n",
              " ['Dr Sunil Aryal'],\n",
              " ['Dr Alexander Baldwin'],\n",
              " ['Dr Alessio Bonti'],\n",
              " ['Dr Mohamed Reda Bouadjenek'],\n",
              " ['Dr Greg Bowtell'],\n",
              " ['Dr Feifei Chen'],\n",
              " ['Michelle Cyganowski'],\n",
              " ['Dr Robert Dew'],\n",
              " ['Dr Imali Dias'],\n",
              " ['Dr Atabak Elmi'],\n",
              " ['Dr Hasan Shahid Ferdous'],\n",
              " ['Dr Anuroop Gaddam'],\n",
              " ['Alireza Hassani'],\n",
              " ['Dr Damien Hutchinson'],\n",
              " ['Dr Jonathan Kua'],\n",
              " ['Dr Glory Lee'],\n",
              " ['Dr Daniel Ma'],\n",
              " ['Dr Somaiyeh MahmoudZadeh'],\n",
              " ['Sophie McKenzie'],\n",
              " ['Dr Valeh Moghaddam'],\n",
              " ['Dr Bahar Nakisa'],\n",
              " ['Dr Azadeh Ghari Neiat'],\n",
              " ['Dr Jihong Park'],\n",
              " ['Dr Shiva Pokhrel'],\n",
              " ['Dr Sergey Polyakovskiy'],\n",
              " ['Dr Justin Rough'],\n",
              " ['Dr Atul Sajjanhar'],\n",
              " ['Dr Arash Shaghaghi'],\n",
              " ['Dr Keshav Sood'],\n",
              " ['Dr Rui Wang'],\n",
              " ['Jason Wells'],\n",
              " ['Dr Guy Wood-Bradley'],\n",
              " ['Dr Luxing Yang'],\n",
              " ['Dr Yu (Leo) Zhang'],\n",
              " ['Dr Ye Zhu'],\n",
              " ['Dr Mumtaz Ali'],\n",
              " ['Dr Francisco Cruz'],\n",
              " ['Dr Jie Ding'],\n",
              " ['Dr Rasul Esmaeilbeigi'],\n",
              " ['Dr Belinda Huang'],\n",
              " ['Dr Jay Jeong'],\n",
              " ['Dr Tariq Khan'],\n",
              " ['Dr Chuong Thai Doan'],\n",
              " ['Sunny Lee'],\n",
              " ['Dr Xufeng Lin'],\n",
              " ['Dr Ming Liu'],\n",
              " ['Dr Alexey Medvedev'],\n",
              " ['Dr Iynkaran Natgunanathan'],\n",
              " ['Dr Thanh-Binh Nguyen'],\n",
              " ['Dr Yevhen Zolotavkin'],\n",
              " ['Dr Amin Abken'],\n",
              " ['Dr Borui Cai'],\n",
              " ['Mr Grishma Khadka'],\n",
              " ['Mr Budi Kurniawan'],\n",
              " ['Dr Reinier Diaz Millan'],\n",
              " ['Mr Bruno Mendivez Vasquez'],\n",
              " ['Mr Jack Murley'],\n",
              " ['Dr Ashish Nanda'],\n",
              " ['Dr Patrick Scolyer-Gray'],\n",
              " ['Mr Youyang Qu'],\n",
              " ['Dr Nan Sun'],\n",
              " ['Dr Radhagayathri Udhayakumar'],\n",
              " ['Dr Di Wu'],\n",
              " ['Dr Roozbeh Zarei'],\n",
              " ['Mr Brendan Hill'],\n",
              " ['Adjunct Professor Abid Adam'],\n",
              " ['Adjunct Professor Catherine Buhler'],\n",
              " ['Adjunct Professor Eshan Dissanayake'],\n",
              " ['Honorary Fellow Manohar Esarapu'],\n",
              " ['Adjunct Professor Patrick Fair'],\n",
              " ['Adjunct Professor David Fairman'],\n",
              " ['Honorary Professor Mark Fitzgerald'],\n",
              " ['Adjunct Professor Praveen Gauravaram'],\n",
              " ['Adjunct Professor Nigel Hedges'],\n",
              " ['Adjunct Professor Darren Kane'],\n",
              " ['Honorary Fellow Kerry Kirk'],\n",
              " ['Adjunct Professor Len Kleinman'],\n",
              " ['Adjunct Professor James Kotsias'],\n",
              " ['Adjunct Professor Berin Lautenbach'],\n",
              " ['Adjunct Professor Phillip Magness'],\n",
              " ['Adjunct Associate Professor Joseph Mathew'],\n",
              " ['Honorary Professor William Moran'],\n",
              " ['Honorary Associate Professor Ana Novak'],\n",
              " ['Adjunct Professor Zahir Quettawala'],\n",
              " ['Adjunct Associate Professor Anthony Robertshaw'],\n",
              " ['Adjunct Professor Jamie Rossato'],\n",
              " ['Adjunct Professor Chadi Saliby'],\n",
              " ['Adjunct Professor Malcolm Shore'],\n",
              " ['Honorary Fellow Anthony Travers'],\n",
              " ['Adjunct Professor EJ Wise'],\n",
              " ['Bec Anderson-Peters'],\n",
              " ['Fiona Ebdon'],\n",
              " ['Belinda Evans-Hunt'],\n",
              " ['Sheryl Pascoe'],\n",
              " ['Emmica Schlobohm'],\n",
              " ['Laura Wilson'],\n",
              " ['Sia Alavian'],\n",
              " ['Professor Abbas Kudrati'],\n",
              " ['Jesse Mcmeikan'],\n",
              " ['Thuy Nguyen'],\n",
              " ['Michelle Yu'],\n",
              " ['Nghia Dang'],\n",
              " ['Justin Li'],\n",
              " ['\\n\\nInformation technology\\n'],\n",
              " ['\\n\\nFaculty of Science, Engineering and Built Environment\\n'],\n",
              " ['\\n\\nAbout Deakin\\n'],\n",
              " ['\\n\\nResearch\\n'],\n",
              " ['WeChat'],\n",
              " ['YouTube'],\n",
              " ['Atar calculator'],\n",
              " ['Atar calculator']]"
            ]
          },
          "metadata": {
            "tags": []
          },
          "execution_count": 5
        }
      ]
    },
    {
      "cell_type": "code",
      "metadata": {
        "id": "zYZiHPI-zbYE"
      },
      "source": [
        "#filter the list and extract all professors (emeritus, professors, and associate)\n",
        "professorlist=li[23:47]"
      ],
      "execution_count": null,
      "outputs": []
    },
    {
      "cell_type": "code",
      "metadata": {
        "colab": {
          "base_uri": "https://localhost:8080/"
        },
        "id": "pDFhzEB1zj57",
        "outputId": "bb8e581f-3ef0-4a49-c049-e45ea838262b"
      },
      "source": [
        "# The list of all the professors\n",
        "professorlist"
      ],
      "execution_count": null,
      "outputs": [
        {
          "output_type": "execute_result",
          "data": {
            "text/plain": [
              "[['Emeritus Professor Lynn Batten'],\n",
              " ['Emeritus Professor Andrzej Goscinski'],\n",
              " ['Professor Jemal Abawajy'],\n",
              " ['Professor Maia Angelova'],\n",
              " ['Professor Gleb Beliakov'],\n",
              " ['Professor Terry Caelli'],\n",
              " ['Professor Jinho Choi'],\n",
              " ['Professor Robin Doss'],\n",
              " ['Professor Peter Eklund'],\n",
              " ['Professor Seng Loke'],\n",
              " ['Professor Antonio Robles-Kelly'],\n",
              " ['Professor Jean-Guy Schneider'],\n",
              " ['Professor Yong Xiang'],\n",
              " ['Professor John Yearwood'],\n",
              " ['Professor Arkady Zaslavsky'],\n",
              " ['Associate Professor Mohamed Abdelrazek'],\n",
              " ['Associate Professor Andrew Cain'],\n",
              " ['Associate Professor Richard Dazeley'],\n",
              " ['Associate Professor Guangyan Huang'],\n",
              " ['Associate Professor Gang Li'],\n",
              " ['Associate Professor Jianxin Li'],\n",
              " ['Associate Professor Xiao Liu'],\n",
              " ['Associate Professor Vicky Mak'],\n",
              " ['Associate Professor Tim Wilkin']]"
            ]
          },
          "metadata": {
            "tags": []
          },
          "execution_count": 7
        }
      ]
    },
    {
      "cell_type": "code",
      "metadata": {
        "id": "sDt4l_oHznPr"
      },
      "source": [
        "# We parse the professor using the given function above name and title. We will switch. Name of professor will be first and title second.\n",
        "\n",
        "my_list=[]\n",
        "for list in professorlist:\n",
        "    for number in list:\n",
        "        n2=parse_name(number)\n",
        "        #print(n2)\n",
        "        my_list.append(n2)"
      ],
      "execution_count": null,
      "outputs": []
    },
    {
      "cell_type": "code",
      "metadata": {
        "colab": {
          "base_uri": "https://localhost:8080/"
        },
        "id": "KnzfYykp0HlK",
        "outputId": "d206a174-1dc4-4506-ee53-501b650c1337"
      },
      "source": [
        "#Check if it is correct. The Name is first and title is second\n",
        "my_list"
      ],
      "execution_count": null,
      "outputs": [
        {
          "output_type": "execute_result",
          "data": {
            "text/plain": [
              "[('Lynn Batten', 'Emeritus Professor'),\n",
              " ('Andrzej Goscinski', 'Emeritus Professor'),\n",
              " ('Jemal Abawajy', 'Professor'),\n",
              " ('Maia Angelova', 'Professor'),\n",
              " ('Gleb Beliakov', 'Professor'),\n",
              " ('Terry Caelli', 'Professor'),\n",
              " ('Jinho Choi', 'Professor'),\n",
              " ('Robin Doss', 'Professor'),\n",
              " ('Peter Eklund', 'Professor'),\n",
              " ('Seng Loke', 'Professor'),\n",
              " ('Antonio Robles-Kelly', 'Professor'),\n",
              " ('Jean-Guy Schneider', 'Professor'),\n",
              " ('Yong Xiang', 'Professor'),\n",
              " ('John Yearwood', 'Professor'),\n",
              " ('Arkady Zaslavsky', 'Professor'),\n",
              " ('Mohamed Abdelrazek', 'Associate Professor'),\n",
              " ('Andrew Cain', 'Associate Professor'),\n",
              " ('Richard Dazeley', 'Associate Professor'),\n",
              " ('Guangyan Huang', 'Associate Professor'),\n",
              " ('Gang Li', 'Associate Professor'),\n",
              " ('Jianxin Li', 'Associate Professor'),\n",
              " ('Xiao Liu', 'Associate Professor'),\n",
              " ('Vicky Mak', 'Associate Professor'),\n",
              " ('Tim Wilkin', 'Associate Professor')]"
            ]
          },
          "metadata": {
            "tags": []
          },
          "execution_count": 9
        }
      ]
    },
    {
      "cell_type": "code",
      "metadata": {
        "id": "tbMLb0AC0aer"
      },
      "source": [
        "# All professor are from Deakin University\n",
        "my_list2=[]\n",
        "\n",
        "for item in my_list:\n",
        "    uni=\"Deakin University\"\n",
        "    my_list2.append(uni)"
      ],
      "execution_count": null,
      "outputs": []
    },
    {
      "cell_type": "code",
      "metadata": {
        "colab": {
          "base_uri": "https://localhost:8080/"
        },
        "id": "0HS35cnB0gJY",
        "outputId": "ba7f478c-adef-4e89-bcda-378a338463f7"
      },
      "source": [
        "# A list of Deakin University that match the professors name and title\n",
        "my_list2"
      ],
      "execution_count": null,
      "outputs": [
        {
          "output_type": "execute_result",
          "data": {
            "text/plain": [
              "['Deakin University',\n",
              " 'Deakin University',\n",
              " 'Deakin University',\n",
              " 'Deakin University',\n",
              " 'Deakin University',\n",
              " 'Deakin University',\n",
              " 'Deakin University',\n",
              " 'Deakin University',\n",
              " 'Deakin University',\n",
              " 'Deakin University',\n",
              " 'Deakin University',\n",
              " 'Deakin University',\n",
              " 'Deakin University',\n",
              " 'Deakin University',\n",
              " 'Deakin University',\n",
              " 'Deakin University',\n",
              " 'Deakin University',\n",
              " 'Deakin University',\n",
              " 'Deakin University',\n",
              " 'Deakin University',\n",
              " 'Deakin University',\n",
              " 'Deakin University',\n",
              " 'Deakin University',\n",
              " 'Deakin University']"
            ]
          },
          "metadata": {
            "tags": []
          },
          "execution_count": 23
        }
      ]
    },
    {
      "cell_type": "code",
      "metadata": {
        "id": "RmLHQyKbxIEL"
      },
      "source": [
        "import pandas as pd\n",
        "# import the list of professor names and university into a dataframe\n",
        "df_proflist=pd.DataFrame((my_list),columns=['name','title'])\n",
        "df_unilist=pd.DataFrame((my_list2),columns=['university'])"
      ],
      "execution_count": null,
      "outputs": []
    },
    {
      "cell_type": "code",
      "metadata": {
        "colab": {
          "base_uri": "https://localhost:8080/",
          "height": 758
        },
        "id": "mkjZCL0K056o",
        "outputId": "69d46d1d-cb74-4cb8-db76-08dafb7b5471"
      },
      "source": [
        " # Place the DataFrames side by side\n",
        "df_prof_namelist = pd.concat([df_proflist, df_unilist], axis=1)\n",
        "df_prof_namelist"
      ],
      "execution_count": null,
      "outputs": [
        {
          "output_type": "execute_result",
          "data": {
            "text/html": [
              "<div>\n",
              "<style scoped>\n",
              "    .dataframe tbody tr th:only-of-type {\n",
              "        vertical-align: middle;\n",
              "    }\n",
              "\n",
              "    .dataframe tbody tr th {\n",
              "        vertical-align: top;\n",
              "    }\n",
              "\n",
              "    .dataframe thead th {\n",
              "        text-align: right;\n",
              "    }\n",
              "</style>\n",
              "<table border=\"1\" class=\"dataframe\">\n",
              "  <thead>\n",
              "    <tr style=\"text-align: right;\">\n",
              "      <th></th>\n",
              "      <th>name</th>\n",
              "      <th>title</th>\n",
              "      <th>university</th>\n",
              "    </tr>\n",
              "  </thead>\n",
              "  <tbody>\n",
              "    <tr>\n",
              "      <th>0</th>\n",
              "      <td>Lynn Batten</td>\n",
              "      <td>Emeritus Professor</td>\n",
              "      <td>Deakin University</td>\n",
              "    </tr>\n",
              "    <tr>\n",
              "      <th>1</th>\n",
              "      <td>Andrzej Goscinski</td>\n",
              "      <td>Emeritus Professor</td>\n",
              "      <td>Deakin University</td>\n",
              "    </tr>\n",
              "    <tr>\n",
              "      <th>2</th>\n",
              "      <td>Jemal Abawajy</td>\n",
              "      <td>Professor</td>\n",
              "      <td>Deakin University</td>\n",
              "    </tr>\n",
              "    <tr>\n",
              "      <th>3</th>\n",
              "      <td>Maia Angelova</td>\n",
              "      <td>Professor</td>\n",
              "      <td>Deakin University</td>\n",
              "    </tr>\n",
              "    <tr>\n",
              "      <th>4</th>\n",
              "      <td>Gleb Beliakov</td>\n",
              "      <td>Professor</td>\n",
              "      <td>Deakin University</td>\n",
              "    </tr>\n",
              "    <tr>\n",
              "      <th>5</th>\n",
              "      <td>Terry Caelli</td>\n",
              "      <td>Professor</td>\n",
              "      <td>Deakin University</td>\n",
              "    </tr>\n",
              "    <tr>\n",
              "      <th>6</th>\n",
              "      <td>Jinho Choi</td>\n",
              "      <td>Professor</td>\n",
              "      <td>Deakin University</td>\n",
              "    </tr>\n",
              "    <tr>\n",
              "      <th>7</th>\n",
              "      <td>Robin Doss</td>\n",
              "      <td>Professor</td>\n",
              "      <td>Deakin University</td>\n",
              "    </tr>\n",
              "    <tr>\n",
              "      <th>8</th>\n",
              "      <td>Peter Eklund</td>\n",
              "      <td>Professor</td>\n",
              "      <td>Deakin University</td>\n",
              "    </tr>\n",
              "    <tr>\n",
              "      <th>9</th>\n",
              "      <td>Seng Loke</td>\n",
              "      <td>Professor</td>\n",
              "      <td>Deakin University</td>\n",
              "    </tr>\n",
              "    <tr>\n",
              "      <th>10</th>\n",
              "      <td>Antonio Robles-Kelly</td>\n",
              "      <td>Professor</td>\n",
              "      <td>Deakin University</td>\n",
              "    </tr>\n",
              "    <tr>\n",
              "      <th>11</th>\n",
              "      <td>Jean-Guy Schneider</td>\n",
              "      <td>Professor</td>\n",
              "      <td>Deakin University</td>\n",
              "    </tr>\n",
              "    <tr>\n",
              "      <th>12</th>\n",
              "      <td>Yong Xiang</td>\n",
              "      <td>Professor</td>\n",
              "      <td>Deakin University</td>\n",
              "    </tr>\n",
              "    <tr>\n",
              "      <th>13</th>\n",
              "      <td>John Yearwood</td>\n",
              "      <td>Professor</td>\n",
              "      <td>Deakin University</td>\n",
              "    </tr>\n",
              "    <tr>\n",
              "      <th>14</th>\n",
              "      <td>Arkady Zaslavsky</td>\n",
              "      <td>Professor</td>\n",
              "      <td>Deakin University</td>\n",
              "    </tr>\n",
              "    <tr>\n",
              "      <th>15</th>\n",
              "      <td>Mohamed Abdelrazek</td>\n",
              "      <td>Associate Professor</td>\n",
              "      <td>Deakin University</td>\n",
              "    </tr>\n",
              "    <tr>\n",
              "      <th>16</th>\n",
              "      <td>Andrew Cain</td>\n",
              "      <td>Associate Professor</td>\n",
              "      <td>Deakin University</td>\n",
              "    </tr>\n",
              "    <tr>\n",
              "      <th>17</th>\n",
              "      <td>Richard Dazeley</td>\n",
              "      <td>Associate Professor</td>\n",
              "      <td>Deakin University</td>\n",
              "    </tr>\n",
              "    <tr>\n",
              "      <th>18</th>\n",
              "      <td>Guangyan Huang</td>\n",
              "      <td>Associate Professor</td>\n",
              "      <td>Deakin University</td>\n",
              "    </tr>\n",
              "    <tr>\n",
              "      <th>19</th>\n",
              "      <td>Gang Li</td>\n",
              "      <td>Associate Professor</td>\n",
              "      <td>Deakin University</td>\n",
              "    </tr>\n",
              "    <tr>\n",
              "      <th>20</th>\n",
              "      <td>Jianxin Li</td>\n",
              "      <td>Associate Professor</td>\n",
              "      <td>Deakin University</td>\n",
              "    </tr>\n",
              "    <tr>\n",
              "      <th>21</th>\n",
              "      <td>Xiao Liu</td>\n",
              "      <td>Associate Professor</td>\n",
              "      <td>Deakin University</td>\n",
              "    </tr>\n",
              "    <tr>\n",
              "      <th>22</th>\n",
              "      <td>Vicky Mak</td>\n",
              "      <td>Associate Professor</td>\n",
              "      <td>Deakin University</td>\n",
              "    </tr>\n",
              "    <tr>\n",
              "      <th>23</th>\n",
              "      <td>Tim Wilkin</td>\n",
              "      <td>Associate Professor</td>\n",
              "      <td>Deakin University</td>\n",
              "    </tr>\n",
              "  </tbody>\n",
              "</table>\n",
              "</div>"
            ],
            "text/plain": [
              "                    name                title         university\n",
              "0            Lynn Batten   Emeritus Professor  Deakin University\n",
              "1      Andrzej Goscinski   Emeritus Professor  Deakin University\n",
              "2          Jemal Abawajy            Professor  Deakin University\n",
              "3          Maia Angelova            Professor  Deakin University\n",
              "4          Gleb Beliakov            Professor  Deakin University\n",
              "5           Terry Caelli            Professor  Deakin University\n",
              "6             Jinho Choi            Professor  Deakin University\n",
              "7             Robin Doss            Professor  Deakin University\n",
              "8           Peter Eklund            Professor  Deakin University\n",
              "9              Seng Loke            Professor  Deakin University\n",
              "10  Antonio Robles-Kelly            Professor  Deakin University\n",
              "11    Jean-Guy Schneider            Professor  Deakin University\n",
              "12            Yong Xiang            Professor  Deakin University\n",
              "13         John Yearwood            Professor  Deakin University\n",
              "14      Arkady Zaslavsky            Professor  Deakin University\n",
              "15    Mohamed Abdelrazek  Associate Professor  Deakin University\n",
              "16           Andrew Cain  Associate Professor  Deakin University\n",
              "17       Richard Dazeley  Associate Professor  Deakin University\n",
              "18        Guangyan Huang  Associate Professor  Deakin University\n",
              "19               Gang Li  Associate Professor  Deakin University\n",
              "20            Jianxin Li  Associate Professor  Deakin University\n",
              "21              Xiao Liu  Associate Professor  Deakin University\n",
              "22             Vicky Mak  Associate Professor  Deakin University\n",
              "23            Tim Wilkin  Associate Professor  Deakin University"
            ]
          },
          "metadata": {
            "tags": []
          },
          "execution_count": 14
        }
      ]
    },
    {
      "cell_type": "code",
      "metadata": {
        "id": "iARm7lUVVfr4"
      },
      "source": [
        "df_prof_namelist.to_csv(r\"/content/Professor-list.csv\", index=False, header=True)"
      ],
      "execution_count": null,
      "outputs": []
    },
    {
      "cell_type": "markdown",
      "metadata": {
        "id": "hwKTqMXaxOpw"
      },
      "source": [
        "## 4. Professor Citation Information Generation\n"
      ]
    },
    {
      "cell_type": "markdown",
      "metadata": {
        "id": "_uk5f1LgxQc7"
      },
      "source": [
        "### 4.1 Search the google scholar for all professors\n",
        "\n",
        "<div class=\"alert alert-block alert-warning\">\n",
        "\n",
        "**Code**:\n",
        "    Search the google scholar for all professors and obtain their citations-all, h-index-all, i10-all, citation-since2016,h-index-2016 and i10-since2016. Save the results as csv and must having **all the professors name, title and all 6 citation information.**\n",
        "</div>\n",
        "\n",
        "<div class=\"alert alert-block alert-warning\">\n",
        "    \n",
        "**Report**:\n",
        "    **Part II 4.1** Please include your result for this coding task into your report Part II, with proper section title '4.1'.\n",
        "</div>\n",
        "\n",
        "\n",
        "*hint: if the professors did not have the google scholar profle with the name, save the 6 citation information as string \"na\". you could use the while loop with condition or for loop with if condition or for loop with defined method having if condition to deal with those professors do not have google scholar*"
      ]
    },
    {
      "cell_type": "code",
      "metadata": {
        "id": "yQiQwM_xAVNG"
      },
      "source": [
        "#All the professor google scholar url that we want to scrape\n",
        "google_pages=['https://scholar.google.com.au/citations?hl=en&user=Tmg0T9sAAAAJ','https://scholar.google.com.au/citations?hl=en&user=CCF7GZoAAAAJ',\n",
        "       'https://scholar.google.com.au/citations?hl=en&user=_plRpWEAAAAJ', 'https://scholar.google.com.au/citations?hl=en&user=E9ZX2lgAAAAJ', 'https://scholar.google.com.au/citations?hl=en&user=QzFia5YAAAAJ',\n",
        "       'https://scholar.google.com.au/citations?hl=en&user=nzLXktMAAAAJ', 'https://scholar.google.com.au/citations?hl=en&user=oE1fk_gAAAAJ', 'https://scholar.google.com.au/citations?hl=en&user=ZbdN-0AAAAAJ',\n",
        "       'https://scholar.google.com.au/citations?hl=en&user=y5249-IAAAAJ', 'https://scholar.google.com.au/citations?hl=en&user=7ZrNsYEAAAAJ', 'https://scholar.google.com.au/citations?hl=en&user=W5VJ07UAAAAJ',\n",
        "       'https://scholar.google.com.au/citations?hl=en&user=h4HjI2UAAAAJ', 'https://scholar.google.com.au/citations?hl=en&user=sTAoZeUAAAAJ', 'https://scholar.google.com.au/citations?hl=en&user=ybnQkasAAAAJ',\n",
        "       'https://scholar.google.com.au/citations?hl=en&user=Re6GgdcAAAAJ', 'https://scholar.google.com.au/citations?hl=en&user=Tp8Sx6AAAAAJ', 'https://scholar.google.com.au/citations?hl=en&user=zeAIa-8AAAAJ',\n",
        "       'https://scholar.google.com/citations?user=dqwjm-0AAAAJ&hl=en', 'https://scholar.google.com.au/citations?hl=en&user=WenZ4JUAAAAJ', 'https://scholar.google.com.au/citations?hl=en&user=HMEuyCAAAAAJ',\n",
        "       'https://scholar.google.com.au/citations?hl=en&user=KAiJydoAAAAJ', 'https://scholar.google.com.au/citations?hl=en&user=leo8TPYAAAAJ'\n",
        "\n",
        "\n",
        "]\n",
        "\n"
      ],
      "execution_count": null,
      "outputs": []
    },
    {
      "cell_type": "code",
      "metadata": {
        "id": "f396imMQHK0j"
      },
      "source": [
        "# Scrape google scholar for all the citations needed\n",
        "\n",
        "#Create a list for all the variables\n",
        "name = []\n",
        "citation_all=[]\n",
        "h_index_all=[]\n",
        "i10_index_all=[]\n",
        "i10_index_since_2016=[]\n",
        "h_index_since_2016=[]\n",
        "citations_since_2016=[]\n",
        "\n",
        "#Create a loop to go scrape through google_pages which is our list of urls\n",
        "#After scrape it wil put in the list\n",
        "for google_page in google_pages:\n",
        "  r = requests.get(google_page)\n",
        "  soup = BeautifulSoup(r.content, 'lxml')\n",
        "  div_name = soup.find_all(\"div\", id='gsc_prf_in')\n",
        "  prof_name=div_name[0].text\n",
        "  name.append(prof_name)\n",
        "  all_div_citation = soup.find_all(\"td\", class_='gsc_rsb_std')\n",
        "  citation=all_div_citation[0].text\n",
        "  citation_all.append(citation)\n",
        "  h_index=all_div_citation[2].text\n",
        "  h_index_all.append(h_index)\n",
        "  i10_index=all_div_citation[4].text\n",
        "  i10_index_all.append(i10_index)\n",
        "  h_index2016=all_div_citation[3].text\n",
        "  h_index_since_2016.append(h_index2016)\n",
        "  i10_index2016=all_div_citation[5].text\n",
        "  i10_index_since_2016.append(i10_index2016)\n",
        "  citations2016=all_div_citation[1].text\n",
        "  citations_since_2016.append(citations2016)\n",
        "\n",
        "#put the scraped lists into a dataframe\n",
        "google_sholar = pd.DataFrame(\n",
        "    {\n",
        "        \"Name\": name,\n",
        "        \"Citations_all\": citation_all,\n",
        "        \"H_index_all\": h_index_all,\n",
        "         \"H_index_since_2016\": h_index_since_2016,\n",
        "        \"I10_index_all\": i10_index_all,\n",
        "         \"I10_index_since_2016\": i10_index_since_2016,\n",
        "        \"Citations_since_2016\": citations_since_2016\n",
        "\n",
        "    }\n",
        ")\n",
        "\n",
        "#Note I just remembered that I could have scrape the title too. Found out to late"
      ],
      "execution_count": null,
      "outputs": []
    },
    {
      "cell_type": "code",
      "metadata": {
        "id": "Wa6u9_cS1tjO"
      },
      "source": [
        "# Create dictionary for missing professor Andrzej Goscinski\n",
        "missing_prof1 = {\n",
        "        \"Name\": \"Andrzej Goscinski\",\n",
        "        \"Citations_all\": [\"NA\"],\n",
        "        \"H_index_all\": [\"NA\"],\n",
        "         \"H_index_since_2016\": [\"NA\"],\n",
        "        \"I10_index_all\": [\"NA\"],\n",
        "         \"I10_index_since_2016\": [\"NA\"],\n",
        "        \"Citations_since_2016\": [\"NA\"]\n",
        "\n",
        "\n",
        "}"
      ],
      "execution_count": null,
      "outputs": []
    },
    {
      "cell_type": "code",
      "metadata": {
        "id": "E503Hylz1ukc"
      },
      "source": [
        "# Create dictionary for missing professor Jemal Abawajy\n",
        "missing_prof2 = {\n",
        "        \"Name\": \"Jemal Abawajy\",\n",
        "        \"Citations_all\": [\"NA\"],\n",
        "        \"H_index_all\": [\"NA\"],\n",
        "         \"H_index_since_2016\": [\"NA\"],\n",
        "        \"I10_index_all\": [\"NA\"],\n",
        "         \"I10_index_since_2016\": [\"NA\"],\n",
        "        \"Citations_since_2016\": [\"NA\"]\n",
        "\n",
        "}"
      ],
      "execution_count": null,
      "outputs": []
    },
    {
      "cell_type": "code",
      "metadata": {
        "id": "iZP8oKIG1zeA"
      },
      "source": [
        "# Create dictionary for missing professor Robin Doss\n",
        "missing_prof3 = {\n",
        "        \"Name\": \"Robin Doss\",\n",
        "        \"Citations_all\": [\"NA\"],\n",
        "        \"H_index_all\": [\"NA\"],\n",
        "         \"H_index_since_2016\": [\"NA\"],\n",
        "        \"I10_index_all\": [\"NA\"],\n",
        "         \"I10_index_since_2016\": [\"NA\"],\n",
        "        \"Citations_since_2016\": [\"NA\"]\n",
        "\n",
        "}"
      ],
      "execution_count": null,
      "outputs": []
    },
    {
      "cell_type": "code",
      "metadata": {
        "id": "NHqszNOD19bA"
      },
      "source": [
        "#Put all the missing professor dictionaries into a dataframe\n",
        "prof_missing = pd.DataFrame(missing_prof1)\n",
        "prof_missing2 = pd.DataFrame(missing_prof2)\n",
        "prof_missing3 = pd.DataFrame(missing_prof3)"
      ],
      "execution_count": null,
      "outputs": []
    },
    {
      "cell_type": "code",
      "metadata": {
        "id": "0trkleC1mgkY"
      },
      "source": [
        "# Adding professors with no google scholar profile to the dataframe\n",
        "google_sholar_missing = google_sholar.append(prof_missing, ignore_index=False)\n",
        "google_sholar_missing1 = google_sholar_missing.append(prof_missing2, ignore_index=False)\n",
        "google_sholar_missing2 = google_sholar_missing1.append(prof_missing3, ignore_index=False)"
      ],
      "execution_count": null,
      "outputs": []
    },
    {
      "cell_type": "code",
      "metadata": {
        "colab": {
          "base_uri": "https://localhost:8080/",
          "height": 824
        },
        "id": "p7j8FE50yxWY",
        "outputId": "527801d0-bc93-4263-d760-afa000762f31"
      },
      "source": [
        "# reset index for dataframe\n",
        "google_scholar_miss_included = google_sholar_missing2.reset_index(drop=True)\n",
        "google_scholar_miss_included"
      ],
      "execution_count": null,
      "outputs": [
        {
          "output_type": "execute_result",
          "data": {
            "text/html": [
              "<div>\n",
              "<style scoped>\n",
              "    .dataframe tbody tr th:only-of-type {\n",
              "        vertical-align: middle;\n",
              "    }\n",
              "\n",
              "    .dataframe tbody tr th {\n",
              "        vertical-align: top;\n",
              "    }\n",
              "\n",
              "    .dataframe thead th {\n",
              "        text-align: right;\n",
              "    }\n",
              "</style>\n",
              "<table border=\"1\" class=\"dataframe\">\n",
              "  <thead>\n",
              "    <tr style=\"text-align: right;\">\n",
              "      <th></th>\n",
              "      <th>Name</th>\n",
              "      <th>Citations_all</th>\n",
              "      <th>H_index_all</th>\n",
              "      <th>H_index_since_2016</th>\n",
              "      <th>I10_index_all</th>\n",
              "      <th>I10_index_since_2016</th>\n",
              "      <th>Citations_since_2016</th>\n",
              "    </tr>\n",
              "  </thead>\n",
              "  <tbody>\n",
              "    <tr>\n",
              "      <th>0</th>\n",
              "      <td>Lynn Batten</td>\n",
              "      <td>2528</td>\n",
              "      <td>23</td>\n",
              "      <td>16</td>\n",
              "      <td>45</td>\n",
              "      <td>21</td>\n",
              "      <td>1172</td>\n",
              "    </tr>\n",
              "    <tr>\n",
              "      <th>1</th>\n",
              "      <td>Maia Angelova</td>\n",
              "      <td>680</td>\n",
              "      <td>15</td>\n",
              "      <td>11</td>\n",
              "      <td>21</td>\n",
              "      <td>14</td>\n",
              "      <td>397</td>\n",
              "    </tr>\n",
              "    <tr>\n",
              "      <th>2</th>\n",
              "      <td>Gleb Beliakov</td>\n",
              "      <td>8173</td>\n",
              "      <td>42</td>\n",
              "      <td>32</td>\n",
              "      <td>135</td>\n",
              "      <td>86</td>\n",
              "      <td>4632</td>\n",
              "    </tr>\n",
              "    <tr>\n",
              "      <th>3</th>\n",
              "      <td>Terry Caelli</td>\n",
              "      <td>8662</td>\n",
              "      <td>51</td>\n",
              "      <td>20</td>\n",
              "      <td>176</td>\n",
              "      <td>36</td>\n",
              "      <td>1472</td>\n",
              "    </tr>\n",
              "    <tr>\n",
              "      <th>4</th>\n",
              "      <td>Jinho Choi</td>\n",
              "      <td>7814</td>\n",
              "      <td>37</td>\n",
              "      <td>29</td>\n",
              "      <td>167</td>\n",
              "      <td>95</td>\n",
              "      <td>5023</td>\n",
              "    </tr>\n",
              "    <tr>\n",
              "      <th>5</th>\n",
              "      <td>Chang-Tsun Li</td>\n",
              "      <td>4341</td>\n",
              "      <td>33</td>\n",
              "      <td>21</td>\n",
              "      <td>104</td>\n",
              "      <td>65</td>\n",
              "      <td>2336</td>\n",
              "    </tr>\n",
              "    <tr>\n",
              "      <th>6</th>\n",
              "      <td>Peter Werner Eklund</td>\n",
              "      <td>3962</td>\n",
              "      <td>34</td>\n",
              "      <td>14</td>\n",
              "      <td>72</td>\n",
              "      <td>23</td>\n",
              "      <td>778</td>\n",
              "    </tr>\n",
              "    <tr>\n",
              "      <th>7</th>\n",
              "      <td>Seng W. Loke</td>\n",
              "      <td>7179</td>\n",
              "      <td>38</td>\n",
              "      <td>21</td>\n",
              "      <td>126</td>\n",
              "      <td>50</td>\n",
              "      <td>2907</td>\n",
              "    </tr>\n",
              "    <tr>\n",
              "      <th>8</th>\n",
              "      <td>Antonio Robles-Kelly</td>\n",
              "      <td>3655</td>\n",
              "      <td>24</td>\n",
              "      <td>15</td>\n",
              "      <td>62</td>\n",
              "      <td>27</td>\n",
              "      <td>1534</td>\n",
              "    </tr>\n",
              "    <tr>\n",
              "      <th>9</th>\n",
              "      <td>Jean-Guy Schneider</td>\n",
              "      <td>1812</td>\n",
              "      <td>24</td>\n",
              "      <td>15</td>\n",
              "      <td>48</td>\n",
              "      <td>21</td>\n",
              "      <td>643</td>\n",
              "    </tr>\n",
              "    <tr>\n",
              "      <th>10</th>\n",
              "      <td>Yong Xiang</td>\n",
              "      <td>6306</td>\n",
              "      <td>40</td>\n",
              "      <td>35</td>\n",
              "      <td>118</td>\n",
              "      <td>95</td>\n",
              "      <td>4969</td>\n",
              "    </tr>\n",
              "    <tr>\n",
              "      <th>11</th>\n",
              "      <td>John Yearwood</td>\n",
              "      <td>3786</td>\n",
              "      <td>32</td>\n",
              "      <td>23</td>\n",
              "      <td>92</td>\n",
              "      <td>45</td>\n",
              "      <td>1991</td>\n",
              "    </tr>\n",
              "    <tr>\n",
              "      <th>12</th>\n",
              "      <td>Arkady Zaslavsky</td>\n",
              "      <td>14930</td>\n",
              "      <td>50</td>\n",
              "      <td>33</td>\n",
              "      <td>177</td>\n",
              "      <td>80</td>\n",
              "      <td>8330</td>\n",
              "    </tr>\n",
              "    <tr>\n",
              "      <th>13</th>\n",
              "      <td>Mohamed Abdelrazek</td>\n",
              "      <td>1856</td>\n",
              "      <td>16</td>\n",
              "      <td>15</td>\n",
              "      <td>27</td>\n",
              "      <td>23</td>\n",
              "      <td>1256</td>\n",
              "    </tr>\n",
              "    <tr>\n",
              "      <th>14</th>\n",
              "      <td>Andrew Cain</td>\n",
              "      <td>289</td>\n",
              "      <td>10</td>\n",
              "      <td>8</td>\n",
              "      <td>11</td>\n",
              "      <td>8</td>\n",
              "      <td>192</td>\n",
              "    </tr>\n",
              "    <tr>\n",
              "      <th>15</th>\n",
              "      <td>Richard Dazeley</td>\n",
              "      <td>1470</td>\n",
              "      <td>16</td>\n",
              "      <td>13</td>\n",
              "      <td>24</td>\n",
              "      <td>15</td>\n",
              "      <td>948</td>\n",
              "    </tr>\n",
              "    <tr>\n",
              "      <th>16</th>\n",
              "      <td>Guangyan Huang</td>\n",
              "      <td>1128</td>\n",
              "      <td>20</td>\n",
              "      <td>18</td>\n",
              "      <td>28</td>\n",
              "      <td>23</td>\n",
              "      <td>809</td>\n",
              "    </tr>\n",
              "    <tr>\n",
              "      <th>17</th>\n",
              "      <td>Gang Li</td>\n",
              "      <td>4111</td>\n",
              "      <td>28</td>\n",
              "      <td>24</td>\n",
              "      <td>88</td>\n",
              "      <td>60</td>\n",
              "      <td>2821</td>\n",
              "    </tr>\n",
              "    <tr>\n",
              "      <th>18</th>\n",
              "      <td>Jianxin Li</td>\n",
              "      <td>1465</td>\n",
              "      <td>21</td>\n",
              "      <td>18</td>\n",
              "      <td>38</td>\n",
              "      <td>31</td>\n",
              "      <td>1086</td>\n",
              "    </tr>\n",
              "    <tr>\n",
              "      <th>19</th>\n",
              "      <td>Xiao Liu</td>\n",
              "      <td>3219</td>\n",
              "      <td>26</td>\n",
              "      <td>20</td>\n",
              "      <td>52</td>\n",
              "      <td>42</td>\n",
              "      <td>1749</td>\n",
              "    </tr>\n",
              "    <tr>\n",
              "      <th>20</th>\n",
              "      <td>Vicky Mak-Hau</td>\n",
              "      <td>385</td>\n",
              "      <td>11</td>\n",
              "      <td>8</td>\n",
              "      <td>14</td>\n",
              "      <td>6</td>\n",
              "      <td>227</td>\n",
              "    </tr>\n",
              "    <tr>\n",
              "      <th>21</th>\n",
              "      <td>Tim Wilkin</td>\n",
              "      <td>387</td>\n",
              "      <td>10</td>\n",
              "      <td>10</td>\n",
              "      <td>11</td>\n",
              "      <td>10</td>\n",
              "      <td>310</td>\n",
              "    </tr>\n",
              "    <tr>\n",
              "      <th>22</th>\n",
              "      <td>Andrzej Goscinski</td>\n",
              "      <td>NA</td>\n",
              "      <td>NA</td>\n",
              "      <td>NA</td>\n",
              "      <td>NA</td>\n",
              "      <td>NA</td>\n",
              "      <td>NA</td>\n",
              "    </tr>\n",
              "    <tr>\n",
              "      <th>23</th>\n",
              "      <td>Jemal Abawajy</td>\n",
              "      <td>NA</td>\n",
              "      <td>NA</td>\n",
              "      <td>NA</td>\n",
              "      <td>NA</td>\n",
              "      <td>NA</td>\n",
              "      <td>NA</td>\n",
              "    </tr>\n",
              "    <tr>\n",
              "      <th>24</th>\n",
              "      <td>Robin Doss</td>\n",
              "      <td>NA</td>\n",
              "      <td>NA</td>\n",
              "      <td>NA</td>\n",
              "      <td>NA</td>\n",
              "      <td>NA</td>\n",
              "      <td>NA</td>\n",
              "    </tr>\n",
              "  </tbody>\n",
              "</table>\n",
              "</div>"
            ],
            "text/plain": [
              "                    Name  ... Citations_since_2016\n",
              "0            Lynn Batten  ...                 1172\n",
              "1          Maia Angelova  ...                  397\n",
              "2          Gleb Beliakov  ...                 4632\n",
              "3           Terry Caelli  ...                 1472\n",
              "4             Jinho Choi  ...                 5023\n",
              "5          Chang-Tsun Li  ...                 2336\n",
              "6    Peter Werner Eklund  ...                  778\n",
              "7           Seng W. Loke  ...                 2907\n",
              "8   Antonio Robles-Kelly  ...                 1534\n",
              "9     Jean-Guy Schneider  ...                  643\n",
              "10            Yong Xiang  ...                 4969\n",
              "11         John Yearwood  ...                 1991\n",
              "12      Arkady Zaslavsky  ...                 8330\n",
              "13    Mohamed Abdelrazek  ...                 1256\n",
              "14           Andrew Cain  ...                  192\n",
              "15       Richard Dazeley  ...                  948\n",
              "16        Guangyan Huang  ...                  809\n",
              "17               Gang Li  ...                 2821\n",
              "18            Jianxin Li  ...                 1086\n",
              "19              Xiao Liu  ...                 1749\n",
              "20         Vicky Mak-Hau  ...                  227\n",
              "21            Tim Wilkin  ...                  310\n",
              "22     Andrzej Goscinski  ...                   NA\n",
              "23         Jemal Abawajy  ...                   NA\n",
              "24            Robin Doss  ...                   NA\n",
              "\n",
              "[25 rows x 7 columns]"
            ]
          },
          "metadata": {
            "tags": []
          },
          "execution_count": 192
        }
      ]
    },
    {
      "cell_type": "code",
      "metadata": {
        "id": "Z3R_svAG66TN"
      },
      "source": [
        "# Chang-Tsun Li is not include in the previous list so we delete it\n",
        "google_scholar_miss_included.drop(5,axis=0,inplace=True)"
      ],
      "execution_count": null,
      "outputs": []
    },
    {
      "cell_type": "code",
      "metadata": {
        "id": "BCOEonzGf-Q7"
      },
      "source": [
        "# title dataframe from our professor list\n",
        "df_title = df_prof_namelist['title']"
      ],
      "execution_count": null,
      "outputs": []
    },
    {
      "cell_type": "code",
      "metadata": {
        "id": "wB-Tm877VzlY"
      },
      "source": [
        "# Put together df_title and google_scholar_miss_included dataframe\n",
        "df_prof_cit = pd.concat([df_title, google_scholar_miss_included], axis=1)"
      ],
      "execution_count": null,
      "outputs": []
    },
    {
      "cell_type": "code",
      "metadata": {
        "colab": {
          "base_uri": "https://localhost:8080/",
          "height": 824
        },
        "id": "f3ILwxyzVzeT",
        "outputId": "69dcf5a3-e4db-4661-c233-b3400d856822"
      },
      "source": [
        "\n",
        "df_prof_cit"
      ],
      "execution_count": null,
      "outputs": [
        {
          "output_type": "execute_result",
          "data": {
            "text/html": [
              "<div>\n",
              "<style scoped>\n",
              "    .dataframe tbody tr th:only-of-type {\n",
              "        vertical-align: middle;\n",
              "    }\n",
              "\n",
              "    .dataframe tbody tr th {\n",
              "        vertical-align: top;\n",
              "    }\n",
              "\n",
              "    .dataframe thead th {\n",
              "        text-align: right;\n",
              "    }\n",
              "</style>\n",
              "<table border=\"1\" class=\"dataframe\">\n",
              "  <thead>\n",
              "    <tr style=\"text-align: right;\">\n",
              "      <th></th>\n",
              "      <th>title</th>\n",
              "      <th>Name</th>\n",
              "      <th>Citations_all</th>\n",
              "      <th>H_index_all</th>\n",
              "      <th>H_index_since_2016</th>\n",
              "      <th>I10_index_all</th>\n",
              "      <th>I10_index_since_2016</th>\n",
              "      <th>Citations_since_2016</th>\n",
              "    </tr>\n",
              "  </thead>\n",
              "  <tbody>\n",
              "    <tr>\n",
              "      <th>0</th>\n",
              "      <td>Emeritus Professor</td>\n",
              "      <td>Lynn Batten</td>\n",
              "      <td>2528</td>\n",
              "      <td>23</td>\n",
              "      <td>16</td>\n",
              "      <td>45</td>\n",
              "      <td>21</td>\n",
              "      <td>1172</td>\n",
              "    </tr>\n",
              "    <tr>\n",
              "      <th>1</th>\n",
              "      <td>Emeritus Professor</td>\n",
              "      <td>Maia Angelova</td>\n",
              "      <td>680</td>\n",
              "      <td>15</td>\n",
              "      <td>11</td>\n",
              "      <td>21</td>\n",
              "      <td>14</td>\n",
              "      <td>397</td>\n",
              "    </tr>\n",
              "    <tr>\n",
              "      <th>2</th>\n",
              "      <td>Professor</td>\n",
              "      <td>Gleb Beliakov</td>\n",
              "      <td>8173</td>\n",
              "      <td>42</td>\n",
              "      <td>32</td>\n",
              "      <td>135</td>\n",
              "      <td>86</td>\n",
              "      <td>4632</td>\n",
              "    </tr>\n",
              "    <tr>\n",
              "      <th>3</th>\n",
              "      <td>Professor</td>\n",
              "      <td>Terry Caelli</td>\n",
              "      <td>8662</td>\n",
              "      <td>51</td>\n",
              "      <td>20</td>\n",
              "      <td>176</td>\n",
              "      <td>36</td>\n",
              "      <td>1472</td>\n",
              "    </tr>\n",
              "    <tr>\n",
              "      <th>4</th>\n",
              "      <td>Professor</td>\n",
              "      <td>Jinho Choi</td>\n",
              "      <td>7814</td>\n",
              "      <td>37</td>\n",
              "      <td>29</td>\n",
              "      <td>167</td>\n",
              "      <td>95</td>\n",
              "      <td>5023</td>\n",
              "    </tr>\n",
              "    <tr>\n",
              "      <th>5</th>\n",
              "      <td>Professor</td>\n",
              "      <td>NaN</td>\n",
              "      <td>NaN</td>\n",
              "      <td>NaN</td>\n",
              "      <td>NaN</td>\n",
              "      <td>NaN</td>\n",
              "      <td>NaN</td>\n",
              "      <td>NaN</td>\n",
              "    </tr>\n",
              "    <tr>\n",
              "      <th>6</th>\n",
              "      <td>Professor</td>\n",
              "      <td>Peter Werner Eklund</td>\n",
              "      <td>3962</td>\n",
              "      <td>34</td>\n",
              "      <td>14</td>\n",
              "      <td>72</td>\n",
              "      <td>23</td>\n",
              "      <td>778</td>\n",
              "    </tr>\n",
              "    <tr>\n",
              "      <th>7</th>\n",
              "      <td>Professor</td>\n",
              "      <td>Seng W. Loke</td>\n",
              "      <td>7179</td>\n",
              "      <td>38</td>\n",
              "      <td>21</td>\n",
              "      <td>126</td>\n",
              "      <td>50</td>\n",
              "      <td>2907</td>\n",
              "    </tr>\n",
              "    <tr>\n",
              "      <th>8</th>\n",
              "      <td>Professor</td>\n",
              "      <td>Antonio Robles-Kelly</td>\n",
              "      <td>3655</td>\n",
              "      <td>24</td>\n",
              "      <td>15</td>\n",
              "      <td>62</td>\n",
              "      <td>27</td>\n",
              "      <td>1534</td>\n",
              "    </tr>\n",
              "    <tr>\n",
              "      <th>9</th>\n",
              "      <td>Professor</td>\n",
              "      <td>Jean-Guy Schneider</td>\n",
              "      <td>1812</td>\n",
              "      <td>24</td>\n",
              "      <td>15</td>\n",
              "      <td>48</td>\n",
              "      <td>21</td>\n",
              "      <td>643</td>\n",
              "    </tr>\n",
              "    <tr>\n",
              "      <th>10</th>\n",
              "      <td>Professor</td>\n",
              "      <td>Yong Xiang</td>\n",
              "      <td>6306</td>\n",
              "      <td>40</td>\n",
              "      <td>35</td>\n",
              "      <td>118</td>\n",
              "      <td>95</td>\n",
              "      <td>4969</td>\n",
              "    </tr>\n",
              "    <tr>\n",
              "      <th>11</th>\n",
              "      <td>Professor</td>\n",
              "      <td>John Yearwood</td>\n",
              "      <td>3786</td>\n",
              "      <td>32</td>\n",
              "      <td>23</td>\n",
              "      <td>92</td>\n",
              "      <td>45</td>\n",
              "      <td>1991</td>\n",
              "    </tr>\n",
              "    <tr>\n",
              "      <th>12</th>\n",
              "      <td>Professor</td>\n",
              "      <td>Arkady Zaslavsky</td>\n",
              "      <td>14930</td>\n",
              "      <td>50</td>\n",
              "      <td>33</td>\n",
              "      <td>177</td>\n",
              "      <td>80</td>\n",
              "      <td>8330</td>\n",
              "    </tr>\n",
              "    <tr>\n",
              "      <th>13</th>\n",
              "      <td>Professor</td>\n",
              "      <td>Mohamed Abdelrazek</td>\n",
              "      <td>1856</td>\n",
              "      <td>16</td>\n",
              "      <td>15</td>\n",
              "      <td>27</td>\n",
              "      <td>23</td>\n",
              "      <td>1256</td>\n",
              "    </tr>\n",
              "    <tr>\n",
              "      <th>14</th>\n",
              "      <td>Professor</td>\n",
              "      <td>Andrew Cain</td>\n",
              "      <td>289</td>\n",
              "      <td>10</td>\n",
              "      <td>8</td>\n",
              "      <td>11</td>\n",
              "      <td>8</td>\n",
              "      <td>192</td>\n",
              "    </tr>\n",
              "    <tr>\n",
              "      <th>15</th>\n",
              "      <td>Associate Professor</td>\n",
              "      <td>Richard Dazeley</td>\n",
              "      <td>1470</td>\n",
              "      <td>16</td>\n",
              "      <td>13</td>\n",
              "      <td>24</td>\n",
              "      <td>15</td>\n",
              "      <td>948</td>\n",
              "    </tr>\n",
              "    <tr>\n",
              "      <th>16</th>\n",
              "      <td>Associate Professor</td>\n",
              "      <td>Guangyan Huang</td>\n",
              "      <td>1128</td>\n",
              "      <td>20</td>\n",
              "      <td>18</td>\n",
              "      <td>28</td>\n",
              "      <td>23</td>\n",
              "      <td>809</td>\n",
              "    </tr>\n",
              "    <tr>\n",
              "      <th>17</th>\n",
              "      <td>Associate Professor</td>\n",
              "      <td>Gang Li</td>\n",
              "      <td>4111</td>\n",
              "      <td>28</td>\n",
              "      <td>24</td>\n",
              "      <td>88</td>\n",
              "      <td>60</td>\n",
              "      <td>2821</td>\n",
              "    </tr>\n",
              "    <tr>\n",
              "      <th>18</th>\n",
              "      <td>Associate Professor</td>\n",
              "      <td>Jianxin Li</td>\n",
              "      <td>1465</td>\n",
              "      <td>21</td>\n",
              "      <td>18</td>\n",
              "      <td>38</td>\n",
              "      <td>31</td>\n",
              "      <td>1086</td>\n",
              "    </tr>\n",
              "    <tr>\n",
              "      <th>19</th>\n",
              "      <td>Associate Professor</td>\n",
              "      <td>Xiao Liu</td>\n",
              "      <td>3219</td>\n",
              "      <td>26</td>\n",
              "      <td>20</td>\n",
              "      <td>52</td>\n",
              "      <td>42</td>\n",
              "      <td>1749</td>\n",
              "    </tr>\n",
              "    <tr>\n",
              "      <th>20</th>\n",
              "      <td>Associate Professor</td>\n",
              "      <td>Vicky Mak-Hau</td>\n",
              "      <td>385</td>\n",
              "      <td>11</td>\n",
              "      <td>8</td>\n",
              "      <td>14</td>\n",
              "      <td>6</td>\n",
              "      <td>227</td>\n",
              "    </tr>\n",
              "    <tr>\n",
              "      <th>21</th>\n",
              "      <td>Associate Professor</td>\n",
              "      <td>Tim Wilkin</td>\n",
              "      <td>387</td>\n",
              "      <td>10</td>\n",
              "      <td>10</td>\n",
              "      <td>11</td>\n",
              "      <td>10</td>\n",
              "      <td>310</td>\n",
              "    </tr>\n",
              "    <tr>\n",
              "      <th>22</th>\n",
              "      <td>Associate Professor</td>\n",
              "      <td>Andrzej Goscinski</td>\n",
              "      <td>NA</td>\n",
              "      <td>NA</td>\n",
              "      <td>NA</td>\n",
              "      <td>NA</td>\n",
              "      <td>NA</td>\n",
              "      <td>NA</td>\n",
              "    </tr>\n",
              "    <tr>\n",
              "      <th>23</th>\n",
              "      <td>Associate Professor</td>\n",
              "      <td>Jemal Abawajy</td>\n",
              "      <td>NA</td>\n",
              "      <td>NA</td>\n",
              "      <td>NA</td>\n",
              "      <td>NA</td>\n",
              "      <td>NA</td>\n",
              "      <td>NA</td>\n",
              "    </tr>\n",
              "    <tr>\n",
              "      <th>24</th>\n",
              "      <td>NaN</td>\n",
              "      <td>Robin Doss</td>\n",
              "      <td>NA</td>\n",
              "      <td>NA</td>\n",
              "      <td>NA</td>\n",
              "      <td>NA</td>\n",
              "      <td>NA</td>\n",
              "      <td>NA</td>\n",
              "    </tr>\n",
              "  </tbody>\n",
              "</table>\n",
              "</div>"
            ],
            "text/plain": [
              "                  title  ... Citations_since_2016\n",
              "0    Emeritus Professor  ...                 1172\n",
              "1    Emeritus Professor  ...                  397\n",
              "2             Professor  ...                 4632\n",
              "3             Professor  ...                 1472\n",
              "4             Professor  ...                 5023\n",
              "5             Professor  ...                  NaN\n",
              "6             Professor  ...                  778\n",
              "7             Professor  ...                 2907\n",
              "8             Professor  ...                 1534\n",
              "9             Professor  ...                  643\n",
              "10            Professor  ...                 4969\n",
              "11            Professor  ...                 1991\n",
              "12            Professor  ...                 8330\n",
              "13            Professor  ...                 1256\n",
              "14            Professor  ...                  192\n",
              "15  Associate Professor  ...                  948\n",
              "16  Associate Professor  ...                  809\n",
              "17  Associate Professor  ...                 2821\n",
              "18  Associate Professor  ...                 1086\n",
              "19  Associate Professor  ...                 1749\n",
              "20  Associate Professor  ...                  227\n",
              "21  Associate Professor  ...                  310\n",
              "22  Associate Professor  ...                   NA\n",
              "23  Associate Professor  ...                   NA\n",
              "24                  NaN  ...                   NA\n",
              "\n",
              "[25 rows x 8 columns]"
            ]
          },
          "metadata": {
            "tags": []
          },
          "execution_count": 227
        }
      ]
    },
    {
      "cell_type": "code",
      "metadata": {
        "id": "8pDPiK4vATFs"
      },
      "source": [
        "# delete title\n",
        "del df_prof_cit['title']\n"
      ],
      "execution_count": null,
      "outputs": []
    },
    {
      "cell_type": "code",
      "metadata": {
        "id": "eJh9Dn-nVzaw"
      },
      "source": [
        "# delete Name\n",
        "del df_prof_cit['Name']"
      ],
      "execution_count": null,
      "outputs": []
    },
    {
      "cell_type": "code",
      "metadata": {
        "id": "4S85LQ6mf1WI"
      },
      "source": [
        "# We add the title column and Name\n",
        "df_title = df_prof_namelist['title']\n",
        "df_prof_name_cit = df_prof_cit['Name']"
      ],
      "execution_count": null,
      "outputs": []
    },
    {
      "cell_type": "code",
      "metadata": {
        "id": "6l2cJRyiVzWU"
      },
      "source": [
        "# Put name and title together\n",
        "df_prof_cit2 = pd.concat([df_prof_name_cit, df_title, df_prof_cit], axis=1)"
      ],
      "execution_count": null,
      "outputs": []
    },
    {
      "cell_type": "code",
      "metadata": {
        "colab": {
          "base_uri": "https://localhost:8080/",
          "height": 824
        },
        "id": "qhjzE6f8VzQv",
        "outputId": "003f1a39-acfb-45c0-8da0-383fe654f862"
      },
      "source": [
        "df_prof_cit2"
      ],
      "execution_count": null,
      "outputs": [
        {
          "output_type": "execute_result",
          "data": {
            "text/html": [
              "<div>\n",
              "<style scoped>\n",
              "    .dataframe tbody tr th:only-of-type {\n",
              "        vertical-align: middle;\n",
              "    }\n",
              "\n",
              "    .dataframe tbody tr th {\n",
              "        vertical-align: top;\n",
              "    }\n",
              "\n",
              "    .dataframe thead th {\n",
              "        text-align: right;\n",
              "    }\n",
              "</style>\n",
              "<table border=\"1\" class=\"dataframe\">\n",
              "  <thead>\n",
              "    <tr style=\"text-align: right;\">\n",
              "      <th></th>\n",
              "      <th>Name</th>\n",
              "      <th>title</th>\n",
              "      <th>Citations_all</th>\n",
              "      <th>H_index_all</th>\n",
              "      <th>H_index_since_2016</th>\n",
              "      <th>I10_index_all</th>\n",
              "      <th>I10_index_since_2016</th>\n",
              "      <th>Citations_since_2016</th>\n",
              "    </tr>\n",
              "  </thead>\n",
              "  <tbody>\n",
              "    <tr>\n",
              "      <th>0</th>\n",
              "      <td>Lynn Batten</td>\n",
              "      <td>Emeritus Professor</td>\n",
              "      <td>2528</td>\n",
              "      <td>23</td>\n",
              "      <td>16</td>\n",
              "      <td>45</td>\n",
              "      <td>21</td>\n",
              "      <td>1172</td>\n",
              "    </tr>\n",
              "    <tr>\n",
              "      <th>1</th>\n",
              "      <td>Maia Angelova</td>\n",
              "      <td>Professor</td>\n",
              "      <td>680</td>\n",
              "      <td>15</td>\n",
              "      <td>11</td>\n",
              "      <td>21</td>\n",
              "      <td>14</td>\n",
              "      <td>397</td>\n",
              "    </tr>\n",
              "    <tr>\n",
              "      <th>2</th>\n",
              "      <td>Gleb Beliakov</td>\n",
              "      <td>Professor</td>\n",
              "      <td>8173</td>\n",
              "      <td>42</td>\n",
              "      <td>32</td>\n",
              "      <td>135</td>\n",
              "      <td>86</td>\n",
              "      <td>4632</td>\n",
              "    </tr>\n",
              "    <tr>\n",
              "      <th>3</th>\n",
              "      <td>Terry Caelli</td>\n",
              "      <td>Professor</td>\n",
              "      <td>8662</td>\n",
              "      <td>51</td>\n",
              "      <td>20</td>\n",
              "      <td>176</td>\n",
              "      <td>36</td>\n",
              "      <td>1472</td>\n",
              "    </tr>\n",
              "    <tr>\n",
              "      <th>4</th>\n",
              "      <td>Jinho Choi</td>\n",
              "      <td>Professor</td>\n",
              "      <td>7814</td>\n",
              "      <td>37</td>\n",
              "      <td>29</td>\n",
              "      <td>167</td>\n",
              "      <td>95</td>\n",
              "      <td>5023</td>\n",
              "    </tr>\n",
              "    <tr>\n",
              "      <th>5</th>\n",
              "      <td>NaN</td>\n",
              "      <td>Professor</td>\n",
              "      <td>NaN</td>\n",
              "      <td>NaN</td>\n",
              "      <td>NaN</td>\n",
              "      <td>NaN</td>\n",
              "      <td>NaN</td>\n",
              "      <td>NaN</td>\n",
              "    </tr>\n",
              "    <tr>\n",
              "      <th>6</th>\n",
              "      <td>Peter Werner Eklund</td>\n",
              "      <td>Professor</td>\n",
              "      <td>3962</td>\n",
              "      <td>34</td>\n",
              "      <td>14</td>\n",
              "      <td>72</td>\n",
              "      <td>23</td>\n",
              "      <td>778</td>\n",
              "    </tr>\n",
              "    <tr>\n",
              "      <th>7</th>\n",
              "      <td>Seng W. Loke</td>\n",
              "      <td>Professor</td>\n",
              "      <td>7179</td>\n",
              "      <td>38</td>\n",
              "      <td>21</td>\n",
              "      <td>126</td>\n",
              "      <td>50</td>\n",
              "      <td>2907</td>\n",
              "    </tr>\n",
              "    <tr>\n",
              "      <th>8</th>\n",
              "      <td>Antonio Robles-Kelly</td>\n",
              "      <td>Professor</td>\n",
              "      <td>3655</td>\n",
              "      <td>24</td>\n",
              "      <td>15</td>\n",
              "      <td>62</td>\n",
              "      <td>27</td>\n",
              "      <td>1534</td>\n",
              "    </tr>\n",
              "    <tr>\n",
              "      <th>9</th>\n",
              "      <td>Jean-Guy Schneider</td>\n",
              "      <td>Professor</td>\n",
              "      <td>1812</td>\n",
              "      <td>24</td>\n",
              "      <td>15</td>\n",
              "      <td>48</td>\n",
              "      <td>21</td>\n",
              "      <td>643</td>\n",
              "    </tr>\n",
              "    <tr>\n",
              "      <th>10</th>\n",
              "      <td>Yong Xiang</td>\n",
              "      <td>Professor</td>\n",
              "      <td>6306</td>\n",
              "      <td>40</td>\n",
              "      <td>35</td>\n",
              "      <td>118</td>\n",
              "      <td>95</td>\n",
              "      <td>4969</td>\n",
              "    </tr>\n",
              "    <tr>\n",
              "      <th>11</th>\n",
              "      <td>John Yearwood</td>\n",
              "      <td>Professor</td>\n",
              "      <td>3786</td>\n",
              "      <td>32</td>\n",
              "      <td>23</td>\n",
              "      <td>92</td>\n",
              "      <td>45</td>\n",
              "      <td>1991</td>\n",
              "    </tr>\n",
              "    <tr>\n",
              "      <th>12</th>\n",
              "      <td>Arkady Zaslavsky</td>\n",
              "      <td>Professor</td>\n",
              "      <td>14930</td>\n",
              "      <td>50</td>\n",
              "      <td>33</td>\n",
              "      <td>177</td>\n",
              "      <td>80</td>\n",
              "      <td>8330</td>\n",
              "    </tr>\n",
              "    <tr>\n",
              "      <th>13</th>\n",
              "      <td>Mohamed Abdelrazek</td>\n",
              "      <td>Associate Professor</td>\n",
              "      <td>1856</td>\n",
              "      <td>16</td>\n",
              "      <td>15</td>\n",
              "      <td>27</td>\n",
              "      <td>23</td>\n",
              "      <td>1256</td>\n",
              "    </tr>\n",
              "    <tr>\n",
              "      <th>14</th>\n",
              "      <td>Andrew Cain</td>\n",
              "      <td>Associate Professor</td>\n",
              "      <td>289</td>\n",
              "      <td>10</td>\n",
              "      <td>8</td>\n",
              "      <td>11</td>\n",
              "      <td>8</td>\n",
              "      <td>192</td>\n",
              "    </tr>\n",
              "    <tr>\n",
              "      <th>15</th>\n",
              "      <td>Richard Dazeley</td>\n",
              "      <td>Associate Professor</td>\n",
              "      <td>1470</td>\n",
              "      <td>16</td>\n",
              "      <td>13</td>\n",
              "      <td>24</td>\n",
              "      <td>15</td>\n",
              "      <td>948</td>\n",
              "    </tr>\n",
              "    <tr>\n",
              "      <th>16</th>\n",
              "      <td>Guangyan Huang</td>\n",
              "      <td>Associate Professor</td>\n",
              "      <td>1128</td>\n",
              "      <td>20</td>\n",
              "      <td>18</td>\n",
              "      <td>28</td>\n",
              "      <td>23</td>\n",
              "      <td>809</td>\n",
              "    </tr>\n",
              "    <tr>\n",
              "      <th>17</th>\n",
              "      <td>Gang Li</td>\n",
              "      <td>Associate Professor</td>\n",
              "      <td>4111</td>\n",
              "      <td>28</td>\n",
              "      <td>24</td>\n",
              "      <td>88</td>\n",
              "      <td>60</td>\n",
              "      <td>2821</td>\n",
              "    </tr>\n",
              "    <tr>\n",
              "      <th>18</th>\n",
              "      <td>Jianxin Li</td>\n",
              "      <td>Associate Professor</td>\n",
              "      <td>1465</td>\n",
              "      <td>21</td>\n",
              "      <td>18</td>\n",
              "      <td>38</td>\n",
              "      <td>31</td>\n",
              "      <td>1086</td>\n",
              "    </tr>\n",
              "    <tr>\n",
              "      <th>19</th>\n",
              "      <td>Xiao Liu</td>\n",
              "      <td>Associate Professor</td>\n",
              "      <td>3219</td>\n",
              "      <td>26</td>\n",
              "      <td>20</td>\n",
              "      <td>52</td>\n",
              "      <td>42</td>\n",
              "      <td>1749</td>\n",
              "    </tr>\n",
              "    <tr>\n",
              "      <th>20</th>\n",
              "      <td>Vicky Mak-Hau</td>\n",
              "      <td>Associate Professor</td>\n",
              "      <td>385</td>\n",
              "      <td>11</td>\n",
              "      <td>8</td>\n",
              "      <td>14</td>\n",
              "      <td>6</td>\n",
              "      <td>227</td>\n",
              "    </tr>\n",
              "    <tr>\n",
              "      <th>21</th>\n",
              "      <td>Tim Wilkin</td>\n",
              "      <td>Associate Professor</td>\n",
              "      <td>387</td>\n",
              "      <td>10</td>\n",
              "      <td>10</td>\n",
              "      <td>11</td>\n",
              "      <td>10</td>\n",
              "      <td>310</td>\n",
              "    </tr>\n",
              "    <tr>\n",
              "      <th>22</th>\n",
              "      <td>Andrzej Goscinski</td>\n",
              "      <td>Emeritus Professor</td>\n",
              "      <td>NA</td>\n",
              "      <td>NA</td>\n",
              "      <td>NA</td>\n",
              "      <td>NA</td>\n",
              "      <td>NA</td>\n",
              "      <td>NA</td>\n",
              "    </tr>\n",
              "    <tr>\n",
              "      <th>23</th>\n",
              "      <td>Jemal Abawajy</td>\n",
              "      <td>Professor</td>\n",
              "      <td>NA</td>\n",
              "      <td>NA</td>\n",
              "      <td>NA</td>\n",
              "      <td>NA</td>\n",
              "      <td>NA</td>\n",
              "      <td>NA</td>\n",
              "    </tr>\n",
              "    <tr>\n",
              "      <th>24</th>\n",
              "      <td>Robin Doss</td>\n",
              "      <td>Professor</td>\n",
              "      <td>NA</td>\n",
              "      <td>NA</td>\n",
              "      <td>NA</td>\n",
              "      <td>NA</td>\n",
              "      <td>NA</td>\n",
              "      <td>NA</td>\n",
              "    </tr>\n",
              "  </tbody>\n",
              "</table>\n",
              "</div>"
            ],
            "text/plain": [
              "                    Name  ... Citations_since_2016\n",
              "0            Lynn Batten  ...                 1172\n",
              "1          Maia Angelova  ...                  397\n",
              "2          Gleb Beliakov  ...                 4632\n",
              "3           Terry Caelli  ...                 1472\n",
              "4             Jinho Choi  ...                 5023\n",
              "5                    NaN  ...                  NaN\n",
              "6    Peter Werner Eklund  ...                  778\n",
              "7           Seng W. Loke  ...                 2907\n",
              "8   Antonio Robles-Kelly  ...                 1534\n",
              "9     Jean-Guy Schneider  ...                  643\n",
              "10            Yong Xiang  ...                 4969\n",
              "11         John Yearwood  ...                 1991\n",
              "12      Arkady Zaslavsky  ...                 8330\n",
              "13    Mohamed Abdelrazek  ...                 1256\n",
              "14           Andrew Cain  ...                  192\n",
              "15       Richard Dazeley  ...                  948\n",
              "16        Guangyan Huang  ...                  809\n",
              "17               Gang Li  ...                 2821\n",
              "18            Jianxin Li  ...                 1086\n",
              "19              Xiao Liu  ...                 1749\n",
              "20         Vicky Mak-Hau  ...                  227\n",
              "21            Tim Wilkin  ...                  310\n",
              "22     Andrzej Goscinski  ...                   NA\n",
              "23         Jemal Abawajy  ...                   NA\n",
              "24            Robin Doss  ...                   NA\n",
              "\n",
              "[25 rows x 8 columns]"
            ]
          },
          "metadata": {
            "tags": []
          },
          "execution_count": 257
        }
      ]
    },
    {
      "cell_type": "code",
      "metadata": {
        "id": "tTfudrPfVzNL"
      },
      "source": [
        "#Renaming title\n",
        "df_prof_cit2.at[1,'title']= 'Professor'"
      ],
      "execution_count": null,
      "outputs": []
    },
    {
      "cell_type": "code",
      "metadata": {
        "id": "QohI1GHnF29p"
      },
      "source": [
        "#Renaming title\n",
        "df_prof_cit2.at[13,'title']= 'Associate Professor'"
      ],
      "execution_count": null,
      "outputs": []
    },
    {
      "cell_type": "code",
      "metadata": {
        "id": "ViKCQc_wF_qj"
      },
      "source": [
        "#Renaming title\n",
        "df_prof_cit2.at[14,'title']= 'Associate Professor'"
      ],
      "execution_count": null,
      "outputs": []
    },
    {
      "cell_type": "code",
      "metadata": {
        "id": "yEZEYOeDGJOJ"
      },
      "source": [
        "#Renaming title\n",
        "df_prof_cit2.at[24,'title']= 'Professor'"
      ],
      "execution_count": null,
      "outputs": []
    },
    {
      "cell_type": "code",
      "metadata": {
        "id": "g5V4MvjqGZNO"
      },
      "source": [
        "#Renaming title\n",
        "df_prof_cit2.at[22,'title']= 'Emeritus Professor'"
      ],
      "execution_count": null,
      "outputs": []
    },
    {
      "cell_type": "code",
      "metadata": {
        "id": "P_PSeTwBGnBN"
      },
      "source": [
        "#Renaming title\n",
        "df_prof_cit2.at[23,'title']= 'Professor'"
      ],
      "execution_count": null,
      "outputs": []
    },
    {
      "cell_type": "code",
      "metadata": {
        "id": "1LStOeZqIJsw"
      },
      "source": [
        "#Sorting by title\n",
        "df_prof_info_cit = df_prof_cit2.sort_values('title', axis=0,\n",
        "                          ascending=False,\n",
        "                          inplace=False,\n",
        "                          kind='quicksort',\n",
        "                          na_position='last',\n",
        "                          ignore_index=False, key=None)"
      ],
      "execution_count": null,
      "outputs": []
    },
    {
      "cell_type": "code",
      "metadata": {
        "id": "UwXrBfLuMUHe"
      },
      "source": [
        "#Setting Index to Name\n",
        "df_prof_info_cit.set_index('Name', inplace=True)"
      ],
      "execution_count": null,
      "outputs": []
    },
    {
      "cell_type": "code",
      "metadata": {
        "id": "fHrG2XXkMbNu"
      },
      "source": [
        "#Drop any row with NaN\n",
        "df_final_citation = df_prof_info_cit.dropna()"
      ],
      "execution_count": null,
      "outputs": []
    },
    {
      "cell_type": "code",
      "metadata": {
        "colab": {
          "base_uri": "https://localhost:8080/",
          "height": 824
        },
        "id": "e8f8zkT0N7ey",
        "outputId": "4506fb7b-72e1-4146-dca3-4bd05fcc1daf"
      },
      "source": [
        "df_final_citation"
      ],
      "execution_count": null,
      "outputs": [
        {
          "output_type": "execute_result",
          "data": {
            "text/html": [
              "<div>\n",
              "<style scoped>\n",
              "    .dataframe tbody tr th:only-of-type {\n",
              "        vertical-align: middle;\n",
              "    }\n",
              "\n",
              "    .dataframe tbody tr th {\n",
              "        vertical-align: top;\n",
              "    }\n",
              "\n",
              "    .dataframe thead th {\n",
              "        text-align: right;\n",
              "    }\n",
              "</style>\n",
              "<table border=\"1\" class=\"dataframe\">\n",
              "  <thead>\n",
              "    <tr style=\"text-align: right;\">\n",
              "      <th></th>\n",
              "      <th>title</th>\n",
              "      <th>Citations_all</th>\n",
              "      <th>H_index_all</th>\n",
              "      <th>H_index_since_2016</th>\n",
              "      <th>I10_index_all</th>\n",
              "      <th>I10_index_since_2016</th>\n",
              "      <th>Citations_since_2016</th>\n",
              "    </tr>\n",
              "    <tr>\n",
              "      <th>Name</th>\n",
              "      <th></th>\n",
              "      <th></th>\n",
              "      <th></th>\n",
              "      <th></th>\n",
              "      <th></th>\n",
              "      <th></th>\n",
              "      <th></th>\n",
              "    </tr>\n",
              "  </thead>\n",
              "  <tbody>\n",
              "    <tr>\n",
              "      <th>Arkady Zaslavsky</th>\n",
              "      <td>Professor</td>\n",
              "      <td>14930</td>\n",
              "      <td>50</td>\n",
              "      <td>33</td>\n",
              "      <td>177</td>\n",
              "      <td>80</td>\n",
              "      <td>8330</td>\n",
              "    </tr>\n",
              "    <tr>\n",
              "      <th>Antonio Robles-Kelly</th>\n",
              "      <td>Professor</td>\n",
              "      <td>3655</td>\n",
              "      <td>24</td>\n",
              "      <td>15</td>\n",
              "      <td>62</td>\n",
              "      <td>27</td>\n",
              "      <td>1534</td>\n",
              "    </tr>\n",
              "    <tr>\n",
              "      <th>Jemal Abawajy</th>\n",
              "      <td>Professor</td>\n",
              "      <td>NA</td>\n",
              "      <td>NA</td>\n",
              "      <td>NA</td>\n",
              "      <td>NA</td>\n",
              "      <td>NA</td>\n",
              "      <td>NA</td>\n",
              "    </tr>\n",
              "    <tr>\n",
              "      <th>Maia Angelova</th>\n",
              "      <td>Professor</td>\n",
              "      <td>680</td>\n",
              "      <td>15</td>\n",
              "      <td>11</td>\n",
              "      <td>21</td>\n",
              "      <td>14</td>\n",
              "      <td>397</td>\n",
              "    </tr>\n",
              "    <tr>\n",
              "      <th>John Yearwood</th>\n",
              "      <td>Professor</td>\n",
              "      <td>3786</td>\n",
              "      <td>32</td>\n",
              "      <td>23</td>\n",
              "      <td>92</td>\n",
              "      <td>45</td>\n",
              "      <td>1991</td>\n",
              "    </tr>\n",
              "    <tr>\n",
              "      <th>Yong Xiang</th>\n",
              "      <td>Professor</td>\n",
              "      <td>6306</td>\n",
              "      <td>40</td>\n",
              "      <td>35</td>\n",
              "      <td>118</td>\n",
              "      <td>95</td>\n",
              "      <td>4969</td>\n",
              "    </tr>\n",
              "    <tr>\n",
              "      <th>Jean-Guy Schneider</th>\n",
              "      <td>Professor</td>\n",
              "      <td>1812</td>\n",
              "      <td>24</td>\n",
              "      <td>15</td>\n",
              "      <td>48</td>\n",
              "      <td>21</td>\n",
              "      <td>643</td>\n",
              "    </tr>\n",
              "    <tr>\n",
              "      <th>Robin Doss</th>\n",
              "      <td>Professor</td>\n",
              "      <td>NA</td>\n",
              "      <td>NA</td>\n",
              "      <td>NA</td>\n",
              "      <td>NA</td>\n",
              "      <td>NA</td>\n",
              "      <td>NA</td>\n",
              "    </tr>\n",
              "    <tr>\n",
              "      <th>Seng W. Loke</th>\n",
              "      <td>Professor</td>\n",
              "      <td>7179</td>\n",
              "      <td>38</td>\n",
              "      <td>21</td>\n",
              "      <td>126</td>\n",
              "      <td>50</td>\n",
              "      <td>2907</td>\n",
              "    </tr>\n",
              "    <tr>\n",
              "      <th>Peter Werner Eklund</th>\n",
              "      <td>Professor</td>\n",
              "      <td>3962</td>\n",
              "      <td>34</td>\n",
              "      <td>14</td>\n",
              "      <td>72</td>\n",
              "      <td>23</td>\n",
              "      <td>778</td>\n",
              "    </tr>\n",
              "    <tr>\n",
              "      <th>Jinho Choi</th>\n",
              "      <td>Professor</td>\n",
              "      <td>7814</td>\n",
              "      <td>37</td>\n",
              "      <td>29</td>\n",
              "      <td>167</td>\n",
              "      <td>95</td>\n",
              "      <td>5023</td>\n",
              "    </tr>\n",
              "    <tr>\n",
              "      <th>Terry Caelli</th>\n",
              "      <td>Professor</td>\n",
              "      <td>8662</td>\n",
              "      <td>51</td>\n",
              "      <td>20</td>\n",
              "      <td>176</td>\n",
              "      <td>36</td>\n",
              "      <td>1472</td>\n",
              "    </tr>\n",
              "    <tr>\n",
              "      <th>Gleb Beliakov</th>\n",
              "      <td>Professor</td>\n",
              "      <td>8173</td>\n",
              "      <td>42</td>\n",
              "      <td>32</td>\n",
              "      <td>135</td>\n",
              "      <td>86</td>\n",
              "      <td>4632</td>\n",
              "    </tr>\n",
              "    <tr>\n",
              "      <th>Andrzej Goscinski</th>\n",
              "      <td>Emeritus Professor</td>\n",
              "      <td>NA</td>\n",
              "      <td>NA</td>\n",
              "      <td>NA</td>\n",
              "      <td>NA</td>\n",
              "      <td>NA</td>\n",
              "      <td>NA</td>\n",
              "    </tr>\n",
              "    <tr>\n",
              "      <th>Lynn Batten</th>\n",
              "      <td>Emeritus Professor</td>\n",
              "      <td>2528</td>\n",
              "      <td>23</td>\n",
              "      <td>16</td>\n",
              "      <td>45</td>\n",
              "      <td>21</td>\n",
              "      <td>1172</td>\n",
              "    </tr>\n",
              "    <tr>\n",
              "      <th>Richard Dazeley</th>\n",
              "      <td>Associate Professor</td>\n",
              "      <td>1470</td>\n",
              "      <td>16</td>\n",
              "      <td>13</td>\n",
              "      <td>24</td>\n",
              "      <td>15</td>\n",
              "      <td>948</td>\n",
              "    </tr>\n",
              "    <tr>\n",
              "      <th>Gang Li</th>\n",
              "      <td>Associate Professor</td>\n",
              "      <td>4111</td>\n",
              "      <td>28</td>\n",
              "      <td>24</td>\n",
              "      <td>88</td>\n",
              "      <td>60</td>\n",
              "      <td>2821</td>\n",
              "    </tr>\n",
              "    <tr>\n",
              "      <th>Jianxin Li</th>\n",
              "      <td>Associate Professor</td>\n",
              "      <td>1465</td>\n",
              "      <td>21</td>\n",
              "      <td>18</td>\n",
              "      <td>38</td>\n",
              "      <td>31</td>\n",
              "      <td>1086</td>\n",
              "    </tr>\n",
              "    <tr>\n",
              "      <th>Xiao Liu</th>\n",
              "      <td>Associate Professor</td>\n",
              "      <td>3219</td>\n",
              "      <td>26</td>\n",
              "      <td>20</td>\n",
              "      <td>52</td>\n",
              "      <td>42</td>\n",
              "      <td>1749</td>\n",
              "    </tr>\n",
              "    <tr>\n",
              "      <th>Vicky Mak-Hau</th>\n",
              "      <td>Associate Professor</td>\n",
              "      <td>385</td>\n",
              "      <td>11</td>\n",
              "      <td>8</td>\n",
              "      <td>14</td>\n",
              "      <td>6</td>\n",
              "      <td>227</td>\n",
              "    </tr>\n",
              "    <tr>\n",
              "      <th>Tim Wilkin</th>\n",
              "      <td>Associate Professor</td>\n",
              "      <td>387</td>\n",
              "      <td>10</td>\n",
              "      <td>10</td>\n",
              "      <td>11</td>\n",
              "      <td>10</td>\n",
              "      <td>310</td>\n",
              "    </tr>\n",
              "    <tr>\n",
              "      <th>Andrew Cain</th>\n",
              "      <td>Associate Professor</td>\n",
              "      <td>289</td>\n",
              "      <td>10</td>\n",
              "      <td>8</td>\n",
              "      <td>11</td>\n",
              "      <td>8</td>\n",
              "      <td>192</td>\n",
              "    </tr>\n",
              "    <tr>\n",
              "      <th>Mohamed Abdelrazek</th>\n",
              "      <td>Associate Professor</td>\n",
              "      <td>1856</td>\n",
              "      <td>16</td>\n",
              "      <td>15</td>\n",
              "      <td>27</td>\n",
              "      <td>23</td>\n",
              "      <td>1256</td>\n",
              "    </tr>\n",
              "    <tr>\n",
              "      <th>Guangyan Huang</th>\n",
              "      <td>Associate Professor</td>\n",
              "      <td>1128</td>\n",
              "      <td>20</td>\n",
              "      <td>18</td>\n",
              "      <td>28</td>\n",
              "      <td>23</td>\n",
              "      <td>809</td>\n",
              "    </tr>\n",
              "  </tbody>\n",
              "</table>\n",
              "</div>"
            ],
            "text/plain": [
              "                                    title  ... Citations_since_2016\n",
              "Name                                       ...                     \n",
              "Arkady Zaslavsky                Professor  ...                 8330\n",
              "Antonio Robles-Kelly            Professor  ...                 1534\n",
              "Jemal Abawajy                   Professor  ...                   NA\n",
              "Maia Angelova                   Professor  ...                  397\n",
              "John Yearwood                   Professor  ...                 1991\n",
              "Yong Xiang                      Professor  ...                 4969\n",
              "Jean-Guy Schneider              Professor  ...                  643\n",
              "Robin Doss                      Professor  ...                   NA\n",
              "Seng W. Loke                    Professor  ...                 2907\n",
              "Peter Werner Eklund             Professor  ...                  778\n",
              "Jinho Choi                      Professor  ...                 5023\n",
              "Terry Caelli                    Professor  ...                 1472\n",
              "Gleb Beliakov                   Professor  ...                 4632\n",
              "Andrzej Goscinski      Emeritus Professor  ...                   NA\n",
              "Lynn Batten            Emeritus Professor  ...                 1172\n",
              "Richard Dazeley       Associate Professor  ...                  948\n",
              "Gang Li               Associate Professor  ...                 2821\n",
              "Jianxin Li            Associate Professor  ...                 1086\n",
              "Xiao Liu              Associate Professor  ...                 1749\n",
              "Vicky Mak-Hau         Associate Professor  ...                  227\n",
              "Tim Wilkin            Associate Professor  ...                  310\n",
              "Andrew Cain           Associate Professor  ...                  192\n",
              "Mohamed Abdelrazek    Associate Professor  ...                 1256\n",
              "Guangyan Huang        Associate Professor  ...                  809\n",
              "\n",
              "[24 rows x 7 columns]"
            ]
          },
          "metadata": {
            "tags": []
          },
          "execution_count": 296
        }
      ]
    },
    {
      "cell_type": "code",
      "metadata": {
        "id": "9uSuBH_xRV5K"
      },
      "source": [
        "#Professor-citation-information.csv\n",
        "df_final_citation.to_csv(r\"/content/Professor-citation-information.csv\", index=True, header=True)"
      ],
      "execution_count": null,
      "outputs": []
    },
    {
      "cell_type": "markdown",
      "metadata": {
        "id": "7xxoyZvzxgmK"
      },
      "source": [
        "### 4.2 Find out the professor name having the most citations\n",
        "\n",
        "<div class=\"alert alert-block alert-warning\">\n",
        "\n",
        "**Code**:\n",
        "    Find out the professor name having the most citations (please remove those professor who does not have google scholar page)\n",
        "</div>\n",
        "\n",
        "<div class=\"alert alert-block alert-warning\">\n",
        "    \n",
        "**Report**:\n",
        "    **Part II 4.2** Please include your result for this coding task into your report Part II, with proper section title '4.2'.\n",
        "</div>\n"
      ]
    },
    {
      "cell_type": "code",
      "metadata": {
        "id": "ay_z3pC8xntr"
      },
      "source": [
        "# find out the professor name having the most citations (please remove those professor who does not have google scholar page)\n",
        "\n",
        "#Removing professor with NA first\n",
        "\n",
        "df_prof_remove = df_final_citation.drop('Jemal Abawajy')\n",
        "df_prof_remove2 = df_prof_remove.drop('Robin Doss')\n",
        "df_prof_remove3 = df_prof_remove2.drop('Andrzej Goscinski')"
      ],
      "execution_count": null,
      "outputs": []
    },
    {
      "cell_type": "code",
      "metadata": {
        "id": "wEf7KgdxVnuW"
      },
      "source": [
        "#Dataframe with all the missing professors removed\n",
        "df_prof_remove3"
      ],
      "execution_count": null,
      "outputs": []
    },
    {
      "cell_type": "code",
      "metadata": {
        "id": "4svd4ol_Wa57"
      },
      "source": [
        "#Change Citations_all to an integer first\n",
        "df_prof_remove3['Citations_all']=df_prof_remove3['Citations_all'].astype(int)"
      ],
      "execution_count": null,
      "outputs": []
    },
    {
      "cell_type": "code",
      "metadata": {
        "colab": {
          "base_uri": "https://localhost:8080/"
        },
        "id": "e9XYiywAW8ZQ",
        "outputId": "5edcf336-2e6a-41b9-c092-89770532db89"
      },
      "source": [
        "#Check if Citations_all has been change to an integer\n",
        "df_prof_remove3.dtypes"
      ],
      "execution_count": null,
      "outputs": [
        {
          "output_type": "execute_result",
          "data": {
            "text/plain": [
              "title                   object\n",
              "Citations_all            int64\n",
              "H_index_all             object\n",
              "H_index_since_2016      object\n",
              "I10_index_all           object\n",
              "I10_index_since_2016    object\n",
              "Citations_since_2016    object\n",
              "dtype: object"
            ]
          },
          "metadata": {
            "tags": []
          },
          "execution_count": 322
        }
      ]
    },
    {
      "cell_type": "code",
      "metadata": {
        "colab": {
          "base_uri": "https://localhost:8080/",
          "height": 111
        },
        "id": "bL0BR-ToYn1Z",
        "outputId": "5813b834-0ed2-4759-809b-958f29f26071"
      },
      "source": [
        "# The professor with the most citation\n",
        "df_prof_remove3.nlargest(1, 'Citations_all')"
      ],
      "execution_count": null,
      "outputs": [
        {
          "output_type": "execute_result",
          "data": {
            "text/html": [
              "<div>\n",
              "<style scoped>\n",
              "    .dataframe tbody tr th:only-of-type {\n",
              "        vertical-align: middle;\n",
              "    }\n",
              "\n",
              "    .dataframe tbody tr th {\n",
              "        vertical-align: top;\n",
              "    }\n",
              "\n",
              "    .dataframe thead th {\n",
              "        text-align: right;\n",
              "    }\n",
              "</style>\n",
              "<table border=\"1\" class=\"dataframe\">\n",
              "  <thead>\n",
              "    <tr style=\"text-align: right;\">\n",
              "      <th></th>\n",
              "      <th>title</th>\n",
              "      <th>Citations_all</th>\n",
              "      <th>H_index_all</th>\n",
              "      <th>H_index_since_2016</th>\n",
              "      <th>I10_index_all</th>\n",
              "      <th>I10_index_since_2016</th>\n",
              "      <th>Citations_since_2016</th>\n",
              "    </tr>\n",
              "    <tr>\n",
              "      <th>Name</th>\n",
              "      <th></th>\n",
              "      <th></th>\n",
              "      <th></th>\n",
              "      <th></th>\n",
              "      <th></th>\n",
              "      <th></th>\n",
              "      <th></th>\n",
              "    </tr>\n",
              "  </thead>\n",
              "  <tbody>\n",
              "    <tr>\n",
              "      <th>Arkady Zaslavsky</th>\n",
              "      <td>Professor</td>\n",
              "      <td>14930</td>\n",
              "      <td>50</td>\n",
              "      <td>33</td>\n",
              "      <td>177</td>\n",
              "      <td>80</td>\n",
              "      <td>8330</td>\n",
              "    </tr>\n",
              "  </tbody>\n",
              "</table>\n",
              "</div>"
            ],
            "text/plain": [
              "                      title  ...  Citations_since_2016\n",
              "Name                         ...                      \n",
              "Arkady Zaslavsky  Professor  ...                  8330\n",
              "\n",
              "[1 rows x 7 columns]"
            ]
          },
          "metadata": {
            "tags": []
          },
          "execution_count": 325
        }
      ]
    },
    {
      "cell_type": "markdown",
      "metadata": {
        "id": "MTlPxwg5xo_U"
      },
      "source": [
        "### 4.3 Find out the row for associate professor having the most i10-index since 2016\n",
        "<div class=\"alert alert-block alert-warning\">\n",
        "\n",
        "**Code**:\n",
        "    Find out the row for associate professor having the most i10-index since 2016 (please remove those professor who does not have google scholar page)\n",
        "</div>\n",
        "\n",
        "\n",
        "<div class=\"alert alert-block alert-warning\">\n",
        "    \n",
        "**Report**:\n",
        "    **Part II 4.3** Please include your result for this coding task into your report Part II, with proper section title '4.3'.\n",
        "</div>\n"
      ]
    },
    {
      "cell_type": "code",
      "metadata": {
        "id": "MjpexWtRxwA5"
      },
      "source": [
        "# find out the row for associate professor having the most i10_index since 2016 (please remove those professor who does not have google scholar page)\n",
        "\n",
        "#Change I10_index_since_2016 to an integer first\n",
        "df_prof_remove3['I10_index_since_2016']=df_prof_remove3['I10_index_since_2016'].astype(int)\n",
        "\n",
        "#Check if I10_index_since_2016 is changed to an integer\n",
        "df_prof_remove3.dtypes\n",
        "\n",
        "\n"
      ],
      "execution_count": null,
      "outputs": []
    },
    {
      "cell_type": "code",
      "metadata": {
        "id": "huUIvdCSbOCW"
      },
      "source": [
        "#Filter dataframe for associate professors only\n",
        "associate_professors = 'Associate Professor'\n",
        "\n",
        "#Filter for Associate professors\n",
        "df_assoc_professors =df_prof_remove3[df_prof_remove3['title']==associate_professors]\n",
        "df_assoc_professors"
      ],
      "execution_count": null,
      "outputs": []
    },
    {
      "cell_type": "code",
      "metadata": {
        "colab": {
          "base_uri": "https://localhost:8080/",
          "height": 111
        },
        "id": "iMbUI7gNa0MF",
        "outputId": "abc8fa1b-6ce1-483a-fa6e-eeb62ff149f1"
      },
      "source": [
        "# The associate professor with the most 'I10_index_since_2016'\n",
        "df_assoc_professors.nlargest(1, 'I10_index_since_2016')"
      ],
      "execution_count": null,
      "outputs": [
        {
          "output_type": "execute_result",
          "data": {
            "text/html": [
              "<div>\n",
              "<style scoped>\n",
              "    .dataframe tbody tr th:only-of-type {\n",
              "        vertical-align: middle;\n",
              "    }\n",
              "\n",
              "    .dataframe tbody tr th {\n",
              "        vertical-align: top;\n",
              "    }\n",
              "\n",
              "    .dataframe thead th {\n",
              "        text-align: right;\n",
              "    }\n",
              "</style>\n",
              "<table border=\"1\" class=\"dataframe\">\n",
              "  <thead>\n",
              "    <tr style=\"text-align: right;\">\n",
              "      <th></th>\n",
              "      <th>title</th>\n",
              "      <th>Citations_all</th>\n",
              "      <th>H_index_all</th>\n",
              "      <th>H_index_since_2016</th>\n",
              "      <th>I10_index_all</th>\n",
              "      <th>I10_index_since_2016</th>\n",
              "      <th>Citations_since_2016</th>\n",
              "    </tr>\n",
              "    <tr>\n",
              "      <th>Name</th>\n",
              "      <th></th>\n",
              "      <th></th>\n",
              "      <th></th>\n",
              "      <th></th>\n",
              "      <th></th>\n",
              "      <th></th>\n",
              "      <th></th>\n",
              "    </tr>\n",
              "  </thead>\n",
              "  <tbody>\n",
              "    <tr>\n",
              "      <th>Gang Li</th>\n",
              "      <td>Associate Professor</td>\n",
              "      <td>4111</td>\n",
              "      <td>28</td>\n",
              "      <td>24</td>\n",
              "      <td>88</td>\n",
              "      <td>60</td>\n",
              "      <td>2821</td>\n",
              "    </tr>\n",
              "  </tbody>\n",
              "</table>\n",
              "</div>"
            ],
            "text/plain": [
              "                       title  ...  Citations_since_2016\n",
              "Name                          ...                      \n",
              "Gang Li  Associate Professor  ...                  2821\n",
              "\n",
              "[1 rows x 7 columns]"
            ]
          },
          "metadata": {
            "tags": []
          },
          "execution_count": 334
        }
      ]
    },
    {
      "cell_type": "markdown",
      "metadata": {
        "id": "lsHSp2H9xxRg"
      },
      "source": [
        "### 4.4 Find out all the professors name who has the citations_since2016 > 2500\n",
        "<div class=\"alert alert-block alert-warning\">\n",
        "\n",
        "**Code**:\n",
        "    Find out all the professors name who has the citations_since2016 > 2500 (please remove those professor who does not have google scholar page)\n",
        "</div>\n",
        "\n",
        "<div class=\"alert alert-block alert-warning\">\n",
        "    \n",
        "**Report**:\n",
        "    **Part II 4.4** Please include your result for this coding task into your report Part II, with proper section title '4.4'.\n",
        "</div>\n"
      ]
    },
    {
      "cell_type": "code",
      "metadata": {
        "id": "ZD352krRx5Dk",
        "colab": {
          "base_uri": "https://localhost:8080/",
          "height": 266
        },
        "outputId": "c766480a-4208-408b-fe76-0c9faea480a4"
      },
      "source": [
        "# find out all the professors name who has the citations_since2016 > 2500\n",
        "\n",
        "#Change citations_since2016 to an integer first\n",
        "df_prof_remove3['Citations_since_2016']=df_prof_remove3['Citations_since_2016'].astype(int)\n",
        "\n",
        "#Check if I10_index_since_2016 is changed to an integer\n",
        "df_prof_remove3.dtypes\n",
        "\n",
        "#Filter all the professors name who has the citations_since2016 > 2500\n",
        "df_filter_cit_2016 = df_prof_remove3[df_prof_remove3['Citations_since_2016'] > 2500 ]\n",
        "df_filter_cit_2016"
      ],
      "execution_count": null,
      "outputs": [
        {
          "output_type": "execute_result",
          "data": {
            "text/html": [
              "<div>\n",
              "<style scoped>\n",
              "    .dataframe tbody tr th:only-of-type {\n",
              "        vertical-align: middle;\n",
              "    }\n",
              "\n",
              "    .dataframe tbody tr th {\n",
              "        vertical-align: top;\n",
              "    }\n",
              "\n",
              "    .dataframe thead th {\n",
              "        text-align: right;\n",
              "    }\n",
              "</style>\n",
              "<table border=\"1\" class=\"dataframe\">\n",
              "  <thead>\n",
              "    <tr style=\"text-align: right;\">\n",
              "      <th></th>\n",
              "      <th>title</th>\n",
              "      <th>Citations_all</th>\n",
              "      <th>H_index_all</th>\n",
              "      <th>H_index_since_2016</th>\n",
              "      <th>I10_index_all</th>\n",
              "      <th>I10_index_since_2016</th>\n",
              "      <th>Citations_since_2016</th>\n",
              "    </tr>\n",
              "    <tr>\n",
              "      <th>Name</th>\n",
              "      <th></th>\n",
              "      <th></th>\n",
              "      <th></th>\n",
              "      <th></th>\n",
              "      <th></th>\n",
              "      <th></th>\n",
              "      <th></th>\n",
              "    </tr>\n",
              "  </thead>\n",
              "  <tbody>\n",
              "    <tr>\n",
              "      <th>Arkady Zaslavsky</th>\n",
              "      <td>Professor</td>\n",
              "      <td>14930</td>\n",
              "      <td>50</td>\n",
              "      <td>33</td>\n",
              "      <td>177</td>\n",
              "      <td>80</td>\n",
              "      <td>8330</td>\n",
              "    </tr>\n",
              "    <tr>\n",
              "      <th>Yong Xiang</th>\n",
              "      <td>Professor</td>\n",
              "      <td>6306</td>\n",
              "      <td>40</td>\n",
              "      <td>35</td>\n",
              "      <td>118</td>\n",
              "      <td>95</td>\n",
              "      <td>4969</td>\n",
              "    </tr>\n",
              "    <tr>\n",
              "      <th>Seng W. Loke</th>\n",
              "      <td>Professor</td>\n",
              "      <td>7179</td>\n",
              "      <td>38</td>\n",
              "      <td>21</td>\n",
              "      <td>126</td>\n",
              "      <td>50</td>\n",
              "      <td>2907</td>\n",
              "    </tr>\n",
              "    <tr>\n",
              "      <th>Jinho Choi</th>\n",
              "      <td>Professor</td>\n",
              "      <td>7814</td>\n",
              "      <td>37</td>\n",
              "      <td>29</td>\n",
              "      <td>167</td>\n",
              "      <td>95</td>\n",
              "      <td>5023</td>\n",
              "    </tr>\n",
              "    <tr>\n",
              "      <th>Gleb Beliakov</th>\n",
              "      <td>Professor</td>\n",
              "      <td>8173</td>\n",
              "      <td>42</td>\n",
              "      <td>32</td>\n",
              "      <td>135</td>\n",
              "      <td>86</td>\n",
              "      <td>4632</td>\n",
              "    </tr>\n",
              "    <tr>\n",
              "      <th>Gang Li</th>\n",
              "      <td>Associate Professor</td>\n",
              "      <td>4111</td>\n",
              "      <td>28</td>\n",
              "      <td>24</td>\n",
              "      <td>88</td>\n",
              "      <td>60</td>\n",
              "      <td>2821</td>\n",
              "    </tr>\n",
              "  </tbody>\n",
              "</table>\n",
              "</div>"
            ],
            "text/plain": [
              "                                title  ...  Citations_since_2016\n",
              "Name                                   ...                      \n",
              "Arkady Zaslavsky            Professor  ...                  8330\n",
              "Yong Xiang                  Professor  ...                  4969\n",
              "Seng W. Loke                Professor  ...                  2907\n",
              "Jinho Choi                  Professor  ...                  5023\n",
              "Gleb Beliakov               Professor  ...                  4632\n",
              "Gang Li           Associate Professor  ...                  2821\n",
              "\n",
              "[6 rows x 7 columns]"
            ]
          },
          "metadata": {
            "tags": []
          },
          "execution_count": 338
        }
      ]
    }
  ]
}